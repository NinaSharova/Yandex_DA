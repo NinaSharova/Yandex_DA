{
 "cells": [
  {
   "cell_type": "markdown",
   "metadata": {},
   "source": [
    "# Исследование компьютерных игр\n",
    "\n",
    "Необходимо выявить определяющие успешность игр, закономерности для интернет-магазина «Стримчик» на основании данных из открытых источников (исторических данных о продажах игр, оценок пользователей и экспертов, сведений о жанрах и платформах) с целью выявления потенциально популярного продукта и планирования рекламных кампаний.\n",
    "\n",
    "##  Изучение общей информации"
   ]
  },
  {
   "cell_type": "code",
   "execution_count": 1,
   "metadata": {},
   "outputs": [],
   "source": [
    "#импортируем библиотеки\n",
    "import pandas as pd\n",
    "import matplotlib.pyplot as plt\n",
    "import numpy as np\n",
    "\n",
    "import warnings\n",
    "warnings.filterwarnings('ignore')\n",
    "\n",
    "from scipy import stats as st"
   ]
  },
  {
   "cell_type": "code",
   "execution_count": 2,
   "metadata": {},
   "outputs": [
    {
     "data": {
      "text/html": [
       "<div>\n",
       "<style scoped>\n",
       "    .dataframe tbody tr th:only-of-type {\n",
       "        vertical-align: middle;\n",
       "    }\n",
       "\n",
       "    .dataframe tbody tr th {\n",
       "        vertical-align: top;\n",
       "    }\n",
       "\n",
       "    .dataframe thead th {\n",
       "        text-align: right;\n",
       "    }\n",
       "</style>\n",
       "<table border=\"1\" class=\"dataframe\">\n",
       "  <thead>\n",
       "    <tr style=\"text-align: right;\">\n",
       "      <th></th>\n",
       "      <th>Name</th>\n",
       "      <th>Platform</th>\n",
       "      <th>Year_of_Release</th>\n",
       "      <th>Genre</th>\n",
       "      <th>NA_sales</th>\n",
       "      <th>EU_sales</th>\n",
       "      <th>JP_sales</th>\n",
       "      <th>Other_sales</th>\n",
       "      <th>Critic_Score</th>\n",
       "      <th>User_Score</th>\n",
       "      <th>Rating</th>\n",
       "    </tr>\n",
       "  </thead>\n",
       "  <tbody>\n",
       "    <tr>\n",
       "      <td>0</td>\n",
       "      <td>Wii Sports</td>\n",
       "      <td>Wii</td>\n",
       "      <td>2,006.00</td>\n",
       "      <td>Sports</td>\n",
       "      <td>41.36</td>\n",
       "      <td>28.96</td>\n",
       "      <td>3.77</td>\n",
       "      <td>8.45</td>\n",
       "      <td>76.00</td>\n",
       "      <td>8</td>\n",
       "      <td>E</td>\n",
       "    </tr>\n",
       "    <tr>\n",
       "      <td>1</td>\n",
       "      <td>Super Mario Bros.</td>\n",
       "      <td>NES</td>\n",
       "      <td>1,985.00</td>\n",
       "      <td>Platform</td>\n",
       "      <td>29.08</td>\n",
       "      <td>3.58</td>\n",
       "      <td>6.81</td>\n",
       "      <td>0.77</td>\n",
       "      <td>nan</td>\n",
       "      <td>NaN</td>\n",
       "      <td>NaN</td>\n",
       "    </tr>\n",
       "    <tr>\n",
       "      <td>2</td>\n",
       "      <td>Mario Kart Wii</td>\n",
       "      <td>Wii</td>\n",
       "      <td>2,008.00</td>\n",
       "      <td>Racing</td>\n",
       "      <td>15.68</td>\n",
       "      <td>12.76</td>\n",
       "      <td>3.79</td>\n",
       "      <td>3.29</td>\n",
       "      <td>82.00</td>\n",
       "      <td>8.3</td>\n",
       "      <td>E</td>\n",
       "    </tr>\n",
       "    <tr>\n",
       "      <td>3</td>\n",
       "      <td>Wii Sports Resort</td>\n",
       "      <td>Wii</td>\n",
       "      <td>2,009.00</td>\n",
       "      <td>Sports</td>\n",
       "      <td>15.61</td>\n",
       "      <td>10.93</td>\n",
       "      <td>3.28</td>\n",
       "      <td>2.95</td>\n",
       "      <td>80.00</td>\n",
       "      <td>8</td>\n",
       "      <td>E</td>\n",
       "    </tr>\n",
       "    <tr>\n",
       "      <td>4</td>\n",
       "      <td>Pokemon Red/Pokemon Blue</td>\n",
       "      <td>GB</td>\n",
       "      <td>1,996.00</td>\n",
       "      <td>Role-Playing</td>\n",
       "      <td>11.27</td>\n",
       "      <td>8.89</td>\n",
       "      <td>10.22</td>\n",
       "      <td>1.00</td>\n",
       "      <td>nan</td>\n",
       "      <td>NaN</td>\n",
       "      <td>NaN</td>\n",
       "    </tr>\n",
       "    <tr>\n",
       "      <td>5</td>\n",
       "      <td>Tetris</td>\n",
       "      <td>GB</td>\n",
       "      <td>1,989.00</td>\n",
       "      <td>Puzzle</td>\n",
       "      <td>23.20</td>\n",
       "      <td>2.26</td>\n",
       "      <td>4.22</td>\n",
       "      <td>0.58</td>\n",
       "      <td>nan</td>\n",
       "      <td>NaN</td>\n",
       "      <td>NaN</td>\n",
       "    </tr>\n",
       "    <tr>\n",
       "      <td>6</td>\n",
       "      <td>New Super Mario Bros.</td>\n",
       "      <td>DS</td>\n",
       "      <td>2,006.00</td>\n",
       "      <td>Platform</td>\n",
       "      <td>11.28</td>\n",
       "      <td>9.14</td>\n",
       "      <td>6.50</td>\n",
       "      <td>2.88</td>\n",
       "      <td>89.00</td>\n",
       "      <td>8.5</td>\n",
       "      <td>E</td>\n",
       "    </tr>\n",
       "    <tr>\n",
       "      <td>7</td>\n",
       "      <td>Wii Play</td>\n",
       "      <td>Wii</td>\n",
       "      <td>2,006.00</td>\n",
       "      <td>Misc</td>\n",
       "      <td>13.96</td>\n",
       "      <td>9.18</td>\n",
       "      <td>2.93</td>\n",
       "      <td>2.84</td>\n",
       "      <td>58.00</td>\n",
       "      <td>6.6</td>\n",
       "      <td>E</td>\n",
       "    </tr>\n",
       "    <tr>\n",
       "      <td>8</td>\n",
       "      <td>New Super Mario Bros. Wii</td>\n",
       "      <td>Wii</td>\n",
       "      <td>2,009.00</td>\n",
       "      <td>Platform</td>\n",
       "      <td>14.44</td>\n",
       "      <td>6.94</td>\n",
       "      <td>4.70</td>\n",
       "      <td>2.24</td>\n",
       "      <td>87.00</td>\n",
       "      <td>8.4</td>\n",
       "      <td>E</td>\n",
       "    </tr>\n",
       "    <tr>\n",
       "      <td>9</td>\n",
       "      <td>Duck Hunt</td>\n",
       "      <td>NES</td>\n",
       "      <td>1,984.00</td>\n",
       "      <td>Shooter</td>\n",
       "      <td>26.93</td>\n",
       "      <td>0.63</td>\n",
       "      <td>0.28</td>\n",
       "      <td>0.47</td>\n",
       "      <td>nan</td>\n",
       "      <td>NaN</td>\n",
       "      <td>NaN</td>\n",
       "    </tr>\n",
       "  </tbody>\n",
       "</table>\n",
       "</div>"
      ],
      "text/plain": [
       "                        Name Platform  Year_of_Release         Genre  \\\n",
       "0                 Wii Sports      Wii         2,006.00        Sports   \n",
       "1          Super Mario Bros.      NES         1,985.00      Platform   \n",
       "2             Mario Kart Wii      Wii         2,008.00        Racing   \n",
       "3          Wii Sports Resort      Wii         2,009.00        Sports   \n",
       "4   Pokemon Red/Pokemon Blue       GB         1,996.00  Role-Playing   \n",
       "5                     Tetris       GB         1,989.00        Puzzle   \n",
       "6      New Super Mario Bros.       DS         2,006.00      Platform   \n",
       "7                   Wii Play      Wii         2,006.00          Misc   \n",
       "8  New Super Mario Bros. Wii      Wii         2,009.00      Platform   \n",
       "9                  Duck Hunt      NES         1,984.00       Shooter   \n",
       "\n",
       "   NA_sales  EU_sales  JP_sales  Other_sales  Critic_Score User_Score Rating  \n",
       "0     41.36     28.96      3.77         8.45         76.00          8      E  \n",
       "1     29.08      3.58      6.81         0.77           nan        NaN    NaN  \n",
       "2     15.68     12.76      3.79         3.29         82.00        8.3      E  \n",
       "3     15.61     10.93      3.28         2.95         80.00          8      E  \n",
       "4     11.27      8.89     10.22         1.00           nan        NaN    NaN  \n",
       "5     23.20      2.26      4.22         0.58           nan        NaN    NaN  \n",
       "6     11.28      9.14      6.50         2.88         89.00        8.5      E  \n",
       "7     13.96      9.18      2.93         2.84         58.00        6.6      E  \n",
       "8     14.44      6.94      4.70         2.24         87.00        8.4      E  \n",
       "9     26.93      0.63      0.28         0.47           nan        NaN    NaN  "
      ]
     },
     "execution_count": 2,
     "metadata": {},
     "output_type": "execute_result"
    }
   ],
   "source": [
    "#откроем файл games.csv, укажем знаков после запятой и что первая строка является заголовком\n",
    "data = pd.read_csv('/datasets/games.csv', header = 0)\n",
    "pd.set_option('display.float_format', '{:,.2f}'.format)\n",
    "\n",
    "data.head(10) #выведем первые 10 строк таблицы"
   ]
  },
  {
   "cell_type": "markdown",
   "metadata": {},
   "source": [
    "В стобце Name встречаются названия игр с платформами, хотя платформа указана в отдельном столбце.<br>\n",
    "Столбец с годом выхода игры требует изменения формата значений.<br>\n",
    "Требуется проверить значения в столбце Rating.<br>\n",
    "Проверить категории в столбцах Platform и Genre.<br>\n",
    "Привести заголовки столбцов, названия игр, платформы и жарны к нижнему регистру."
   ]
  },
  {
   "cell_type": "code",
   "execution_count": 3,
   "metadata": {},
   "outputs": [
    {
     "name": "stdout",
     "output_type": "stream",
     "text": [
      "<class 'pandas.core.frame.DataFrame'>\n",
      "RangeIndex: 16715 entries, 0 to 16714\n",
      "Data columns (total 11 columns):\n",
      "Name               16713 non-null object\n",
      "Platform           16715 non-null object\n",
      "Year_of_Release    16446 non-null float64\n",
      "Genre              16713 non-null object\n",
      "NA_sales           16715 non-null float64\n",
      "EU_sales           16715 non-null float64\n",
      "JP_sales           16715 non-null float64\n",
      "Other_sales        16715 non-null float64\n",
      "Critic_Score       8137 non-null float64\n",
      "User_Score         10014 non-null object\n",
      "Rating             9949 non-null object\n",
      "dtypes: float64(6), object(5)\n",
      "memory usage: 1.4+ MB\n"
     ]
    }
   ],
   "source": [
    "#выведем общую информацию о датафрейме\n",
    "data.info()"
   ]
  },
  {
   "cell_type": "markdown",
   "metadata": {},
   "source": [
    "Общая информация показывает, что в данных имеются явные пропуски. Есть проблемы с типом данных в user_score - необходимо проверить причину появления такого типа.\n",
    "\n",
    "### Вывод\n",
    "Изучение общей информации о датафрейме показало, что требуется выполнить следующие действия:\n",
    "- привести к нижнему регистру заголовки столбцов и значения в некоторых столбцах;\n",
    "- указать год выпуска в корректном формате;\n",
    "- проверить унифицированность категорий жанров и платформ, при необходимости внести изменения\n",
    "- проанализировать данные в столбце \"Рейтинг\"\n",
    "- проверить датафрейм на наличие явных дубликатов.\n",
    "\n",
    "## Предварительная обработка данных\n",
    "\n",
    "Приведем к нижнему регистру названия столбцов"
   ]
  },
  {
   "cell_type": "code",
   "execution_count": 4,
   "metadata": {},
   "outputs": [
    {
     "data": {
      "text/html": [
       "<div>\n",
       "<style scoped>\n",
       "    .dataframe tbody tr th:only-of-type {\n",
       "        vertical-align: middle;\n",
       "    }\n",
       "\n",
       "    .dataframe tbody tr th {\n",
       "        vertical-align: top;\n",
       "    }\n",
       "\n",
       "    .dataframe thead th {\n",
       "        text-align: right;\n",
       "    }\n",
       "</style>\n",
       "<table border=\"1\" class=\"dataframe\">\n",
       "  <thead>\n",
       "    <tr style=\"text-align: right;\">\n",
       "      <th></th>\n",
       "      <th>name</th>\n",
       "      <th>platform</th>\n",
       "      <th>year_of_release</th>\n",
       "      <th>genre</th>\n",
       "      <th>na_sales</th>\n",
       "      <th>eu_sales</th>\n",
       "      <th>jp_sales</th>\n",
       "      <th>other_sales</th>\n",
       "      <th>critic_score</th>\n",
       "      <th>user_score</th>\n",
       "      <th>rating</th>\n",
       "    </tr>\n",
       "  </thead>\n",
       "  <tbody>\n",
       "    <tr>\n",
       "      <td>0</td>\n",
       "      <td>Wii Sports</td>\n",
       "      <td>Wii</td>\n",
       "      <td>2,006.00</td>\n",
       "      <td>Sports</td>\n",
       "      <td>41.36</td>\n",
       "      <td>28.96</td>\n",
       "      <td>3.77</td>\n",
       "      <td>8.45</td>\n",
       "      <td>76.00</td>\n",
       "      <td>8</td>\n",
       "      <td>E</td>\n",
       "    </tr>\n",
       "    <tr>\n",
       "      <td>1</td>\n",
       "      <td>Super Mario Bros.</td>\n",
       "      <td>NES</td>\n",
       "      <td>1,985.00</td>\n",
       "      <td>Platform</td>\n",
       "      <td>29.08</td>\n",
       "      <td>3.58</td>\n",
       "      <td>6.81</td>\n",
       "      <td>0.77</td>\n",
       "      <td>nan</td>\n",
       "      <td>NaN</td>\n",
       "      <td>NaN</td>\n",
       "    </tr>\n",
       "    <tr>\n",
       "      <td>2</td>\n",
       "      <td>Mario Kart Wii</td>\n",
       "      <td>Wii</td>\n",
       "      <td>2,008.00</td>\n",
       "      <td>Racing</td>\n",
       "      <td>15.68</td>\n",
       "      <td>12.76</td>\n",
       "      <td>3.79</td>\n",
       "      <td>3.29</td>\n",
       "      <td>82.00</td>\n",
       "      <td>8.3</td>\n",
       "      <td>E</td>\n",
       "    </tr>\n",
       "    <tr>\n",
       "      <td>3</td>\n",
       "      <td>Wii Sports Resort</td>\n",
       "      <td>Wii</td>\n",
       "      <td>2,009.00</td>\n",
       "      <td>Sports</td>\n",
       "      <td>15.61</td>\n",
       "      <td>10.93</td>\n",
       "      <td>3.28</td>\n",
       "      <td>2.95</td>\n",
       "      <td>80.00</td>\n",
       "      <td>8</td>\n",
       "      <td>E</td>\n",
       "    </tr>\n",
       "    <tr>\n",
       "      <td>4</td>\n",
       "      <td>Pokemon Red/Pokemon Blue</td>\n",
       "      <td>GB</td>\n",
       "      <td>1,996.00</td>\n",
       "      <td>Role-Playing</td>\n",
       "      <td>11.27</td>\n",
       "      <td>8.89</td>\n",
       "      <td>10.22</td>\n",
       "      <td>1.00</td>\n",
       "      <td>nan</td>\n",
       "      <td>NaN</td>\n",
       "      <td>NaN</td>\n",
       "    </tr>\n",
       "    <tr>\n",
       "      <td>5</td>\n",
       "      <td>Tetris</td>\n",
       "      <td>GB</td>\n",
       "      <td>1,989.00</td>\n",
       "      <td>Puzzle</td>\n",
       "      <td>23.20</td>\n",
       "      <td>2.26</td>\n",
       "      <td>4.22</td>\n",
       "      <td>0.58</td>\n",
       "      <td>nan</td>\n",
       "      <td>NaN</td>\n",
       "      <td>NaN</td>\n",
       "    </tr>\n",
       "    <tr>\n",
       "      <td>6</td>\n",
       "      <td>New Super Mario Bros.</td>\n",
       "      <td>DS</td>\n",
       "      <td>2,006.00</td>\n",
       "      <td>Platform</td>\n",
       "      <td>11.28</td>\n",
       "      <td>9.14</td>\n",
       "      <td>6.50</td>\n",
       "      <td>2.88</td>\n",
       "      <td>89.00</td>\n",
       "      <td>8.5</td>\n",
       "      <td>E</td>\n",
       "    </tr>\n",
       "    <tr>\n",
       "      <td>7</td>\n",
       "      <td>Wii Play</td>\n",
       "      <td>Wii</td>\n",
       "      <td>2,006.00</td>\n",
       "      <td>Misc</td>\n",
       "      <td>13.96</td>\n",
       "      <td>9.18</td>\n",
       "      <td>2.93</td>\n",
       "      <td>2.84</td>\n",
       "      <td>58.00</td>\n",
       "      <td>6.6</td>\n",
       "      <td>E</td>\n",
       "    </tr>\n",
       "    <tr>\n",
       "      <td>8</td>\n",
       "      <td>New Super Mario Bros. Wii</td>\n",
       "      <td>Wii</td>\n",
       "      <td>2,009.00</td>\n",
       "      <td>Platform</td>\n",
       "      <td>14.44</td>\n",
       "      <td>6.94</td>\n",
       "      <td>4.70</td>\n",
       "      <td>2.24</td>\n",
       "      <td>87.00</td>\n",
       "      <td>8.4</td>\n",
       "      <td>E</td>\n",
       "    </tr>\n",
       "    <tr>\n",
       "      <td>9</td>\n",
       "      <td>Duck Hunt</td>\n",
       "      <td>NES</td>\n",
       "      <td>1,984.00</td>\n",
       "      <td>Shooter</td>\n",
       "      <td>26.93</td>\n",
       "      <td>0.63</td>\n",
       "      <td>0.28</td>\n",
       "      <td>0.47</td>\n",
       "      <td>nan</td>\n",
       "      <td>NaN</td>\n",
       "      <td>NaN</td>\n",
       "    </tr>\n",
       "  </tbody>\n",
       "</table>\n",
       "</div>"
      ],
      "text/plain": [
       "                        name platform  year_of_release         genre  \\\n",
       "0                 Wii Sports      Wii         2,006.00        Sports   \n",
       "1          Super Mario Bros.      NES         1,985.00      Platform   \n",
       "2             Mario Kart Wii      Wii         2,008.00        Racing   \n",
       "3          Wii Sports Resort      Wii         2,009.00        Sports   \n",
       "4   Pokemon Red/Pokemon Blue       GB         1,996.00  Role-Playing   \n",
       "5                     Tetris       GB         1,989.00        Puzzle   \n",
       "6      New Super Mario Bros.       DS         2,006.00      Platform   \n",
       "7                   Wii Play      Wii         2,006.00          Misc   \n",
       "8  New Super Mario Bros. Wii      Wii         2,009.00      Platform   \n",
       "9                  Duck Hunt      NES         1,984.00       Shooter   \n",
       "\n",
       "   na_sales  eu_sales  jp_sales  other_sales  critic_score user_score rating  \n",
       "0     41.36     28.96      3.77         8.45         76.00          8      E  \n",
       "1     29.08      3.58      6.81         0.77           nan        NaN    NaN  \n",
       "2     15.68     12.76      3.79         3.29         82.00        8.3      E  \n",
       "3     15.61     10.93      3.28         2.95         80.00          8      E  \n",
       "4     11.27      8.89     10.22         1.00           nan        NaN    NaN  \n",
       "5     23.20      2.26      4.22         0.58           nan        NaN    NaN  \n",
       "6     11.28      9.14      6.50         2.88         89.00        8.5      E  \n",
       "7     13.96      9.18      2.93         2.84         58.00        6.6      E  \n",
       "8     14.44      6.94      4.70         2.24         87.00        8.4      E  \n",
       "9     26.93      0.63      0.28         0.47           nan        NaN    NaN  "
      ]
     },
     "execution_count": 4,
     "metadata": {},
     "output_type": "execute_result"
    }
   ],
   "source": [
    "data.columns = data.columns.str.lower()\n",
    "data.head(10)"
   ]
  },
  {
   "cell_type": "code",
   "execution_count": 5,
   "metadata": {},
   "outputs": [
    {
     "data": {
      "text/html": [
       "<div>\n",
       "<style scoped>\n",
       "    .dataframe tbody tr th:only-of-type {\n",
       "        vertical-align: middle;\n",
       "    }\n",
       "\n",
       "    .dataframe tbody tr th {\n",
       "        vertical-align: top;\n",
       "    }\n",
       "\n",
       "    .dataframe thead th {\n",
       "        text-align: right;\n",
       "    }\n",
       "</style>\n",
       "<table border=\"1\" class=\"dataframe\">\n",
       "  <thead>\n",
       "    <tr style=\"text-align: right;\">\n",
       "      <th></th>\n",
       "      <th>name</th>\n",
       "      <th>platform</th>\n",
       "      <th>year_of_release</th>\n",
       "      <th>genre</th>\n",
       "      <th>na_sales</th>\n",
       "      <th>eu_sales</th>\n",
       "      <th>jp_sales</th>\n",
       "      <th>other_sales</th>\n",
       "      <th>critic_score</th>\n",
       "      <th>user_score</th>\n",
       "      <th>rating</th>\n",
       "    </tr>\n",
       "  </thead>\n",
       "  <tbody>\n",
       "    <tr>\n",
       "      <td>0</td>\n",
       "      <td>wii sports</td>\n",
       "      <td>wii</td>\n",
       "      <td>2,006.00</td>\n",
       "      <td>sports</td>\n",
       "      <td>41.36</td>\n",
       "      <td>28.96</td>\n",
       "      <td>3.77</td>\n",
       "      <td>8.45</td>\n",
       "      <td>76.00</td>\n",
       "      <td>8</td>\n",
       "      <td>E</td>\n",
       "    </tr>\n",
       "    <tr>\n",
       "      <td>1</td>\n",
       "      <td>super mario bros.</td>\n",
       "      <td>nes</td>\n",
       "      <td>1,985.00</td>\n",
       "      <td>platform</td>\n",
       "      <td>29.08</td>\n",
       "      <td>3.58</td>\n",
       "      <td>6.81</td>\n",
       "      <td>0.77</td>\n",
       "      <td>nan</td>\n",
       "      <td>NaN</td>\n",
       "      <td>NaN</td>\n",
       "    </tr>\n",
       "    <tr>\n",
       "      <td>2</td>\n",
       "      <td>mario kart wii</td>\n",
       "      <td>wii</td>\n",
       "      <td>2,008.00</td>\n",
       "      <td>racing</td>\n",
       "      <td>15.68</td>\n",
       "      <td>12.76</td>\n",
       "      <td>3.79</td>\n",
       "      <td>3.29</td>\n",
       "      <td>82.00</td>\n",
       "      <td>8.3</td>\n",
       "      <td>E</td>\n",
       "    </tr>\n",
       "    <tr>\n",
       "      <td>3</td>\n",
       "      <td>wii sports resort</td>\n",
       "      <td>wii</td>\n",
       "      <td>2,009.00</td>\n",
       "      <td>sports</td>\n",
       "      <td>15.61</td>\n",
       "      <td>10.93</td>\n",
       "      <td>3.28</td>\n",
       "      <td>2.95</td>\n",
       "      <td>80.00</td>\n",
       "      <td>8</td>\n",
       "      <td>E</td>\n",
       "    </tr>\n",
       "    <tr>\n",
       "      <td>4</td>\n",
       "      <td>pokemon red/pokemon blue</td>\n",
       "      <td>gb</td>\n",
       "      <td>1,996.00</td>\n",
       "      <td>role-playing</td>\n",
       "      <td>11.27</td>\n",
       "      <td>8.89</td>\n",
       "      <td>10.22</td>\n",
       "      <td>1.00</td>\n",
       "      <td>nan</td>\n",
       "      <td>NaN</td>\n",
       "      <td>NaN</td>\n",
       "    </tr>\n",
       "  </tbody>\n",
       "</table>\n",
       "</div>"
      ],
      "text/plain": [
       "                       name platform  year_of_release         genre  na_sales  \\\n",
       "0                wii sports      wii         2,006.00        sports     41.36   \n",
       "1         super mario bros.      nes         1,985.00      platform     29.08   \n",
       "2            mario kart wii      wii         2,008.00        racing     15.68   \n",
       "3         wii sports resort      wii         2,009.00        sports     15.61   \n",
       "4  pokemon red/pokemon blue       gb         1,996.00  role-playing     11.27   \n",
       "\n",
       "   eu_sales  jp_sales  other_sales  critic_score user_score rating  \n",
       "0     28.96      3.77         8.45         76.00          8      E  \n",
       "1      3.58      6.81         0.77           nan        NaN    NaN  \n",
       "2     12.76      3.79         3.29         82.00        8.3      E  \n",
       "3     10.93      3.28         2.95         80.00          8      E  \n",
       "4      8.89     10.22         1.00           nan        NaN    NaN  "
      ]
     },
     "execution_count": 5,
     "metadata": {},
     "output_type": "execute_result"
    }
   ],
   "source": [
    "# повторим операции для названия, платформ и жанров\n",
    "data['name'] = data['name'].str.lower() \n",
    "data['genre'] = data['genre'].str.lower() \n",
    "data['platform'] = data['platform'].str.lower() \n",
    "\n",
    "data.head()"
   ]
  },
  {
   "cell_type": "markdown",
   "metadata": {},
   "source": [
    "### Преобразование типов данных\n",
    "\n",
    "Преобразуем данные в столбце Год в формат datetime, чтобы избавиться от дробной части и для дальнейшей корректной группировки данных\n",
    "\n",
    "*(можно было бы сделать просто int, но мне интересно было сделать именно через дату)*"
   ]
  },
  {
   "cell_type": "code",
   "execution_count": 6,
   "metadata": {},
   "outputs": [
    {
     "name": "stdout",
     "output_type": "stream",
     "text": [
      "есть пропуски, преобразование невозможно\n"
     ]
    }
   ],
   "source": [
    "try:\n",
    "    data['year_of_release'] = pd.to_datetime(data['year_of_release'].astype(int), errors='coerce')\n",
    "except:\n",
    "    print('есть пропуски, преобразование невозможно')"
   ]
  },
  {
   "cell_type": "code",
   "execution_count": 7,
   "metadata": {},
   "outputs": [
    {
     "name": "stdout",
     "output_type": "stream",
     "text": [
      "Пропусков в столбце с годом: 269\n"
     ]
    }
   ],
   "source": [
    "#посчитаем количество пропусков в годе выпуска и поверим, можно ли их безболезненно удалить\n",
    "print('Пропусков в столбце с годом:', data['year_of_release'].isna().sum())"
   ]
  },
  {
   "cell_type": "markdown",
   "metadata": {},
   "source": [
    "С учетом 16715 вхождений во весь датафрейм, пропуски в столбце year_of_release составляют чуть более 1,5%. Можем удалить строки с такими пропусками."
   ]
  },
  {
   "cell_type": "code",
   "execution_count": 8,
   "metadata": {},
   "outputs": [],
   "source": [
    "data = data.dropna(subset=['year_of_release'])"
   ]
  },
  {
   "cell_type": "code",
   "execution_count": 9,
   "metadata": {},
   "outputs": [
    {
     "name": "stdout",
     "output_type": "stream",
     "text": [
      "Пропусков в столбце с годом: 0\n"
     ]
    }
   ],
   "source": [
    "#проверим себя\n",
    "print('Пропусков в столбце с годом:', data['year_of_release'].isna().sum())"
   ]
  },
  {
   "cell_type": "code",
   "execution_count": 10,
   "metadata": {},
   "outputs": [],
   "source": [
    "#повторим попытку преобразовать дробное число в год\n",
    "try:\n",
    "    data['year_of_release'] = pd.to_datetime(data['year_of_release'].astype(int).astype(str) + \"-01-01\")\n",
    "except:\n",
    "    print('есть пропуски, преобразование невозможно')"
   ]
  },
  {
   "cell_type": "code",
   "execution_count": 11,
   "metadata": {},
   "outputs": [],
   "source": [
    "#оставим от полученной даты только год\n",
    "data['year_of_release'] = pd.DatetimeIndex(data['year_of_release']).year"
   ]
  },
  {
   "cell_type": "code",
   "execution_count": 12,
   "metadata": {},
   "outputs": [
    {
     "data": {
      "text/html": [
       "<div>\n",
       "<style scoped>\n",
       "    .dataframe tbody tr th:only-of-type {\n",
       "        vertical-align: middle;\n",
       "    }\n",
       "\n",
       "    .dataframe tbody tr th {\n",
       "        vertical-align: top;\n",
       "    }\n",
       "\n",
       "    .dataframe thead th {\n",
       "        text-align: right;\n",
       "    }\n",
       "</style>\n",
       "<table border=\"1\" class=\"dataframe\">\n",
       "  <thead>\n",
       "    <tr style=\"text-align: right;\">\n",
       "      <th></th>\n",
       "      <th>name</th>\n",
       "      <th>platform</th>\n",
       "      <th>year_of_release</th>\n",
       "      <th>genre</th>\n",
       "      <th>na_sales</th>\n",
       "      <th>eu_sales</th>\n",
       "      <th>jp_sales</th>\n",
       "      <th>other_sales</th>\n",
       "      <th>critic_score</th>\n",
       "      <th>user_score</th>\n",
       "      <th>rating</th>\n",
       "    </tr>\n",
       "  </thead>\n",
       "  <tbody>\n",
       "    <tr>\n",
       "      <td>0</td>\n",
       "      <td>wii sports</td>\n",
       "      <td>wii</td>\n",
       "      <td>2006</td>\n",
       "      <td>sports</td>\n",
       "      <td>41.36</td>\n",
       "      <td>28.96</td>\n",
       "      <td>3.77</td>\n",
       "      <td>8.45</td>\n",
       "      <td>76.00</td>\n",
       "      <td>8</td>\n",
       "      <td>E</td>\n",
       "    </tr>\n",
       "    <tr>\n",
       "      <td>1</td>\n",
       "      <td>super mario bros.</td>\n",
       "      <td>nes</td>\n",
       "      <td>1985</td>\n",
       "      <td>platform</td>\n",
       "      <td>29.08</td>\n",
       "      <td>3.58</td>\n",
       "      <td>6.81</td>\n",
       "      <td>0.77</td>\n",
       "      <td>nan</td>\n",
       "      <td>NaN</td>\n",
       "      <td>NaN</td>\n",
       "    </tr>\n",
       "    <tr>\n",
       "      <td>2</td>\n",
       "      <td>mario kart wii</td>\n",
       "      <td>wii</td>\n",
       "      <td>2008</td>\n",
       "      <td>racing</td>\n",
       "      <td>15.68</td>\n",
       "      <td>12.76</td>\n",
       "      <td>3.79</td>\n",
       "      <td>3.29</td>\n",
       "      <td>82.00</td>\n",
       "      <td>8.3</td>\n",
       "      <td>E</td>\n",
       "    </tr>\n",
       "    <tr>\n",
       "      <td>3</td>\n",
       "      <td>wii sports resort</td>\n",
       "      <td>wii</td>\n",
       "      <td>2009</td>\n",
       "      <td>sports</td>\n",
       "      <td>15.61</td>\n",
       "      <td>10.93</td>\n",
       "      <td>3.28</td>\n",
       "      <td>2.95</td>\n",
       "      <td>80.00</td>\n",
       "      <td>8</td>\n",
       "      <td>E</td>\n",
       "    </tr>\n",
       "    <tr>\n",
       "      <td>4</td>\n",
       "      <td>pokemon red/pokemon blue</td>\n",
       "      <td>gb</td>\n",
       "      <td>1996</td>\n",
       "      <td>role-playing</td>\n",
       "      <td>11.27</td>\n",
       "      <td>8.89</td>\n",
       "      <td>10.22</td>\n",
       "      <td>1.00</td>\n",
       "      <td>nan</td>\n",
       "      <td>NaN</td>\n",
       "      <td>NaN</td>\n",
       "    </tr>\n",
       "  </tbody>\n",
       "</table>\n",
       "</div>"
      ],
      "text/plain": [
       "                       name platform  year_of_release         genre  na_sales  \\\n",
       "0                wii sports      wii             2006        sports     41.36   \n",
       "1         super mario bros.      nes             1985      platform     29.08   \n",
       "2            mario kart wii      wii             2008        racing     15.68   \n",
       "3         wii sports resort      wii             2009        sports     15.61   \n",
       "4  pokemon red/pokemon blue       gb             1996  role-playing     11.27   \n",
       "\n",
       "   eu_sales  jp_sales  other_sales  critic_score user_score rating  \n",
       "0     28.96      3.77         8.45         76.00          8      E  \n",
       "1      3.58      6.81         0.77           nan        NaN    NaN  \n",
       "2     12.76      3.79         3.29         82.00        8.3      E  \n",
       "3     10.93      3.28         2.95         80.00          8      E  \n",
       "4      8.89     10.22         1.00           nan        NaN    NaN  "
      ]
     },
     "execution_count": 12,
     "metadata": {},
     "output_type": "execute_result"
    }
   ],
   "source": [
    "#проверим себя\n",
    "data.head()"
   ]
  },
  {
   "cell_type": "markdown",
   "metadata": {},
   "source": [
    "### Обработка пропусков"
   ]
  },
  {
   "cell_type": "code",
   "execution_count": 13,
   "metadata": {},
   "outputs": [
    {
     "data": {
      "text/plain": [
       "name                  2\n",
       "platform              0\n",
       "year_of_release       0\n",
       "genre                 2\n",
       "na_sales              0\n",
       "eu_sales              0\n",
       "jp_sales              0\n",
       "other_sales           0\n",
       "critic_score       8463\n",
       "user_score         6607\n",
       "rating             6678\n",
       "dtype: int64"
      ]
     },
     "execution_count": 13,
     "metadata": {},
     "output_type": "execute_result"
    }
   ],
   "source": [
    "#проверим, где еще остались пропуски\n",
    "data.isna().sum()"
   ]
  },
  {
   "cell_type": "markdown",
   "metadata": {},
   "source": [
    "Две строки с пропусками в названиях и жанре, которые также можно удалить (возможно имеет место ошибка в выгрузке, т.к. данные брались из открытых источников).<br>\n",
    "И большое количество строк с пропусками с рейтингами и оценками. Пропуски могут быть связаны с тем, что некоторые игры могли не попасть в рейтинги, составленные по отдельным жанрам, платформам, тематике и пр. <br>\n",
    "Пропуски в оценках заменить на 0 нельзя, так 0 - это тоже оценка. Оставим пропуски в оценках. <br>\n",
    "Пропуски в рейтингах можно заменить на unknown - не определено. Данные брались из открытых источников, возможно эти игры просто не были прорейтингованы ассоциацией."
   ]
  },
  {
   "cell_type": "code",
   "execution_count": 14,
   "metadata": {},
   "outputs": [
    {
     "name": "stdout",
     "output_type": "stream",
     "text": [
      "Пропуски в столбце с жанром тоже удалены\n"
     ]
    }
   ],
   "source": [
    "# удалим пропуски в столбце name и проверим, не связаны ли эти пропуски с жанрами\n",
    "data = data.dropna(subset=['name'])\n",
    "\n",
    "if data['genre'].isna().sum() == 0:\n",
    "    print('Пропуски в столбце с жанром тоже удалены')"
   ]
  },
  {
   "cell_type": "code",
   "execution_count": 15,
   "metadata": {},
   "outputs": [
    {
     "data": {
      "text/plain": [
       "E       3921\n",
       "T       2905\n",
       "M       1536\n",
       "E10+    1393\n",
       "EC         8\n",
       "K-A        3\n",
       "RP         1\n",
       "AO         1\n",
       "Name: rating, dtype: int64"
      ]
     },
     "execution_count": 15,
     "metadata": {},
     "output_type": "execute_result"
    }
   ],
   "source": [
    "#проверим данные в столбце с рейтингом\n",
    "data['rating'].value_counts()"
   ]
  },
  {
   "cell_type": "markdown",
   "metadata": {},
   "source": [
    "Незначительную часть датасета составляют игры с рейтингами EC, K-A, AO, RP. Также на предыдущем шаге мы выяснили, что в этом столбце есть пропуски. Заменим эти пропуски на временное значение."
   ]
  },
  {
   "cell_type": "code",
   "execution_count": 16,
   "metadata": {},
   "outputs": [],
   "source": [
    "#заменим пропуски на значение \"неизвестно\"\n",
    "data['rating'] = data['rating'].fillna('unknown')"
   ]
  },
  {
   "cell_type": "code",
   "execution_count": 17,
   "metadata": {},
   "outputs": [
    {
     "data": {
      "text/plain": [
       "name                  0\n",
       "platform              0\n",
       "year_of_release       0\n",
       "genre                 0\n",
       "na_sales              0\n",
       "eu_sales              0\n",
       "jp_sales              0\n",
       "other_sales           0\n",
       "critic_score       8461\n",
       "user_score         6605\n",
       "rating                0\n",
       "dtype: int64"
      ]
     },
     "execution_count": 17,
     "metadata": {},
     "output_type": "execute_result"
    }
   ],
   "source": [
    "#проверим еще раз пропуски после обработки\n",
    "data.isna().sum()"
   ]
  },
  {
   "cell_type": "markdown",
   "metadata": {},
   "source": [
    "Из технической документации нам известно, что в столбце user_score есть строки со значениями tbd (To Be Determined - \"Будет определено\"). Посчитаем их количество. "
   ]
  },
  {
   "cell_type": "code",
   "execution_count": 18,
   "metadata": {},
   "outputs": [
    {
     "name": "stdout",
     "output_type": "stream",
     "text": [
      "Строк со значением tbd: 2376\n"
     ]
    }
   ],
   "source": [
    "print('Строк со значением tbd:', (data[data['user_score'] == 'tbd']['user_score']).count())"
   ]
  },
  {
   "cell_type": "code",
   "execution_count": 19,
   "metadata": {},
   "outputs": [
    {
     "data": {
      "text/html": [
       "<div>\n",
       "<style scoped>\n",
       "    .dataframe tbody tr th:only-of-type {\n",
       "        vertical-align: middle;\n",
       "    }\n",
       "\n",
       "    .dataframe tbody tr th {\n",
       "        vertical-align: top;\n",
       "    }\n",
       "\n",
       "    .dataframe thead th {\n",
       "        text-align: right;\n",
       "    }\n",
       "</style>\n",
       "<table border=\"1\" class=\"dataframe\">\n",
       "  <thead>\n",
       "    <tr style=\"text-align: right;\">\n",
       "      <th></th>\n",
       "      <th>name</th>\n",
       "      <th>platform</th>\n",
       "      <th>year_of_release</th>\n",
       "      <th>genre</th>\n",
       "      <th>na_sales</th>\n",
       "      <th>eu_sales</th>\n",
       "      <th>jp_sales</th>\n",
       "      <th>other_sales</th>\n",
       "      <th>critic_score</th>\n",
       "      <th>user_score</th>\n",
       "      <th>rating</th>\n",
       "    </tr>\n",
       "  </thead>\n",
       "  <tbody>\n",
       "    <tr>\n",
       "      <td>119</td>\n",
       "      <td>zumba fitness</td>\n",
       "      <td>wii</td>\n",
       "      <td>2010</td>\n",
       "      <td>sports</td>\n",
       "      <td>3.45</td>\n",
       "      <td>2.59</td>\n",
       "      <td>0.00</td>\n",
       "      <td>0.66</td>\n",
       "      <td>nan</td>\n",
       "      <td>tbd</td>\n",
       "      <td>E</td>\n",
       "    </tr>\n",
       "    <tr>\n",
       "      <td>301</td>\n",
       "      <td>namco museum: 50th anniversary</td>\n",
       "      <td>ps2</td>\n",
       "      <td>2005</td>\n",
       "      <td>misc</td>\n",
       "      <td>2.08</td>\n",
       "      <td>1.35</td>\n",
       "      <td>0.00</td>\n",
       "      <td>0.54</td>\n",
       "      <td>61.00</td>\n",
       "      <td>tbd</td>\n",
       "      <td>E10+</td>\n",
       "    </tr>\n",
       "    <tr>\n",
       "      <td>520</td>\n",
       "      <td>zumba fitness 2</td>\n",
       "      <td>wii</td>\n",
       "      <td>2011</td>\n",
       "      <td>sports</td>\n",
       "      <td>1.51</td>\n",
       "      <td>1.03</td>\n",
       "      <td>0.00</td>\n",
       "      <td>0.27</td>\n",
       "      <td>nan</td>\n",
       "      <td>tbd</td>\n",
       "      <td>T</td>\n",
       "    </tr>\n",
       "    <tr>\n",
       "      <td>645</td>\n",
       "      <td>udraw studio</td>\n",
       "      <td>wii</td>\n",
       "      <td>2010</td>\n",
       "      <td>misc</td>\n",
       "      <td>1.65</td>\n",
       "      <td>0.57</td>\n",
       "      <td>0.00</td>\n",
       "      <td>0.20</td>\n",
       "      <td>71.00</td>\n",
       "      <td>tbd</td>\n",
       "      <td>E</td>\n",
       "    </tr>\n",
       "    <tr>\n",
       "      <td>718</td>\n",
       "      <td>just dance kids</td>\n",
       "      <td>wii</td>\n",
       "      <td>2010</td>\n",
       "      <td>misc</td>\n",
       "      <td>1.52</td>\n",
       "      <td>0.54</td>\n",
       "      <td>0.00</td>\n",
       "      <td>0.18</td>\n",
       "      <td>nan</td>\n",
       "      <td>tbd</td>\n",
       "      <td>E</td>\n",
       "    </tr>\n",
       "    <tr>\n",
       "      <td>726</td>\n",
       "      <td>dance dance revolution x2</td>\n",
       "      <td>ps2</td>\n",
       "      <td>2009</td>\n",
       "      <td>simulation</td>\n",
       "      <td>1.09</td>\n",
       "      <td>0.85</td>\n",
       "      <td>0.00</td>\n",
       "      <td>0.28</td>\n",
       "      <td>nan</td>\n",
       "      <td>tbd</td>\n",
       "      <td>E10+</td>\n",
       "    </tr>\n",
       "    <tr>\n",
       "      <td>821</td>\n",
       "      <td>the incredibles</td>\n",
       "      <td>gba</td>\n",
       "      <td>2004</td>\n",
       "      <td>action</td>\n",
       "      <td>1.15</td>\n",
       "      <td>0.77</td>\n",
       "      <td>0.04</td>\n",
       "      <td>0.10</td>\n",
       "      <td>55.00</td>\n",
       "      <td>tbd</td>\n",
       "      <td>E</td>\n",
       "    </tr>\n",
       "    <tr>\n",
       "      <td>881</td>\n",
       "      <td>who wants to be a millionaire</td>\n",
       "      <td>pc</td>\n",
       "      <td>1999</td>\n",
       "      <td>misc</td>\n",
       "      <td>1.94</td>\n",
       "      <td>0.00</td>\n",
       "      <td>0.00</td>\n",
       "      <td>0.00</td>\n",
       "      <td>nan</td>\n",
       "      <td>tbd</td>\n",
       "      <td>E</td>\n",
       "    </tr>\n",
       "    <tr>\n",
       "      <td>1047</td>\n",
       "      <td>tetris worlds</td>\n",
       "      <td>gba</td>\n",
       "      <td>2001</td>\n",
       "      <td>puzzle</td>\n",
       "      <td>1.25</td>\n",
       "      <td>0.39</td>\n",
       "      <td>0.00</td>\n",
       "      <td>0.06</td>\n",
       "      <td>65.00</td>\n",
       "      <td>tbd</td>\n",
       "      <td>E</td>\n",
       "    </tr>\n",
       "    <tr>\n",
       "      <td>1048</td>\n",
       "      <td>imagine: teacher</td>\n",
       "      <td>ds</td>\n",
       "      <td>2008</td>\n",
       "      <td>simulation</td>\n",
       "      <td>0.70</td>\n",
       "      <td>0.82</td>\n",
       "      <td>0.00</td>\n",
       "      <td>0.19</td>\n",
       "      <td>nan</td>\n",
       "      <td>tbd</td>\n",
       "      <td>E</td>\n",
       "    </tr>\n",
       "  </tbody>\n",
       "</table>\n",
       "</div>"
      ],
      "text/plain": [
       "                                name platform  year_of_release       genre  \\\n",
       "119                    zumba fitness      wii             2010      sports   \n",
       "301   namco museum: 50th anniversary      ps2             2005        misc   \n",
       "520                  zumba fitness 2      wii             2011      sports   \n",
       "645                     udraw studio      wii             2010        misc   \n",
       "718                  just dance kids      wii             2010        misc   \n",
       "726        dance dance revolution x2      ps2             2009  simulation   \n",
       "821                  the incredibles      gba             2004      action   \n",
       "881    who wants to be a millionaire       pc             1999        misc   \n",
       "1047                   tetris worlds      gba             2001      puzzle   \n",
       "1048                imagine: teacher       ds             2008  simulation   \n",
       "\n",
       "      na_sales  eu_sales  jp_sales  other_sales  critic_score user_score  \\\n",
       "119       3.45      2.59      0.00         0.66           nan        tbd   \n",
       "301       2.08      1.35      0.00         0.54         61.00        tbd   \n",
       "520       1.51      1.03      0.00         0.27           nan        tbd   \n",
       "645       1.65      0.57      0.00         0.20         71.00        tbd   \n",
       "718       1.52      0.54      0.00         0.18           nan        tbd   \n",
       "726       1.09      0.85      0.00         0.28           nan        tbd   \n",
       "821       1.15      0.77      0.04         0.10         55.00        tbd   \n",
       "881       1.94      0.00      0.00         0.00           nan        tbd   \n",
       "1047      1.25      0.39      0.00         0.06         65.00        tbd   \n",
       "1048      0.70      0.82      0.00         0.19           nan        tbd   \n",
       "\n",
       "     rating  \n",
       "119       E  \n",
       "301    E10+  \n",
       "520       T  \n",
       "645       E  \n",
       "718       E  \n",
       "726    E10+  \n",
       "821       E  \n",
       "881       E  \n",
       "1047      E  \n",
       "1048      E  "
      ]
     },
     "metadata": {},
     "output_type": "display_data"
    }
   ],
   "source": [
    "#Изучим эти строки\n",
    "display((data[data['user_score'] == 'tbd']).head(10))"
   ]
  },
  {
   "cell_type": "markdown",
   "metadata": {},
   "source": [
    "Для игр со значением пользовательских оценок зачастую не выставлены также оценки от критиков. \n",
    "\n",
    "Возможно, было продано слишком мало копий или платформа для игры быстро потеряла актуальность, либо год выхода игры таков, что ещё не существовали специализированные сайты, на которых публиковались бы оценки и рейтинги, либо игра выпускалась только на одном языке (японском), а в выборке учитывались только международные издания. \n",
    "\n",
    "Заменим значения tbd в столбце user_score просто на NaN."
   ]
  },
  {
   "cell_type": "code",
   "execution_count": 20,
   "metadata": {},
   "outputs": [],
   "source": [
    "data.loc[data['user_score'] == 'tbd', 'user_score'] = float('nan')\n",
    "data['user_score'] = pd.to_numeric(data['user_score'], errors='coerce')"
   ]
  },
  {
   "cell_type": "code",
   "execution_count": 21,
   "metadata": {},
   "outputs": [
    {
     "data": {
      "text/html": [
       "<div>\n",
       "<style scoped>\n",
       "    .dataframe tbody tr th:only-of-type {\n",
       "        vertical-align: middle;\n",
       "    }\n",
       "\n",
       "    .dataframe tbody tr th {\n",
       "        vertical-align: top;\n",
       "    }\n",
       "\n",
       "    .dataframe thead th {\n",
       "        text-align: right;\n",
       "    }\n",
       "</style>\n",
       "<table border=\"1\" class=\"dataframe\">\n",
       "  <thead>\n",
       "    <tr style=\"text-align: right;\">\n",
       "      <th></th>\n",
       "      <th>name</th>\n",
       "      <th>platform</th>\n",
       "      <th>year_of_release</th>\n",
       "      <th>genre</th>\n",
       "      <th>na_sales</th>\n",
       "      <th>eu_sales</th>\n",
       "      <th>jp_sales</th>\n",
       "      <th>other_sales</th>\n",
       "      <th>critic_score</th>\n",
       "      <th>user_score</th>\n",
       "      <th>rating</th>\n",
       "    </tr>\n",
       "  </thead>\n",
       "  <tbody>\n",
       "    <tr>\n",
       "      <td>1047</td>\n",
       "      <td>tetris worlds</td>\n",
       "      <td>gba</td>\n",
       "      <td>2001</td>\n",
       "      <td>puzzle</td>\n",
       "      <td>1.25</td>\n",
       "      <td>0.39</td>\n",
       "      <td>0.00</td>\n",
       "      <td>0.06</td>\n",
       "      <td>65.00</td>\n",
       "      <td>nan</td>\n",
       "      <td>E</td>\n",
       "    </tr>\n",
       "    <tr>\n",
       "      <td>1048</td>\n",
       "      <td>imagine: teacher</td>\n",
       "      <td>ds</td>\n",
       "      <td>2008</td>\n",
       "      <td>simulation</td>\n",
       "      <td>0.70</td>\n",
       "      <td>0.82</td>\n",
       "      <td>0.00</td>\n",
       "      <td>0.19</td>\n",
       "      <td>nan</td>\n",
       "      <td>nan</td>\n",
       "      <td>E</td>\n",
       "    </tr>\n",
       "  </tbody>\n",
       "</table>\n",
       "</div>"
      ],
      "text/plain": [
       "                  name platform  year_of_release       genre  na_sales  \\\n",
       "1047     tetris worlds      gba             2001      puzzle      1.25   \n",
       "1048  imagine: teacher       ds             2008  simulation      0.70   \n",
       "\n",
       "      eu_sales  jp_sales  other_sales  critic_score  user_score rating  \n",
       "1047      0.39      0.00         0.06         65.00         nan      E  \n",
       "1048      0.82      0.00         0.19           nan         nan      E  "
      ]
     },
     "execution_count": 21,
     "metadata": {},
     "output_type": "execute_result"
    }
   ],
   "source": [
    "#проверим себя, выведем строки на которых были tbn\n",
    "data.loc[1047:1048]"
   ]
  },
  {
   "cell_type": "code",
   "execution_count": 22,
   "metadata": {},
   "outputs": [
    {
     "name": "stdout",
     "output_type": "stream",
     "text": [
      "<class 'pandas.core.frame.DataFrame'>\n",
      "Int64Index: 16444 entries, 0 to 16714\n",
      "Data columns (total 11 columns):\n",
      "name               16444 non-null object\n",
      "platform           16444 non-null object\n",
      "year_of_release    16444 non-null int64\n",
      "genre              16444 non-null object\n",
      "na_sales           16444 non-null float64\n",
      "eu_sales           16444 non-null float64\n",
      "jp_sales           16444 non-null float64\n",
      "other_sales        16444 non-null float64\n",
      "critic_score       7983 non-null float64\n",
      "user_score         7463 non-null float64\n",
      "rating             16444 non-null object\n",
      "dtypes: float64(6), int64(1), object(4)\n",
      "memory usage: 2.1+ MB\n"
     ]
    }
   ],
   "source": [
    "#проверим, что по типам данных замена прошла корректно - значение должно поменяться с object на float64\n",
    "data.info()"
   ]
  },
  {
   "cell_type": "markdown",
   "metadata": {},
   "source": [
    "### Категоризация\n",
    "Изучим значения в столбце с жанрами."
   ]
  },
  {
   "cell_type": "code",
   "execution_count": 23,
   "metadata": {},
   "outputs": [
    {
     "data": {
      "text/plain": [
       "array(['sports', 'platform', 'racing', 'role-playing', 'puzzle', 'misc',\n",
       "       'shooter', 'simulation', 'action', 'fighting', 'adventure',\n",
       "       'strategy'], dtype=object)"
      ]
     },
     "execution_count": 23,
     "metadata": {},
     "output_type": "execute_result"
    }
   ],
   "source": [
    "data['genre'].unique()"
   ]
  },
  {
   "cell_type": "markdown",
   "metadata": {},
   "source": [
    "Повторяющихся категорий не обнаружено. Оставим как есть."
   ]
  },
  {
   "cell_type": "code",
   "execution_count": 24,
   "metadata": {},
   "outputs": [
    {
     "data": {
      "text/plain": [
       "array(['wii', 'nes', 'gb', 'ds', 'x360', 'ps3', 'ps2', 'snes', 'gba',\n",
       "       'ps4', '3ds', 'n64', 'ps', 'xb', 'pc', '2600', 'psp', 'xone',\n",
       "       'wiiu', 'gc', 'gen', 'dc', 'psv', 'sat', 'scd', 'ws', 'ng', 'tg16',\n",
       "       '3do', 'gg', 'pcfx'], dtype=object)"
      ]
     },
     "execution_count": 24,
     "metadata": {},
     "output_type": "execute_result"
    }
   ],
   "source": [
    "#повторим проверку для платформ\n",
    "data['platform'].unique()"
   ]
  },
  {
   "cell_type": "markdown",
   "metadata": {},
   "source": [
    "В платформах повторов не обнаружено\n",
    "\n",
    "### Подсчет продаж"
   ]
  },
  {
   "cell_type": "code",
   "execution_count": 25,
   "metadata": {},
   "outputs": [
    {
     "data": {
      "text/html": [
       "<div>\n",
       "<style scoped>\n",
       "    .dataframe tbody tr th:only-of-type {\n",
       "        vertical-align: middle;\n",
       "    }\n",
       "\n",
       "    .dataframe tbody tr th {\n",
       "        vertical-align: top;\n",
       "    }\n",
       "\n",
       "    .dataframe thead th {\n",
       "        text-align: right;\n",
       "    }\n",
       "</style>\n",
       "<table border=\"1\" class=\"dataframe\">\n",
       "  <thead>\n",
       "    <tr style=\"text-align: right;\">\n",
       "      <th></th>\n",
       "      <th>name</th>\n",
       "      <th>platform</th>\n",
       "      <th>year_of_release</th>\n",
       "      <th>genre</th>\n",
       "      <th>na_sales</th>\n",
       "      <th>eu_sales</th>\n",
       "      <th>jp_sales</th>\n",
       "      <th>other_sales</th>\n",
       "      <th>critic_score</th>\n",
       "      <th>user_score</th>\n",
       "      <th>rating</th>\n",
       "      <th>all_sales</th>\n",
       "    </tr>\n",
       "  </thead>\n",
       "  <tbody>\n",
       "    <tr>\n",
       "      <td>0</td>\n",
       "      <td>wii sports</td>\n",
       "      <td>wii</td>\n",
       "      <td>2006</td>\n",
       "      <td>sports</td>\n",
       "      <td>41.36</td>\n",
       "      <td>28.96</td>\n",
       "      <td>3.77</td>\n",
       "      <td>8.45</td>\n",
       "      <td>76.00</td>\n",
       "      <td>8.00</td>\n",
       "      <td>E</td>\n",
       "      <td>82.54</td>\n",
       "    </tr>\n",
       "    <tr>\n",
       "      <td>1</td>\n",
       "      <td>super mario bros.</td>\n",
       "      <td>nes</td>\n",
       "      <td>1985</td>\n",
       "      <td>platform</td>\n",
       "      <td>29.08</td>\n",
       "      <td>3.58</td>\n",
       "      <td>6.81</td>\n",
       "      <td>0.77</td>\n",
       "      <td>nan</td>\n",
       "      <td>nan</td>\n",
       "      <td>unknown</td>\n",
       "      <td>40.24</td>\n",
       "    </tr>\n",
       "    <tr>\n",
       "      <td>2</td>\n",
       "      <td>mario kart wii</td>\n",
       "      <td>wii</td>\n",
       "      <td>2008</td>\n",
       "      <td>racing</td>\n",
       "      <td>15.68</td>\n",
       "      <td>12.76</td>\n",
       "      <td>3.79</td>\n",
       "      <td>3.29</td>\n",
       "      <td>82.00</td>\n",
       "      <td>8.30</td>\n",
       "      <td>E</td>\n",
       "      <td>35.52</td>\n",
       "    </tr>\n",
       "    <tr>\n",
       "      <td>3</td>\n",
       "      <td>wii sports resort</td>\n",
       "      <td>wii</td>\n",
       "      <td>2009</td>\n",
       "      <td>sports</td>\n",
       "      <td>15.61</td>\n",
       "      <td>10.93</td>\n",
       "      <td>3.28</td>\n",
       "      <td>2.95</td>\n",
       "      <td>80.00</td>\n",
       "      <td>8.00</td>\n",
       "      <td>E</td>\n",
       "      <td>32.77</td>\n",
       "    </tr>\n",
       "    <tr>\n",
       "      <td>4</td>\n",
       "      <td>pokemon red/pokemon blue</td>\n",
       "      <td>gb</td>\n",
       "      <td>1996</td>\n",
       "      <td>role-playing</td>\n",
       "      <td>11.27</td>\n",
       "      <td>8.89</td>\n",
       "      <td>10.22</td>\n",
       "      <td>1.00</td>\n",
       "      <td>nan</td>\n",
       "      <td>nan</td>\n",
       "      <td>unknown</td>\n",
       "      <td>31.38</td>\n",
       "    </tr>\n",
       "  </tbody>\n",
       "</table>\n",
       "</div>"
      ],
      "text/plain": [
       "                       name platform  year_of_release         genre  na_sales  \\\n",
       "0                wii sports      wii             2006        sports     41.36   \n",
       "1         super mario bros.      nes             1985      platform     29.08   \n",
       "2            mario kart wii      wii             2008        racing     15.68   \n",
       "3         wii sports resort      wii             2009        sports     15.61   \n",
       "4  pokemon red/pokemon blue       gb             1996  role-playing     11.27   \n",
       "\n",
       "   eu_sales  jp_sales  other_sales  critic_score  user_score   rating  \\\n",
       "0     28.96      3.77         8.45         76.00        8.00        E   \n",
       "1      3.58      6.81         0.77           nan         nan  unknown   \n",
       "2     12.76      3.79         3.29         82.00        8.30        E   \n",
       "3     10.93      3.28         2.95         80.00        8.00        E   \n",
       "4      8.89     10.22         1.00           nan         nan  unknown   \n",
       "\n",
       "   all_sales  \n",
       "0      82.54  \n",
       "1      40.24  \n",
       "2      35.52  \n",
       "3      32.77  \n",
       "4      31.38  "
      ]
     },
     "execution_count": 25,
     "metadata": {},
     "output_type": "execute_result"
    }
   ],
   "source": [
    "#создадим столбец с общей суммой продаж\n",
    "data['all_sales'] = data[['na_sales','eu_sales','jp_sales','other_sales']].sum(axis=1)\n",
    "data.head()"
   ]
  },
  {
   "cell_type": "markdown",
   "metadata": {},
   "source": [
    "### Проверка на дубликаты\n",
    "\n",
    "Проверим получившуюся таблицу на дубликаты."
   ]
  },
  {
   "cell_type": "code",
   "execution_count": 26,
   "metadata": {},
   "outputs": [
    {
     "name": "stdout",
     "output_type": "stream",
     "text": [
      "Явных дубликатов не обнаружено\n"
     ]
    }
   ],
   "source": [
    "if data.duplicated().sum() == 0:\n",
    "    print('Явных дубликатов не обнаружено')\n",
    "else:\n",
    "    print(f'Обнаружено {data.duplicated().sum()} дубликатов')"
   ]
  },
  {
   "cell_type": "markdown",
   "metadata": {},
   "source": [
    "### Вывод\n",
    "В результате предобработки данных было сделано следующее:\n",
    "- заголовки столбцов, данные в текстовых столбцах приведены к нижнему регистру;\n",
    "- изменен формат данных для столбца, содержащем год выхода игры;\n",
    "- проверены категории в столбцах Жанр и Платформа;\n",
    "- значения tbn в user_score заменены на NaN;\n",
    "- пропуски в столбце rating заменены на unknown;\n",
    "- посчитана сумма продаж по всем регионам для каждой игры;\n",
    "- проведена проверка на дубликаты, явных дубликатов не обнаружено.\n",
    "\n",
    "## Исследовательский анализ данных\n",
    "\n",
    "### Количество игр по годам"
   ]
  },
  {
   "cell_type": "code",
   "execution_count": 27,
   "metadata": {},
   "outputs": [
    {
     "data": {
      "text/html": [
       "<style  type=\"text/css\" >\n",
       "    #T_5b0eb144_8e9c_11ec_8cf4_02420a390ed2row0_col1 {\n",
       "            background-color:  #3b4cc0;\n",
       "            color:  #f1f1f1;\n",
       "        }    #T_5b0eb144_8e9c_11ec_8cf4_02420a390ed2row1_col1 {\n",
       "            background-color:  #4257c9;\n",
       "            color:  #f1f1f1;\n",
       "        }    #T_5b0eb144_8e9c_11ec_8cf4_02420a390ed2row2_col1 {\n",
       "            background-color:  #3f53c6;\n",
       "            color:  #f1f1f1;\n",
       "        }    #T_5b0eb144_8e9c_11ec_8cf4_02420a390ed2row3_col1 {\n",
       "            background-color:  #3c4ec2;\n",
       "            color:  #f1f1f1;\n",
       "        }    #T_5b0eb144_8e9c_11ec_8cf4_02420a390ed2row4_col1 {\n",
       "            background-color:  #3b4cc0;\n",
       "            color:  #f1f1f1;\n",
       "        }    #T_5b0eb144_8e9c_11ec_8cf4_02420a390ed2row5_col1 {\n",
       "            background-color:  #3b4cc0;\n",
       "            color:  #f1f1f1;\n",
       "        }    #T_5b0eb144_8e9c_11ec_8cf4_02420a390ed2row6_col1 {\n",
       "            background-color:  #3d50c3;\n",
       "            color:  #f1f1f1;\n",
       "        }    #T_5b0eb144_8e9c_11ec_8cf4_02420a390ed2row7_col1 {\n",
       "            background-color:  #3c4ec2;\n",
       "            color:  #f1f1f1;\n",
       "        }    #T_5b0eb144_8e9c_11ec_8cf4_02420a390ed2row8_col1 {\n",
       "            background-color:  #3c4ec2;\n",
       "            color:  #f1f1f1;\n",
       "        }    #T_5b0eb144_8e9c_11ec_8cf4_02420a390ed2row9_col1 {\n",
       "            background-color:  #3c4ec2;\n",
       "            color:  #f1f1f1;\n",
       "        }    #T_5b0eb144_8e9c_11ec_8cf4_02420a390ed2row10_col1 {\n",
       "            background-color:  #3c4ec2;\n",
       "            color:  #f1f1f1;\n",
       "        }    #T_5b0eb144_8e9c_11ec_8cf4_02420a390ed2row11_col1 {\n",
       "            background-color:  #4055c8;\n",
       "            color:  #f1f1f1;\n",
       "        }    #T_5b0eb144_8e9c_11ec_8cf4_02420a390ed2row12_col1 {\n",
       "            background-color:  #4257c9;\n",
       "            color:  #f1f1f1;\n",
       "        }    #T_5b0eb144_8e9c_11ec_8cf4_02420a390ed2row13_col1 {\n",
       "            background-color:  #455cce;\n",
       "            color:  #f1f1f1;\n",
       "        }    #T_5b0eb144_8e9c_11ec_8cf4_02420a390ed2row14_col1 {\n",
       "            background-color:  #536edd;\n",
       "            color:  #000000;\n",
       "        }    #T_5b0eb144_8e9c_11ec_8cf4_02420a390ed2row15_col1 {\n",
       "            background-color:  #688aef;\n",
       "            color:  #000000;\n",
       "        }    #T_5b0eb144_8e9c_11ec_8cf4_02420a390ed2row16_col1 {\n",
       "            background-color:  #7396f5;\n",
       "            color:  #000000;\n",
       "        }    #T_5b0eb144_8e9c_11ec_8cf4_02420a390ed2row17_col1 {\n",
       "            background-color:  #7a9df8;\n",
       "            color:  #000000;\n",
       "        }    #T_5b0eb144_8e9c_11ec_8cf4_02420a390ed2row18_col1 {\n",
       "            background-color:  #90b2fe;\n",
       "            color:  #000000;\n",
       "        }    #T_5b0eb144_8e9c_11ec_8cf4_02420a390ed2row19_col1 {\n",
       "            background-color:  #86a9fc;\n",
       "            color:  #000000;\n",
       "        }    #T_5b0eb144_8e9c_11ec_8cf4_02420a390ed2row20_col1 {\n",
       "            background-color:  #89acfd;\n",
       "            color:  #000000;\n",
       "        }    #T_5b0eb144_8e9c_11ec_8cf4_02420a390ed2row21_col1 {\n",
       "            background-color:  #aac7fd;\n",
       "            color:  #000000;\n",
       "        }    #T_5b0eb144_8e9c_11ec_8cf4_02420a390ed2row22_col1 {\n",
       "            background-color:  #efcfbf;\n",
       "            color:  #000000;\n",
       "        }    #T_5b0eb144_8e9c_11ec_8cf4_02420a390ed2row23_col1 {\n",
       "            background-color:  #e7d7ce;\n",
       "            color:  #000000;\n",
       "        }    #T_5b0eb144_8e9c_11ec_8cf4_02420a390ed2row24_col1 {\n",
       "            background-color:  #e4d9d2;\n",
       "            color:  #000000;\n",
       "        }    #T_5b0eb144_8e9c_11ec_8cf4_02420a390ed2row25_col1 {\n",
       "            background-color:  #f7bca1;\n",
       "            color:  #000000;\n",
       "        }    #T_5b0eb144_8e9c_11ec_8cf4_02420a390ed2row26_col1 {\n",
       "            background-color:  #f7ac8e;\n",
       "            color:  #000000;\n",
       "        }    #T_5b0eb144_8e9c_11ec_8cf4_02420a390ed2row27_col1 {\n",
       "            background-color:  #e67259;\n",
       "            color:  #000000;\n",
       "        }    #T_5b0eb144_8e9c_11ec_8cf4_02420a390ed2row28_col1 {\n",
       "            background-color:  #b40426;\n",
       "            color:  #f1f1f1;\n",
       "        }    #T_5b0eb144_8e9c_11ec_8cf4_02420a390ed2row29_col1 {\n",
       "            background-color:  #b40426;\n",
       "            color:  #f1f1f1;\n",
       "        }    #T_5b0eb144_8e9c_11ec_8cf4_02420a390ed2row30_col1 {\n",
       "            background-color:  #dd5f4b;\n",
       "            color:  #000000;\n",
       "        }    #T_5b0eb144_8e9c_11ec_8cf4_02420a390ed2row31_col1 {\n",
       "            background-color:  #ee8669;\n",
       "            color:  #000000;\n",
       "        }    #T_5b0eb144_8e9c_11ec_8cf4_02420a390ed2row32_col1 {\n",
       "            background-color:  #d1dae9;\n",
       "            color:  #000000;\n",
       "        }    #T_5b0eb144_8e9c_11ec_8cf4_02420a390ed2row33_col1 {\n",
       "            background-color:  #b9d0f9;\n",
       "            color:  #000000;\n",
       "        }    #T_5b0eb144_8e9c_11ec_8cf4_02420a390ed2row34_col1 {\n",
       "            background-color:  #c1d4f4;\n",
       "            color:  #000000;\n",
       "        }    #T_5b0eb144_8e9c_11ec_8cf4_02420a390ed2row35_col1 {\n",
       "            background-color:  #c6d6f1;\n",
       "            color:  #000000;\n",
       "        }    #T_5b0eb144_8e9c_11ec_8cf4_02420a390ed2row36_col1 {\n",
       "            background-color:  #afcafc;\n",
       "            color:  #000000;\n",
       "        }</style><table id=\"T_5b0eb144_8e9c_11ec_8cf4_02420a390ed2\" ><thead>    <tr>        <th class=\"blank level0\" ></th>        <th class=\"col_heading level0 col0\" >year_of_release</th>        <th class=\"col_heading level0 col1\" >name</th>    </tr></thead><tbody>\n",
       "                <tr>\n",
       "                        <th id=\"T_5b0eb144_8e9c_11ec_8cf4_02420a390ed2level0_row0\" class=\"row_heading level0 row0\" >0</th>\n",
       "                        <td id=\"T_5b0eb144_8e9c_11ec_8cf4_02420a390ed2row0_col0\" class=\"data row0 col0\" >1980</td>\n",
       "                        <td id=\"T_5b0eb144_8e9c_11ec_8cf4_02420a390ed2row0_col1\" class=\"data row0 col1\" >9</td>\n",
       "            </tr>\n",
       "            <tr>\n",
       "                        <th id=\"T_5b0eb144_8e9c_11ec_8cf4_02420a390ed2level0_row1\" class=\"row_heading level0 row1\" >1</th>\n",
       "                        <td id=\"T_5b0eb144_8e9c_11ec_8cf4_02420a390ed2row1_col0\" class=\"data row1 col0\" >1981</td>\n",
       "                        <td id=\"T_5b0eb144_8e9c_11ec_8cf4_02420a390ed2row1_col1\" class=\"data row1 col1\" >46</td>\n",
       "            </tr>\n",
       "            <tr>\n",
       "                        <th id=\"T_5b0eb144_8e9c_11ec_8cf4_02420a390ed2level0_row2\" class=\"row_heading level0 row2\" >2</th>\n",
       "                        <td id=\"T_5b0eb144_8e9c_11ec_8cf4_02420a390ed2row2_col0\" class=\"data row2 col0\" >1982</td>\n",
       "                        <td id=\"T_5b0eb144_8e9c_11ec_8cf4_02420a390ed2row2_col1\" class=\"data row2 col1\" >36</td>\n",
       "            </tr>\n",
       "            <tr>\n",
       "                        <th id=\"T_5b0eb144_8e9c_11ec_8cf4_02420a390ed2level0_row3\" class=\"row_heading level0 row3\" >3</th>\n",
       "                        <td id=\"T_5b0eb144_8e9c_11ec_8cf4_02420a390ed2row3_col0\" class=\"data row3 col0\" >1983</td>\n",
       "                        <td id=\"T_5b0eb144_8e9c_11ec_8cf4_02420a390ed2row3_col1\" class=\"data row3 col1\" >17</td>\n",
       "            </tr>\n",
       "            <tr>\n",
       "                        <th id=\"T_5b0eb144_8e9c_11ec_8cf4_02420a390ed2level0_row4\" class=\"row_heading level0 row4\" >4</th>\n",
       "                        <td id=\"T_5b0eb144_8e9c_11ec_8cf4_02420a390ed2row4_col0\" class=\"data row4 col0\" >1984</td>\n",
       "                        <td id=\"T_5b0eb144_8e9c_11ec_8cf4_02420a390ed2row4_col1\" class=\"data row4 col1\" >14</td>\n",
       "            </tr>\n",
       "            <tr>\n",
       "                        <th id=\"T_5b0eb144_8e9c_11ec_8cf4_02420a390ed2level0_row5\" class=\"row_heading level0 row5\" >5</th>\n",
       "                        <td id=\"T_5b0eb144_8e9c_11ec_8cf4_02420a390ed2row5_col0\" class=\"data row5 col0\" >1985</td>\n",
       "                        <td id=\"T_5b0eb144_8e9c_11ec_8cf4_02420a390ed2row5_col1\" class=\"data row5 col1\" >14</td>\n",
       "            </tr>\n",
       "            <tr>\n",
       "                        <th id=\"T_5b0eb144_8e9c_11ec_8cf4_02420a390ed2level0_row6\" class=\"row_heading level0 row6\" >6</th>\n",
       "                        <td id=\"T_5b0eb144_8e9c_11ec_8cf4_02420a390ed2row6_col0\" class=\"data row6 col0\" >1986</td>\n",
       "                        <td id=\"T_5b0eb144_8e9c_11ec_8cf4_02420a390ed2row6_col1\" class=\"data row6 col1\" >21</td>\n",
       "            </tr>\n",
       "            <tr>\n",
       "                        <th id=\"T_5b0eb144_8e9c_11ec_8cf4_02420a390ed2level0_row7\" class=\"row_heading level0 row7\" >7</th>\n",
       "                        <td id=\"T_5b0eb144_8e9c_11ec_8cf4_02420a390ed2row7_col0\" class=\"data row7 col0\" >1987</td>\n",
       "                        <td id=\"T_5b0eb144_8e9c_11ec_8cf4_02420a390ed2row7_col1\" class=\"data row7 col1\" >16</td>\n",
       "            </tr>\n",
       "            <tr>\n",
       "                        <th id=\"T_5b0eb144_8e9c_11ec_8cf4_02420a390ed2level0_row8\" class=\"row_heading level0 row8\" >8</th>\n",
       "                        <td id=\"T_5b0eb144_8e9c_11ec_8cf4_02420a390ed2row8_col0\" class=\"data row8 col0\" >1988</td>\n",
       "                        <td id=\"T_5b0eb144_8e9c_11ec_8cf4_02420a390ed2row8_col1\" class=\"data row8 col1\" >15</td>\n",
       "            </tr>\n",
       "            <tr>\n",
       "                        <th id=\"T_5b0eb144_8e9c_11ec_8cf4_02420a390ed2level0_row9\" class=\"row_heading level0 row9\" >9</th>\n",
       "                        <td id=\"T_5b0eb144_8e9c_11ec_8cf4_02420a390ed2row9_col0\" class=\"data row9 col0\" >1989</td>\n",
       "                        <td id=\"T_5b0eb144_8e9c_11ec_8cf4_02420a390ed2row9_col1\" class=\"data row9 col1\" >17</td>\n",
       "            </tr>\n",
       "            <tr>\n",
       "                        <th id=\"T_5b0eb144_8e9c_11ec_8cf4_02420a390ed2level0_row10\" class=\"row_heading level0 row10\" >10</th>\n",
       "                        <td id=\"T_5b0eb144_8e9c_11ec_8cf4_02420a390ed2row10_col0\" class=\"data row10 col0\" >1990</td>\n",
       "                        <td id=\"T_5b0eb144_8e9c_11ec_8cf4_02420a390ed2row10_col1\" class=\"data row10 col1\" >16</td>\n",
       "            </tr>\n",
       "            <tr>\n",
       "                        <th id=\"T_5b0eb144_8e9c_11ec_8cf4_02420a390ed2level0_row11\" class=\"row_heading level0 row11\" >11</th>\n",
       "                        <td id=\"T_5b0eb144_8e9c_11ec_8cf4_02420a390ed2row11_col0\" class=\"data row11 col0\" >1991</td>\n",
       "                        <td id=\"T_5b0eb144_8e9c_11ec_8cf4_02420a390ed2row11_col1\" class=\"data row11 col1\" >41</td>\n",
       "            </tr>\n",
       "            <tr>\n",
       "                        <th id=\"T_5b0eb144_8e9c_11ec_8cf4_02420a390ed2level0_row12\" class=\"row_heading level0 row12\" >12</th>\n",
       "                        <td id=\"T_5b0eb144_8e9c_11ec_8cf4_02420a390ed2row12_col0\" class=\"data row12 col0\" >1992</td>\n",
       "                        <td id=\"T_5b0eb144_8e9c_11ec_8cf4_02420a390ed2row12_col1\" class=\"data row12 col1\" >43</td>\n",
       "            </tr>\n",
       "            <tr>\n",
       "                        <th id=\"T_5b0eb144_8e9c_11ec_8cf4_02420a390ed2level0_row13\" class=\"row_heading level0 row13\" >13</th>\n",
       "                        <td id=\"T_5b0eb144_8e9c_11ec_8cf4_02420a390ed2row13_col0\" class=\"data row13 col0\" >1993</td>\n",
       "                        <td id=\"T_5b0eb144_8e9c_11ec_8cf4_02420a390ed2row13_col1\" class=\"data row13 col1\" >60</td>\n",
       "            </tr>\n",
       "            <tr>\n",
       "                        <th id=\"T_5b0eb144_8e9c_11ec_8cf4_02420a390ed2level0_row14\" class=\"row_heading level0 row14\" >14</th>\n",
       "                        <td id=\"T_5b0eb144_8e9c_11ec_8cf4_02420a390ed2row14_col0\" class=\"data row14 col0\" >1994</td>\n",
       "                        <td id=\"T_5b0eb144_8e9c_11ec_8cf4_02420a390ed2row14_col1\" class=\"data row14 col1\" >121</td>\n",
       "            </tr>\n",
       "            <tr>\n",
       "                        <th id=\"T_5b0eb144_8e9c_11ec_8cf4_02420a390ed2level0_row15\" class=\"row_heading level0 row15\" >15</th>\n",
       "                        <td id=\"T_5b0eb144_8e9c_11ec_8cf4_02420a390ed2row15_col0\" class=\"data row15 col0\" >1995</td>\n",
       "                        <td id=\"T_5b0eb144_8e9c_11ec_8cf4_02420a390ed2row15_col1\" class=\"data row15 col1\" >219</td>\n",
       "            </tr>\n",
       "            <tr>\n",
       "                        <th id=\"T_5b0eb144_8e9c_11ec_8cf4_02420a390ed2level0_row16\" class=\"row_heading level0 row16\" >16</th>\n",
       "                        <td id=\"T_5b0eb144_8e9c_11ec_8cf4_02420a390ed2row16_col0\" class=\"data row16 col0\" >1996</td>\n",
       "                        <td id=\"T_5b0eb144_8e9c_11ec_8cf4_02420a390ed2row16_col1\" class=\"data row16 col1\" >263</td>\n",
       "            </tr>\n",
       "            <tr>\n",
       "                        <th id=\"T_5b0eb144_8e9c_11ec_8cf4_02420a390ed2level0_row17\" class=\"row_heading level0 row17\" >17</th>\n",
       "                        <td id=\"T_5b0eb144_8e9c_11ec_8cf4_02420a390ed2row17_col0\" class=\"data row17 col0\" >1997</td>\n",
       "                        <td id=\"T_5b0eb144_8e9c_11ec_8cf4_02420a390ed2row17_col1\" class=\"data row17 col1\" >289</td>\n",
       "            </tr>\n",
       "            <tr>\n",
       "                        <th id=\"T_5b0eb144_8e9c_11ec_8cf4_02420a390ed2level0_row18\" class=\"row_heading level0 row18\" >18</th>\n",
       "                        <td id=\"T_5b0eb144_8e9c_11ec_8cf4_02420a390ed2row18_col0\" class=\"data row18 col0\" >1998</td>\n",
       "                        <td id=\"T_5b0eb144_8e9c_11ec_8cf4_02420a390ed2row18_col1\" class=\"data row18 col1\" >379</td>\n",
       "            </tr>\n",
       "            <tr>\n",
       "                        <th id=\"T_5b0eb144_8e9c_11ec_8cf4_02420a390ed2level0_row19\" class=\"row_heading level0 row19\" >19</th>\n",
       "                        <td id=\"T_5b0eb144_8e9c_11ec_8cf4_02420a390ed2row19_col0\" class=\"data row19 col0\" >1999</td>\n",
       "                        <td id=\"T_5b0eb144_8e9c_11ec_8cf4_02420a390ed2row19_col1\" class=\"data row19 col1\" >338</td>\n",
       "            </tr>\n",
       "            <tr>\n",
       "                        <th id=\"T_5b0eb144_8e9c_11ec_8cf4_02420a390ed2level0_row20\" class=\"row_heading level0 row20\" >20</th>\n",
       "                        <td id=\"T_5b0eb144_8e9c_11ec_8cf4_02420a390ed2row20_col0\" class=\"data row20 col0\" >2000</td>\n",
       "                        <td id=\"T_5b0eb144_8e9c_11ec_8cf4_02420a390ed2row20_col1\" class=\"data row20 col1\" >350</td>\n",
       "            </tr>\n",
       "            <tr>\n",
       "                        <th id=\"T_5b0eb144_8e9c_11ec_8cf4_02420a390ed2level0_row21\" class=\"row_heading level0 row21\" >21</th>\n",
       "                        <td id=\"T_5b0eb144_8e9c_11ec_8cf4_02420a390ed2row21_col0\" class=\"data row21 col0\" >2001</td>\n",
       "                        <td id=\"T_5b0eb144_8e9c_11ec_8cf4_02420a390ed2row21_col1\" class=\"data row21 col1\" >482</td>\n",
       "            </tr>\n",
       "            <tr>\n",
       "                        <th id=\"T_5b0eb144_8e9c_11ec_8cf4_02420a390ed2level0_row22\" class=\"row_heading level0 row22\" >22</th>\n",
       "                        <td id=\"T_5b0eb144_8e9c_11ec_8cf4_02420a390ed2row22_col0\" class=\"data row22 col0\" >2002</td>\n",
       "                        <td id=\"T_5b0eb144_8e9c_11ec_8cf4_02420a390ed2row22_col1\" class=\"data row22 col1\" >829</td>\n",
       "            </tr>\n",
       "            <tr>\n",
       "                        <th id=\"T_5b0eb144_8e9c_11ec_8cf4_02420a390ed2level0_row23\" class=\"row_heading level0 row23\" >23</th>\n",
       "                        <td id=\"T_5b0eb144_8e9c_11ec_8cf4_02420a390ed2row23_col0\" class=\"data row23 col0\" >2003</td>\n",
       "                        <td id=\"T_5b0eb144_8e9c_11ec_8cf4_02420a390ed2row23_col1\" class=\"data row23 col1\" >775</td>\n",
       "            </tr>\n",
       "            <tr>\n",
       "                        <th id=\"T_5b0eb144_8e9c_11ec_8cf4_02420a390ed2level0_row24\" class=\"row_heading level0 row24\" >24</th>\n",
       "                        <td id=\"T_5b0eb144_8e9c_11ec_8cf4_02420a390ed2row24_col0\" class=\"data row24 col0\" >2004</td>\n",
       "                        <td id=\"T_5b0eb144_8e9c_11ec_8cf4_02420a390ed2row24_col1\" class=\"data row24 col1\" >762</td>\n",
       "            </tr>\n",
       "            <tr>\n",
       "                        <th id=\"T_5b0eb144_8e9c_11ec_8cf4_02420a390ed2level0_row25\" class=\"row_heading level0 row25\" >25</th>\n",
       "                        <td id=\"T_5b0eb144_8e9c_11ec_8cf4_02420a390ed2row25_col0\" class=\"data row25 col0\" >2005</td>\n",
       "                        <td id=\"T_5b0eb144_8e9c_11ec_8cf4_02420a390ed2row25_col1\" class=\"data row25 col1\" >939</td>\n",
       "            </tr>\n",
       "            <tr>\n",
       "                        <th id=\"T_5b0eb144_8e9c_11ec_8cf4_02420a390ed2level0_row26\" class=\"row_heading level0 row26\" >26</th>\n",
       "                        <td id=\"T_5b0eb144_8e9c_11ec_8cf4_02420a390ed2row26_col0\" class=\"data row26 col0\" >2006</td>\n",
       "                        <td id=\"T_5b0eb144_8e9c_11ec_8cf4_02420a390ed2row26_col1\" class=\"data row26 col1\" >1006</td>\n",
       "            </tr>\n",
       "            <tr>\n",
       "                        <th id=\"T_5b0eb144_8e9c_11ec_8cf4_02420a390ed2level0_row27\" class=\"row_heading level0 row27\" >27</th>\n",
       "                        <td id=\"T_5b0eb144_8e9c_11ec_8cf4_02420a390ed2row27_col0\" class=\"data row27 col0\" >2007</td>\n",
       "                        <td id=\"T_5b0eb144_8e9c_11ec_8cf4_02420a390ed2row27_col1\" class=\"data row27 col1\" >1197</td>\n",
       "            </tr>\n",
       "            <tr>\n",
       "                        <th id=\"T_5b0eb144_8e9c_11ec_8cf4_02420a390ed2level0_row28\" class=\"row_heading level0 row28\" >28</th>\n",
       "                        <td id=\"T_5b0eb144_8e9c_11ec_8cf4_02420a390ed2row28_col0\" class=\"data row28 col0\" >2008</td>\n",
       "                        <td id=\"T_5b0eb144_8e9c_11ec_8cf4_02420a390ed2row28_col1\" class=\"data row28 col1\" >1427</td>\n",
       "            </tr>\n",
       "            <tr>\n",
       "                        <th id=\"T_5b0eb144_8e9c_11ec_8cf4_02420a390ed2level0_row29\" class=\"row_heading level0 row29\" >29</th>\n",
       "                        <td id=\"T_5b0eb144_8e9c_11ec_8cf4_02420a390ed2row29_col0\" class=\"data row29 col0\" >2009</td>\n",
       "                        <td id=\"T_5b0eb144_8e9c_11ec_8cf4_02420a390ed2row29_col1\" class=\"data row29 col1\" >1426</td>\n",
       "            </tr>\n",
       "            <tr>\n",
       "                        <th id=\"T_5b0eb144_8e9c_11ec_8cf4_02420a390ed2level0_row30\" class=\"row_heading level0 row30\" >30</th>\n",
       "                        <td id=\"T_5b0eb144_8e9c_11ec_8cf4_02420a390ed2row30_col0\" class=\"data row30 col0\" >2010</td>\n",
       "                        <td id=\"T_5b0eb144_8e9c_11ec_8cf4_02420a390ed2row30_col1\" class=\"data row30 col1\" >1255</td>\n",
       "            </tr>\n",
       "            <tr>\n",
       "                        <th id=\"T_5b0eb144_8e9c_11ec_8cf4_02420a390ed2level0_row31\" class=\"row_heading level0 row31\" >31</th>\n",
       "                        <td id=\"T_5b0eb144_8e9c_11ec_8cf4_02420a390ed2row31_col0\" class=\"data row31 col0\" >2011</td>\n",
       "                        <td id=\"T_5b0eb144_8e9c_11ec_8cf4_02420a390ed2row31_col1\" class=\"data row31 col1\" >1136</td>\n",
       "            </tr>\n",
       "            <tr>\n",
       "                        <th id=\"T_5b0eb144_8e9c_11ec_8cf4_02420a390ed2level0_row32\" class=\"row_heading level0 row32\" >32</th>\n",
       "                        <td id=\"T_5b0eb144_8e9c_11ec_8cf4_02420a390ed2row32_col0\" class=\"data row32 col0\" >2012</td>\n",
       "                        <td id=\"T_5b0eb144_8e9c_11ec_8cf4_02420a390ed2row32_col1\" class=\"data row32 col1\" >653</td>\n",
       "            </tr>\n",
       "            <tr>\n",
       "                        <th id=\"T_5b0eb144_8e9c_11ec_8cf4_02420a390ed2level0_row33\" class=\"row_heading level0 row33\" >33</th>\n",
       "                        <td id=\"T_5b0eb144_8e9c_11ec_8cf4_02420a390ed2row33_col0\" class=\"data row33 col0\" >2013</td>\n",
       "                        <td id=\"T_5b0eb144_8e9c_11ec_8cf4_02420a390ed2row33_col1\" class=\"data row33 col1\" >544</td>\n",
       "            </tr>\n",
       "            <tr>\n",
       "                        <th id=\"T_5b0eb144_8e9c_11ec_8cf4_02420a390ed2level0_row34\" class=\"row_heading level0 row34\" >34</th>\n",
       "                        <td id=\"T_5b0eb144_8e9c_11ec_8cf4_02420a390ed2row34_col0\" class=\"data row34 col0\" >2014</td>\n",
       "                        <td id=\"T_5b0eb144_8e9c_11ec_8cf4_02420a390ed2row34_col1\" class=\"data row34 col1\" >581</td>\n",
       "            </tr>\n",
       "            <tr>\n",
       "                        <th id=\"T_5b0eb144_8e9c_11ec_8cf4_02420a390ed2level0_row35\" class=\"row_heading level0 row35\" >35</th>\n",
       "                        <td id=\"T_5b0eb144_8e9c_11ec_8cf4_02420a390ed2row35_col0\" class=\"data row35 col0\" >2015</td>\n",
       "                        <td id=\"T_5b0eb144_8e9c_11ec_8cf4_02420a390ed2row35_col1\" class=\"data row35 col1\" >606</td>\n",
       "            </tr>\n",
       "            <tr>\n",
       "                        <th id=\"T_5b0eb144_8e9c_11ec_8cf4_02420a390ed2level0_row36\" class=\"row_heading level0 row36\" >36</th>\n",
       "                        <td id=\"T_5b0eb144_8e9c_11ec_8cf4_02420a390ed2row36_col0\" class=\"data row36 col0\" >2016</td>\n",
       "                        <td id=\"T_5b0eb144_8e9c_11ec_8cf4_02420a390ed2row36_col1\" class=\"data row36 col1\" >502</td>\n",
       "            </tr>\n",
       "    </tbody></table>"
      ],
      "text/plain": [
       "<pandas.io.formats.style.Styler at 0x7f40e03ae810>"
      ]
     },
     "execution_count": 27,
     "metadata": {},
     "output_type": "execute_result"
    }
   ],
   "source": [
    "#сгруппируем таблицу по годам\n",
    "games_by_year = (\n",
    "    data.groupby('year_of_release')['name']\n",
    "    .count()\n",
    "    .reset_index()\n",
    ")\n",
    "games_by_year.style.background_gradient('coolwarm', subset='name')"
   ]
  },
  {
   "cell_type": "markdown",
   "metadata": {},
   "source": [
    "Судя по сгруппированной таблице, наибольшее число выпущенных игр лежит в диапазоне 2005-2012 годов.\n",
    "\n",
    "Визуализируем полученные данные."
   ]
  },
  {
   "cell_type": "code",
   "execution_count": 28,
   "metadata": {},
   "outputs": [
    {
     "data": {
      "image/png": "[encoded data removed]",
      "text/plain": [
       "<Figure size 720x432 with 1 Axes>"
      ]
     },
     "metadata": {
      "needs_background": "light"
     },
     "output_type": "display_data"
    }
   ],
   "source": [
    "#построим график, где каждой точке соотвествует год выпуска\n",
    "games_by_year.plot(x='year_of_release', y='name', grid=True, style=\"o-\", figsize=(10,6))\n",
    "plt.title('Изменение количества выпускаемых игр по годам')\n",
    "plt.ylabel('Количество выпущенных игр (шт.)')\n",
    "plt.xlabel('Год выпуска')\n",
    "plt.show()"
   ]
  },
  {
   "cell_type": "markdown",
   "metadata": {},
   "source": [
    "Судя по графику с 2005 года начался устойчивый рост количества выпускаемых игр. В 2012 году количество релизов в выборке снизилось примерно до тех же показателей. Максимальное количество выпущенных игр зафиксировано в 2008-2009 годах.\n",
    "\n",
    "Если сделать, предоположение, что рост количества выпускаемых игр цикличен, то, начиная с 2013 года можно ожидать семилетний рост количества выпущенных продуктов.\n",
    "\n",
    "### Продажи по платформам\n",
    " \n",
    "Выберем платформы с наибольшими суммарными продажами."
   ]
  },
  {
   "cell_type": "code",
   "execution_count": 29,
   "metadata": {},
   "outputs": [
    {
     "data": {
      "text/html": [
       "<style  type=\"text/css\" >\n",
       "    #T_5b3a52f4_8e9c_11ec_8cf4_02420a390ed2row0_col1 {\n",
       "            background-color:  #b40426;\n",
       "            color:  #f1f1f1;\n",
       "        }    #T_5b3a52f4_8e9c_11ec_8cf4_02420a390ed2row1_col1 {\n",
       "            background-color:  #f18d6f;\n",
       "            color:  #000000;\n",
       "        }    #T_5b3a52f4_8e9c_11ec_8cf4_02420a390ed2row2_col1 {\n",
       "            background-color:  #f39778;\n",
       "            color:  #000000;\n",
       "        }    #T_5b3a52f4_8e9c_11ec_8cf4_02420a390ed2row3_col1 {\n",
       "            background-color:  #f6a586;\n",
       "            color:  #000000;\n",
       "        }    #T_5b3a52f4_8e9c_11ec_8cf4_02420a390ed2row4_col1 {\n",
       "            background-color:  #f6bda2;\n",
       "            color:  #000000;\n",
       "        }    #T_5b3a52f4_8e9c_11ec_8cf4_02420a390ed2row5_col1 {\n",
       "            background-color:  #f0cdbb;\n",
       "            color:  #000000;\n",
       "        }    #T_5b3a52f4_8e9c_11ec_8cf4_02420a390ed2row6_col1 {\n",
       "            background-color:  #8fb1fe;\n",
       "            color:  #000000;\n",
       "        }    #T_5b3a52f4_8e9c_11ec_8cf4_02420a390ed2row7_col1 {\n",
       "            background-color:  #8db0fe;\n",
       "            color:  #000000;\n",
       "        }    #T_5b3a52f4_8e9c_11ec_8cf4_02420a390ed2row8_col1 {\n",
       "            background-color:  #88abfd;\n",
       "            color:  #000000;\n",
       "        }    #T_5b3a52f4_8e9c_11ec_8cf4_02420a390ed2row9_col1 {\n",
       "            background-color:  #7ea1fa;\n",
       "            color:  #000000;\n",
       "        }    #T_5b3a52f4_8e9c_11ec_8cf4_02420a390ed2row10_col1 {\n",
       "            background-color:  #7ea1fa;\n",
       "            color:  #000000;\n",
       "        }    #T_5b3a52f4_8e9c_11ec_8cf4_02420a390ed2row11_col1 {\n",
       "            background-color:  #7da0f9;\n",
       "            color:  #000000;\n",
       "        }    #T_5b3a52f4_8e9c_11ec_8cf4_02420a390ed2row12_col1 {\n",
       "            background-color:  #7da0f9;\n",
       "            color:  #000000;\n",
       "        }    #T_5b3a52f4_8e9c_11ec_8cf4_02420a390ed2row13_col1 {\n",
       "            background-color:  #7da0f9;\n",
       "            color:  #000000;\n",
       "        }    #T_5b3a52f4_8e9c_11ec_8cf4_02420a390ed2row14_col1 {\n",
       "            background-color:  #7396f5;\n",
       "            color:  #000000;\n",
       "        }    #T_5b3a52f4_8e9c_11ec_8cf4_02420a390ed2row15_col1 {\n",
       "            background-color:  #6e90f2;\n",
       "            color:  #000000;\n",
       "        }    #T_5b3a52f4_8e9c_11ec_8cf4_02420a390ed2row16_col1 {\n",
       "            background-color:  #6c8ff1;\n",
       "            color:  #000000;\n",
       "        }    #T_5b3a52f4_8e9c_11ec_8cf4_02420a390ed2row17_col1 {\n",
       "            background-color:  #6384eb;\n",
       "            color:  #000000;\n",
       "        }    #T_5b3a52f4_8e9c_11ec_8cf4_02420a390ed2row18_col1 {\n",
       "            background-color:  #4f69d9;\n",
       "            color:  #000000;\n",
       "        }    #T_5b3a52f4_8e9c_11ec_8cf4_02420a390ed2row19_col1 {\n",
       "            background-color:  #4f69d9;\n",
       "            color:  #000000;\n",
       "        }    #T_5b3a52f4_8e9c_11ec_8cf4_02420a390ed2row20_col1 {\n",
       "            background-color:  #485fd1;\n",
       "            color:  #f1f1f1;\n",
       "        }    #T_5b3a52f4_8e9c_11ec_8cf4_02420a390ed2row21_col1 {\n",
       "            background-color:  #4257c9;\n",
       "            color:  #f1f1f1;\n",
       "        }    #T_5b3a52f4_8e9c_11ec_8cf4_02420a390ed2row22_col1 {\n",
       "            background-color:  #4055c8;\n",
       "            color:  #f1f1f1;\n",
       "        }    #T_5b3a52f4_8e9c_11ec_8cf4_02420a390ed2row23_col1 {\n",
       "            background-color:  #3e51c5;\n",
       "            color:  #f1f1f1;\n",
       "        }    #T_5b3a52f4_8e9c_11ec_8cf4_02420a390ed2row24_col1 {\n",
       "            background-color:  #3b4cc0;\n",
       "            color:  #f1f1f1;\n",
       "        }    #T_5b3a52f4_8e9c_11ec_8cf4_02420a390ed2row25_col1 {\n",
       "            background-color:  #3b4cc0;\n",
       "            color:  #f1f1f1;\n",
       "        }    #T_5b3a52f4_8e9c_11ec_8cf4_02420a390ed2row26_col1 {\n",
       "            background-color:  #3b4cc0;\n",
       "            color:  #f1f1f1;\n",
       "        }    #T_5b3a52f4_8e9c_11ec_8cf4_02420a390ed2row27_col1 {\n",
       "            background-color:  #3b4cc0;\n",
       "            color:  #f1f1f1;\n",
       "        }    #T_5b3a52f4_8e9c_11ec_8cf4_02420a390ed2row28_col1 {\n",
       "            background-color:  #3b4cc0;\n",
       "            color:  #f1f1f1;\n",
       "        }    #T_5b3a52f4_8e9c_11ec_8cf4_02420a390ed2row29_col1 {\n",
       "            background-color:  #3b4cc0;\n",
       "            color:  #f1f1f1;\n",
       "        }    #T_5b3a52f4_8e9c_11ec_8cf4_02420a390ed2row30_col1 {\n",
       "            background-color:  #3b4cc0;\n",
       "            color:  #f1f1f1;\n",
       "        }</style><table id=\"T_5b3a52f4_8e9c_11ec_8cf4_02420a390ed2\" ><thead>    <tr>        <th class=\"blank level0\" ></th>        <th class=\"col_heading level0 col0\" >platform</th>        <th class=\"col_heading level0 col1\" >all_sales</th>    </tr></thead><tbody>\n",
       "                <tr>\n",
       "                        <th id=\"T_5b3a52f4_8e9c_11ec_8cf4_02420a390ed2level0_row0\" class=\"row_heading level0 row0\" >0</th>\n",
       "                        <td id=\"T_5b3a52f4_8e9c_11ec_8cf4_02420a390ed2row0_col0\" class=\"data row0 col0\" >ps2</td>\n",
       "                        <td id=\"T_5b3a52f4_8e9c_11ec_8cf4_02420a390ed2row0_col1\" class=\"data row0 col1\" >1233.56</td>\n",
       "            </tr>\n",
       "            <tr>\n",
       "                        <th id=\"T_5b3a52f4_8e9c_11ec_8cf4_02420a390ed2level0_row1\" class=\"row_heading level0 row1\" >1</th>\n",
       "                        <td id=\"T_5b3a52f4_8e9c_11ec_8cf4_02420a390ed2row1_col0\" class=\"data row1 col0\" >x360</td>\n",
       "                        <td id=\"T_5b3a52f4_8e9c_11ec_8cf4_02420a390ed2row1_col1\" class=\"data row1 col1\" >961.24</td>\n",
       "            </tr>\n",
       "            <tr>\n",
       "                        <th id=\"T_5b3a52f4_8e9c_11ec_8cf4_02420a390ed2level0_row2\" class=\"row_heading level0 row2\" >2</th>\n",
       "                        <td id=\"T_5b3a52f4_8e9c_11ec_8cf4_02420a390ed2row2_col0\" class=\"data row2 col0\" >ps3</td>\n",
       "                        <td id=\"T_5b3a52f4_8e9c_11ec_8cf4_02420a390ed2row2_col1\" class=\"data row2 col1\" >931.34</td>\n",
       "            </tr>\n",
       "            <tr>\n",
       "                        <th id=\"T_5b3a52f4_8e9c_11ec_8cf4_02420a390ed2level0_row3\" class=\"row_heading level0 row3\" >3</th>\n",
       "                        <td id=\"T_5b3a52f4_8e9c_11ec_8cf4_02420a390ed2row3_col0\" class=\"data row3 col0\" >wii</td>\n",
       "                        <td id=\"T_5b3a52f4_8e9c_11ec_8cf4_02420a390ed2row3_col1\" class=\"data row3 col1\" >891.18</td>\n",
       "            </tr>\n",
       "            <tr>\n",
       "                        <th id=\"T_5b3a52f4_8e9c_11ec_8cf4_02420a390ed2level0_row4\" class=\"row_heading level0 row4\" >4</th>\n",
       "                        <td id=\"T_5b3a52f4_8e9c_11ec_8cf4_02420a390ed2row4_col0\" class=\"data row4 col0\" >ds</td>\n",
       "                        <td id=\"T_5b3a52f4_8e9c_11ec_8cf4_02420a390ed2row4_col1\" class=\"data row4 col1\" >802.78</td>\n",
       "            </tr>\n",
       "            <tr>\n",
       "                        <th id=\"T_5b3a52f4_8e9c_11ec_8cf4_02420a390ed2level0_row5\" class=\"row_heading level0 row5\" >5</th>\n",
       "                        <td id=\"T_5b3a52f4_8e9c_11ec_8cf4_02420a390ed2row5_col0\" class=\"data row5 col0\" >ps</td>\n",
       "                        <td id=\"T_5b3a52f4_8e9c_11ec_8cf4_02420a390ed2row5_col1\" class=\"data row5 col1\" >727.58</td>\n",
       "            </tr>\n",
       "            <tr>\n",
       "                        <th id=\"T_5b3a52f4_8e9c_11ec_8cf4_02420a390ed2level0_row6\" class=\"row_heading level0 row6\" >6</th>\n",
       "                        <td id=\"T_5b3a52f4_8e9c_11ec_8cf4_02420a390ed2row6_col0\" class=\"data row6 col0\" >ps4</td>\n",
       "                        <td id=\"T_5b3a52f4_8e9c_11ec_8cf4_02420a390ed2row6_col1\" class=\"data row6 col1\" >314.14</td>\n",
       "            </tr>\n",
       "            <tr>\n",
       "                        <th id=\"T_5b3a52f4_8e9c_11ec_8cf4_02420a390ed2level0_row7\" class=\"row_heading level0 row7\" >7</th>\n",
       "                        <td id=\"T_5b3a52f4_8e9c_11ec_8cf4_02420a390ed2row7_col0\" class=\"data row7 col0\" >gba</td>\n",
       "                        <td id=\"T_5b3a52f4_8e9c_11ec_8cf4_02420a390ed2row7_col1\" class=\"data row7 col1\" >312.88</td>\n",
       "            </tr>\n",
       "            <tr>\n",
       "                        <th id=\"T_5b3a52f4_8e9c_11ec_8cf4_02420a390ed2level0_row8\" class=\"row_heading level0 row8\" >8</th>\n",
       "                        <td id=\"T_5b3a52f4_8e9c_11ec_8cf4_02420a390ed2row8_col0\" class=\"data row8 col0\" >psp</td>\n",
       "                        <td id=\"T_5b3a52f4_8e9c_11ec_8cf4_02420a390ed2row8_col1\" class=\"data row8 col1\" >289.53</td>\n",
       "            </tr>\n",
       "            <tr>\n",
       "                        <th id=\"T_5b3a52f4_8e9c_11ec_8cf4_02420a390ed2level0_row9\" class=\"row_heading level0 row9\" >9</th>\n",
       "                        <td id=\"T_5b3a52f4_8e9c_11ec_8cf4_02420a390ed2row9_col0\" class=\"data row9 col0\" >3ds</td>\n",
       "                        <td id=\"T_5b3a52f4_8e9c_11ec_8cf4_02420a390ed2row9_col1\" class=\"data row9 col1\" >257.81</td>\n",
       "            </tr>\n",
       "            <tr>\n",
       "                        <th id=\"T_5b3a52f4_8e9c_11ec_8cf4_02420a390ed2level0_row10\" class=\"row_heading level0 row10\" >10</th>\n",
       "                        <td id=\"T_5b3a52f4_8e9c_11ec_8cf4_02420a390ed2row10_col0\" class=\"data row10 col0\" >pc</td>\n",
       "                        <td id=\"T_5b3a52f4_8e9c_11ec_8cf4_02420a390ed2row10_col1\" class=\"data row10 col1\" >255.76</td>\n",
       "            </tr>\n",
       "            <tr>\n",
       "                        <th id=\"T_5b3a52f4_8e9c_11ec_8cf4_02420a390ed2level0_row11\" class=\"row_heading level0 row11\" >11</th>\n",
       "                        <td id=\"T_5b3a52f4_8e9c_11ec_8cf4_02420a390ed2row11_col0\" class=\"data row11 col0\" >gb</td>\n",
       "                        <td id=\"T_5b3a52f4_8e9c_11ec_8cf4_02420a390ed2row11_col1\" class=\"data row11 col1\" >254.43</td>\n",
       "            </tr>\n",
       "            <tr>\n",
       "                        <th id=\"T_5b3a52f4_8e9c_11ec_8cf4_02420a390ed2level0_row12\" class=\"row_heading level0 row12\" >12</th>\n",
       "                        <td id=\"T_5b3a52f4_8e9c_11ec_8cf4_02420a390ed2row12_col0\" class=\"data row12 col0\" >xb</td>\n",
       "                        <td id=\"T_5b3a52f4_8e9c_11ec_8cf4_02420a390ed2row12_col1\" class=\"data row12 col1\" >251.57</td>\n",
       "            </tr>\n",
       "            <tr>\n",
       "                        <th id=\"T_5b3a52f4_8e9c_11ec_8cf4_02420a390ed2level0_row13\" class=\"row_heading level0 row13\" >13</th>\n",
       "                        <td id=\"T_5b3a52f4_8e9c_11ec_8cf4_02420a390ed2row13_col0\" class=\"data row13 col0\" >nes</td>\n",
       "                        <td id=\"T_5b3a52f4_8e9c_11ec_8cf4_02420a390ed2row13_col1\" class=\"data row13 col1\" >251.05</td>\n",
       "            </tr>\n",
       "            <tr>\n",
       "                        <th id=\"T_5b3a52f4_8e9c_11ec_8cf4_02420a390ed2level0_row14\" class=\"row_heading level0 row14\" >14</th>\n",
       "                        <td id=\"T_5b3a52f4_8e9c_11ec_8cf4_02420a390ed2row14_col0\" class=\"data row14 col0\" >n64</td>\n",
       "                        <td id=\"T_5b3a52f4_8e9c_11ec_8cf4_02420a390ed2row14_col1\" class=\"data row14 col1\" >218.01</td>\n",
       "            </tr>\n",
       "            <tr>\n",
       "                        <th id=\"T_5b3a52f4_8e9c_11ec_8cf4_02420a390ed2level0_row15\" class=\"row_heading level0 row15\" >15</th>\n",
       "                        <td id=\"T_5b3a52f4_8e9c_11ec_8cf4_02420a390ed2row15_col0\" class=\"data row15 col0\" >snes</td>\n",
       "                        <td id=\"T_5b3a52f4_8e9c_11ec_8cf4_02420a390ed2row15_col1\" class=\"data row15 col1\" >200.04</td>\n",
       "            </tr>\n",
       "            <tr>\n",
       "                        <th id=\"T_5b3a52f4_8e9c_11ec_8cf4_02420a390ed2level0_row16\" class=\"row_heading level0 row16\" >16</th>\n",
       "                        <td id=\"T_5b3a52f4_8e9c_11ec_8cf4_02420a390ed2row16_col0\" class=\"data row16 col0\" >gc</td>\n",
       "                        <td id=\"T_5b3a52f4_8e9c_11ec_8cf4_02420a390ed2row16_col1\" class=\"data row16 col1\" >196.73</td>\n",
       "            </tr>\n",
       "            <tr>\n",
       "                        <th id=\"T_5b3a52f4_8e9c_11ec_8cf4_02420a390ed2level0_row17\" class=\"row_heading level0 row17\" >17</th>\n",
       "                        <td id=\"T_5b3a52f4_8e9c_11ec_8cf4_02420a390ed2row17_col0\" class=\"data row17 col0\" >xone</td>\n",
       "                        <td id=\"T_5b3a52f4_8e9c_11ec_8cf4_02420a390ed2row17_col1\" class=\"data row17 col1\" >159.32</td>\n",
       "            </tr>\n",
       "            <tr>\n",
       "                        <th id=\"T_5b3a52f4_8e9c_11ec_8cf4_02420a390ed2level0_row18\" class=\"row_heading level0 row18\" >18</th>\n",
       "                        <td id=\"T_5b3a52f4_8e9c_11ec_8cf4_02420a390ed2row18_col0\" class=\"data row18 col0\" >2600</td>\n",
       "                        <td id=\"T_5b3a52f4_8e9c_11ec_8cf4_02420a390ed2row18_col1\" class=\"data row18 col1\" >86.48</td>\n",
       "            </tr>\n",
       "            <tr>\n",
       "                        <th id=\"T_5b3a52f4_8e9c_11ec_8cf4_02420a390ed2level0_row19\" class=\"row_heading level0 row19\" >19</th>\n",
       "                        <td id=\"T_5b3a52f4_8e9c_11ec_8cf4_02420a390ed2row19_col0\" class=\"data row19 col0\" >wiiu</td>\n",
       "                        <td id=\"T_5b3a52f4_8e9c_11ec_8cf4_02420a390ed2row19_col1\" class=\"data row19 col1\" >82.19</td>\n",
       "            </tr>\n",
       "            <tr>\n",
       "                        <th id=\"T_5b3a52f4_8e9c_11ec_8cf4_02420a390ed2level0_row20\" class=\"row_heading level0 row20\" >20</th>\n",
       "                        <td id=\"T_5b3a52f4_8e9c_11ec_8cf4_02420a390ed2row20_col0\" class=\"data row20 col0\" >psv</td>\n",
       "                        <td id=\"T_5b3a52f4_8e9c_11ec_8cf4_02420a390ed2row20_col1\" class=\"data row20 col1\" >53.81</td>\n",
       "            </tr>\n",
       "            <tr>\n",
       "                        <th id=\"T_5b3a52f4_8e9c_11ec_8cf4_02420a390ed2level0_row21\" class=\"row_heading level0 row21\" >21</th>\n",
       "                        <td id=\"T_5b3a52f4_8e9c_11ec_8cf4_02420a390ed2row21_col0\" class=\"data row21 col0\" >sat</td>\n",
       "                        <td id=\"T_5b3a52f4_8e9c_11ec_8cf4_02420a390ed2row21_col1\" class=\"data row21 col1\" >33.59</td>\n",
       "            </tr>\n",
       "            <tr>\n",
       "                        <th id=\"T_5b3a52f4_8e9c_11ec_8cf4_02420a390ed2level0_row22\" class=\"row_heading level0 row22\" >22</th>\n",
       "                        <td id=\"T_5b3a52f4_8e9c_11ec_8cf4_02420a390ed2row22_col0\" class=\"data row22 col0\" >gen</td>\n",
       "                        <td id=\"T_5b3a52f4_8e9c_11ec_8cf4_02420a390ed2row22_col1\" class=\"data row22 col1\" >28.35</td>\n",
       "            </tr>\n",
       "            <tr>\n",
       "                        <th id=\"T_5b3a52f4_8e9c_11ec_8cf4_02420a390ed2level0_row23\" class=\"row_heading level0 row23\" >23</th>\n",
       "                        <td id=\"T_5b3a52f4_8e9c_11ec_8cf4_02420a390ed2row23_col0\" class=\"data row23 col0\" >dc</td>\n",
       "                        <td id=\"T_5b3a52f4_8e9c_11ec_8cf4_02420a390ed2row23_col1\" class=\"data row23 col1\" >15.95</td>\n",
       "            </tr>\n",
       "            <tr>\n",
       "                        <th id=\"T_5b3a52f4_8e9c_11ec_8cf4_02420a390ed2level0_row24\" class=\"row_heading level0 row24\" >24</th>\n",
       "                        <td id=\"T_5b3a52f4_8e9c_11ec_8cf4_02420a390ed2row24_col0\" class=\"data row24 col0\" >scd</td>\n",
       "                        <td id=\"T_5b3a52f4_8e9c_11ec_8cf4_02420a390ed2row24_col1\" class=\"data row24 col1\" >1.86</td>\n",
       "            </tr>\n",
       "            <tr>\n",
       "                        <th id=\"T_5b3a52f4_8e9c_11ec_8cf4_02420a390ed2level0_row25\" class=\"row_heading level0 row25\" >25</th>\n",
       "                        <td id=\"T_5b3a52f4_8e9c_11ec_8cf4_02420a390ed2row25_col0\" class=\"data row25 col0\" >ng</td>\n",
       "                        <td id=\"T_5b3a52f4_8e9c_11ec_8cf4_02420a390ed2row25_col1\" class=\"data row25 col1\" >1.44</td>\n",
       "            </tr>\n",
       "            <tr>\n",
       "                        <th id=\"T_5b3a52f4_8e9c_11ec_8cf4_02420a390ed2level0_row26\" class=\"row_heading level0 row26\" >26</th>\n",
       "                        <td id=\"T_5b3a52f4_8e9c_11ec_8cf4_02420a390ed2row26_col0\" class=\"data row26 col0\" >ws</td>\n",
       "                        <td id=\"T_5b3a52f4_8e9c_11ec_8cf4_02420a390ed2row26_col1\" class=\"data row26 col1\" >1.42</td>\n",
       "            </tr>\n",
       "            <tr>\n",
       "                        <th id=\"T_5b3a52f4_8e9c_11ec_8cf4_02420a390ed2level0_row27\" class=\"row_heading level0 row27\" >27</th>\n",
       "                        <td id=\"T_5b3a52f4_8e9c_11ec_8cf4_02420a390ed2row27_col0\" class=\"data row27 col0\" >tg16</td>\n",
       "                        <td id=\"T_5b3a52f4_8e9c_11ec_8cf4_02420a390ed2row27_col1\" class=\"data row27 col1\" >0.16</td>\n",
       "            </tr>\n",
       "            <tr>\n",
       "                        <th id=\"T_5b3a52f4_8e9c_11ec_8cf4_02420a390ed2level0_row28\" class=\"row_heading level0 row28\" >28</th>\n",
       "                        <td id=\"T_5b3a52f4_8e9c_11ec_8cf4_02420a390ed2row28_col0\" class=\"data row28 col0\" >3do</td>\n",
       "                        <td id=\"T_5b3a52f4_8e9c_11ec_8cf4_02420a390ed2row28_col1\" class=\"data row28 col1\" >0.1</td>\n",
       "            </tr>\n",
       "            <tr>\n",
       "                        <th id=\"T_5b3a52f4_8e9c_11ec_8cf4_02420a390ed2level0_row29\" class=\"row_heading level0 row29\" >29</th>\n",
       "                        <td id=\"T_5b3a52f4_8e9c_11ec_8cf4_02420a390ed2row29_col0\" class=\"data row29 col0\" >gg</td>\n",
       "                        <td id=\"T_5b3a52f4_8e9c_11ec_8cf4_02420a390ed2row29_col1\" class=\"data row29 col1\" >0.04</td>\n",
       "            </tr>\n",
       "            <tr>\n",
       "                        <th id=\"T_5b3a52f4_8e9c_11ec_8cf4_02420a390ed2level0_row30\" class=\"row_heading level0 row30\" >30</th>\n",
       "                        <td id=\"T_5b3a52f4_8e9c_11ec_8cf4_02420a390ed2row30_col0\" class=\"data row30 col0\" >pcfx</td>\n",
       "                        <td id=\"T_5b3a52f4_8e9c_11ec_8cf4_02420a390ed2row30_col1\" class=\"data row30 col1\" >0.03</td>\n",
       "            </tr>\n",
       "    </tbody></table>"
      ],
      "text/plain": [
       "<pandas.io.formats.style.Styler at 0x7f41513d1cd0>"
      ]
     },
     "execution_count": 29,
     "metadata": {},
     "output_type": "execute_result"
    }
   ],
   "source": [
    "#сгруппируем данные по платформам, суммируем продажи и отсортируем их\n",
    "top_platforms = (\n",
    "    data.groupby('platform')\n",
    "    .agg({'all_sales': 'sum'})\n",
    "    .sort_values(by ='all_sales', ascending=False)\n",
    "    .reset_index()\n",
    ")\n",
    "\n",
    "#выведем платформы по рейтингу продаж\n",
    "top_platforms.style.background_gradient('coolwarm', subset='all_sales')"
   ]
  },
  {
   "cell_type": "markdown",
   "metadata": {},
   "source": [
    "Из группировки видно, что после платформы PS общее число продаж резко падает и продолжает дальше незначительно убывать.\n",
    "Следовательно, дальнейший анализ можно проводить по 6 платформам с наибольшим числом продаж."
   ]
  },
  {
   "cell_type": "code",
   "execution_count": 30,
   "metadata": {},
   "outputs": [],
   "source": [
    "#составим список из топ-6\n",
    "top_platforms = ['ps2', 'x360', 'ps3', 'wii', 'ds', 'ps']"
   ]
  },
  {
   "cell_type": "code",
   "execution_count": 31,
   "metadata": {},
   "outputs": [
    {
     "data": {
      "text/html": [
       "<div>\n",
       "<style scoped>\n",
       "    .dataframe tbody tr th:only-of-type {\n",
       "        vertical-align: middle;\n",
       "    }\n",
       "\n",
       "    .dataframe tbody tr th {\n",
       "        vertical-align: top;\n",
       "    }\n",
       "\n",
       "    .dataframe thead th {\n",
       "        text-align: right;\n",
       "    }\n",
       "</style>\n",
       "<table border=\"1\" class=\"dataframe\">\n",
       "  <thead>\n",
       "    <tr style=\"text-align: right;\">\n",
       "      <th></th>\n",
       "      <th>name</th>\n",
       "      <th>platform</th>\n",
       "      <th>year_of_release</th>\n",
       "      <th>genre</th>\n",
       "      <th>na_sales</th>\n",
       "      <th>eu_sales</th>\n",
       "      <th>jp_sales</th>\n",
       "      <th>other_sales</th>\n",
       "      <th>critic_score</th>\n",
       "      <th>user_score</th>\n",
       "      <th>rating</th>\n",
       "      <th>all_sales</th>\n",
       "    </tr>\n",
       "  </thead>\n",
       "  <tbody>\n",
       "    <tr>\n",
       "      <td>0</td>\n",
       "      <td>wii sports</td>\n",
       "      <td>wii</td>\n",
       "      <td>2006</td>\n",
       "      <td>sports</td>\n",
       "      <td>41.36</td>\n",
       "      <td>28.96</td>\n",
       "      <td>3.77</td>\n",
       "      <td>8.45</td>\n",
       "      <td>76.00</td>\n",
       "      <td>8.00</td>\n",
       "      <td>E</td>\n",
       "      <td>82.54</td>\n",
       "    </tr>\n",
       "    <tr>\n",
       "      <td>1</td>\n",
       "      <td>mario kart wii</td>\n",
       "      <td>wii</td>\n",
       "      <td>2008</td>\n",
       "      <td>racing</td>\n",
       "      <td>15.68</td>\n",
       "      <td>12.76</td>\n",
       "      <td>3.79</td>\n",
       "      <td>3.29</td>\n",
       "      <td>82.00</td>\n",
       "      <td>8.30</td>\n",
       "      <td>E</td>\n",
       "      <td>35.52</td>\n",
       "    </tr>\n",
       "    <tr>\n",
       "      <td>2</td>\n",
       "      <td>wii sports resort</td>\n",
       "      <td>wii</td>\n",
       "      <td>2009</td>\n",
       "      <td>sports</td>\n",
       "      <td>15.61</td>\n",
       "      <td>10.93</td>\n",
       "      <td>3.28</td>\n",
       "      <td>2.95</td>\n",
       "      <td>80.00</td>\n",
       "      <td>8.00</td>\n",
       "      <td>E</td>\n",
       "      <td>32.77</td>\n",
       "    </tr>\n",
       "    <tr>\n",
       "      <td>3</td>\n",
       "      <td>new super mario bros.</td>\n",
       "      <td>ds</td>\n",
       "      <td>2006</td>\n",
       "      <td>platform</td>\n",
       "      <td>11.28</td>\n",
       "      <td>9.14</td>\n",
       "      <td>6.50</td>\n",
       "      <td>2.88</td>\n",
       "      <td>89.00</td>\n",
       "      <td>8.50</td>\n",
       "      <td>E</td>\n",
       "      <td>29.80</td>\n",
       "    </tr>\n",
       "    <tr>\n",
       "      <td>4</td>\n",
       "      <td>wii play</td>\n",
       "      <td>wii</td>\n",
       "      <td>2006</td>\n",
       "      <td>misc</td>\n",
       "      <td>13.96</td>\n",
       "      <td>9.18</td>\n",
       "      <td>2.93</td>\n",
       "      <td>2.84</td>\n",
       "      <td>58.00</td>\n",
       "      <td>6.60</td>\n",
       "      <td>E</td>\n",
       "      <td>28.91</td>\n",
       "    </tr>\n",
       "  </tbody>\n",
       "</table>\n",
       "</div>"
      ],
      "text/plain": [
       "                    name platform  year_of_release     genre  na_sales  \\\n",
       "0             wii sports      wii             2006    sports     41.36   \n",
       "1         mario kart wii      wii             2008    racing     15.68   \n",
       "2      wii sports resort      wii             2009    sports     15.61   \n",
       "3  new super mario bros.       ds             2006  platform     11.28   \n",
       "4               wii play      wii             2006      misc     13.96   \n",
       "\n",
       "   eu_sales  jp_sales  other_sales  critic_score  user_score rating  all_sales  \n",
       "0     28.96      3.77         8.45         76.00        8.00      E      82.54  \n",
       "1     12.76      3.79         3.29         82.00        8.30      E      35.52  \n",
       "2     10.93      3.28         2.95         80.00        8.00      E      32.77  \n",
       "3      9.14      6.50         2.88         89.00        8.50      E      29.80  \n",
       "4      9.18      2.93         2.84         58.00        6.60      E      28.91  "
      ]
     },
     "execution_count": 31,
     "metadata": {},
     "output_type": "execute_result"
    }
   ],
   "source": [
    "#в новую переменную сохраним только те строки, в которых значение платформы попадает в топ-6 по продажам\n",
    "top_6_platforms = data.query('platform in @top_platforms').reset_index(drop=True)\n",
    "top_6_platforms.head()"
   ]
  },
  {
   "cell_type": "code",
   "execution_count": 32,
   "metadata": {},
   "outputs": [
    {
     "data": {
      "text/html": [
       "<div>\n",
       "<style scoped>\n",
       "    .dataframe tbody tr th:only-of-type {\n",
       "        vertical-align: middle;\n",
       "    }\n",
       "\n",
       "    .dataframe tbody tr th {\n",
       "        vertical-align: top;\n",
       "    }\n",
       "\n",
       "    .dataframe thead th {\n",
       "        text-align: right;\n",
       "    }\n",
       "</style>\n",
       "<table border=\"1\" class=\"dataframe\">\n",
       "  <thead>\n",
       "    <tr style=\"text-align: right;\">\n",
       "      <th>platform</th>\n",
       "      <th>ds</th>\n",
       "      <th>ps</th>\n",
       "      <th>ps2</th>\n",
       "      <th>ps3</th>\n",
       "      <th>wii</th>\n",
       "      <th>x360</th>\n",
       "    </tr>\n",
       "    <tr>\n",
       "      <th>year_of_release</th>\n",
       "      <th></th>\n",
       "      <th></th>\n",
       "      <th></th>\n",
       "      <th></th>\n",
       "      <th></th>\n",
       "      <th></th>\n",
       "    </tr>\n",
       "  </thead>\n",
       "  <tbody>\n",
       "    <tr>\n",
       "      <td>1985</td>\n",
       "      <td>1</td>\n",
       "      <td>0</td>\n",
       "      <td>0</td>\n",
       "      <td>0</td>\n",
       "      <td>0</td>\n",
       "      <td>0</td>\n",
       "    </tr>\n",
       "    <tr>\n",
       "      <td>1994</td>\n",
       "      <td>0</td>\n",
       "      <td>17</td>\n",
       "      <td>0</td>\n",
       "      <td>0</td>\n",
       "      <td>0</td>\n",
       "      <td>0</td>\n",
       "    </tr>\n",
       "    <tr>\n",
       "      <td>1995</td>\n",
       "      <td>0</td>\n",
       "      <td>99</td>\n",
       "      <td>0</td>\n",
       "      <td>0</td>\n",
       "      <td>0</td>\n",
       "      <td>0</td>\n",
       "    </tr>\n",
       "    <tr>\n",
       "      <td>1996</td>\n",
       "      <td>0</td>\n",
       "      <td>164</td>\n",
       "      <td>0</td>\n",
       "      <td>0</td>\n",
       "      <td>0</td>\n",
       "      <td>0</td>\n",
       "    </tr>\n",
       "    <tr>\n",
       "      <td>1997</td>\n",
       "      <td>0</td>\n",
       "      <td>188</td>\n",
       "      <td>0</td>\n",
       "      <td>0</td>\n",
       "      <td>0</td>\n",
       "      <td>0</td>\n",
       "    </tr>\n",
       "    <tr>\n",
       "      <td>1998</td>\n",
       "      <td>0</td>\n",
       "      <td>248</td>\n",
       "      <td>0</td>\n",
       "      <td>0</td>\n",
       "      <td>0</td>\n",
       "      <td>0</td>\n",
       "    </tr>\n",
       "    <tr>\n",
       "      <td>1999</td>\n",
       "      <td>0</td>\n",
       "      <td>200</td>\n",
       "      <td>0</td>\n",
       "      <td>0</td>\n",
       "      <td>0</td>\n",
       "      <td>0</td>\n",
       "    </tr>\n",
       "    <tr>\n",
       "      <td>2000</td>\n",
       "      <td>0</td>\n",
       "      <td>160</td>\n",
       "      <td>82</td>\n",
       "      <td>0</td>\n",
       "      <td>0</td>\n",
       "      <td>0</td>\n",
       "    </tr>\n",
       "    <tr>\n",
       "      <td>2001</td>\n",
       "      <td>0</td>\n",
       "      <td>91</td>\n",
       "      <td>185</td>\n",
       "      <td>0</td>\n",
       "      <td>0</td>\n",
       "      <td>0</td>\n",
       "    </tr>\n",
       "    <tr>\n",
       "      <td>2002</td>\n",
       "      <td>0</td>\n",
       "      <td>20</td>\n",
       "      <td>280</td>\n",
       "      <td>0</td>\n",
       "      <td>0</td>\n",
       "      <td>0</td>\n",
       "    </tr>\n",
       "    <tr>\n",
       "      <td>2003</td>\n",
       "      <td>0</td>\n",
       "      <td>3</td>\n",
       "      <td>256</td>\n",
       "      <td>0</td>\n",
       "      <td>0</td>\n",
       "      <td>0</td>\n",
       "    </tr>\n",
       "    <tr>\n",
       "      <td>2004</td>\n",
       "      <td>23</td>\n",
       "      <td>0</td>\n",
       "      <td>259</td>\n",
       "      <td>0</td>\n",
       "      <td>0</td>\n",
       "      <td>0</td>\n",
       "    </tr>\n",
       "    <tr>\n",
       "      <td>2005</td>\n",
       "      <td>118</td>\n",
       "      <td>0</td>\n",
       "      <td>260</td>\n",
       "      <td>0</td>\n",
       "      <td>0</td>\n",
       "      <td>18</td>\n",
       "    </tr>\n",
       "    <tr>\n",
       "      <td>2006</td>\n",
       "      <td>201</td>\n",
       "      <td>0</td>\n",
       "      <td>259</td>\n",
       "      <td>27</td>\n",
       "      <td>44</td>\n",
       "      <td>93</td>\n",
       "    </tr>\n",
       "    <tr>\n",
       "      <td>2007</td>\n",
       "      <td>376</td>\n",
       "      <td>0</td>\n",
       "      <td>214</td>\n",
       "      <td>90</td>\n",
       "      <td>185</td>\n",
       "      <td>123</td>\n",
       "    </tr>\n",
       "    <tr>\n",
       "      <td>2008</td>\n",
       "      <td>492</td>\n",
       "      <td>0</td>\n",
       "      <td>191</td>\n",
       "      <td>138</td>\n",
       "      <td>282</td>\n",
       "      <td>146</td>\n",
       "    </tr>\n",
       "    <tr>\n",
       "      <td>2009</td>\n",
       "      <td>403</td>\n",
       "      <td>0</td>\n",
       "      <td>96</td>\n",
       "      <td>162</td>\n",
       "      <td>325</td>\n",
       "      <td>172</td>\n",
       "    </tr>\n",
       "    <tr>\n",
       "      <td>2010</td>\n",
       "      <td>323</td>\n",
       "      <td>0</td>\n",
       "      <td>38</td>\n",
       "      <td>181</td>\n",
       "      <td>253</td>\n",
       "      <td>182</td>\n",
       "    </tr>\n",
       "    <tr>\n",
       "      <td>2011</td>\n",
       "      <td>153</td>\n",
       "      <td>0</td>\n",
       "      <td>7</td>\n",
       "      <td>215</td>\n",
       "      <td>143</td>\n",
       "      <td>206</td>\n",
       "    </tr>\n",
       "    <tr>\n",
       "      <td>2012</td>\n",
       "      <td>23</td>\n",
       "      <td>0</td>\n",
       "      <td>0</td>\n",
       "      <td>148</td>\n",
       "      <td>31</td>\n",
       "      <td>106</td>\n",
       "    </tr>\n",
       "    <tr>\n",
       "      <td>2013</td>\n",
       "      <td>8</td>\n",
       "      <td>0</td>\n",
       "      <td>0</td>\n",
       "      <td>126</td>\n",
       "      <td>12</td>\n",
       "      <td>75</td>\n",
       "    </tr>\n",
       "    <tr>\n",
       "      <td>2014</td>\n",
       "      <td>0</td>\n",
       "      <td>0</td>\n",
       "      <td>0</td>\n",
       "      <td>108</td>\n",
       "      <td>6</td>\n",
       "      <td>63</td>\n",
       "    </tr>\n",
       "    <tr>\n",
       "      <td>2015</td>\n",
       "      <td>0</td>\n",
       "      <td>0</td>\n",
       "      <td>0</td>\n",
       "      <td>73</td>\n",
       "      <td>4</td>\n",
       "      <td>35</td>\n",
       "    </tr>\n",
       "    <tr>\n",
       "      <td>2016</td>\n",
       "      <td>0</td>\n",
       "      <td>0</td>\n",
       "      <td>0</td>\n",
       "      <td>38</td>\n",
       "      <td>1</td>\n",
       "      <td>13</td>\n",
       "    </tr>\n",
       "  </tbody>\n",
       "</table>\n",
       "</div>"
      ],
      "text/plain": [
       "platform          ds   ps  ps2  ps3  wii  x360\n",
       "year_of_release                               \n",
       "1985               1    0    0    0    0     0\n",
       "1994               0   17    0    0    0     0\n",
       "1995               0   99    0    0    0     0\n",
       "1996               0  164    0    0    0     0\n",
       "1997               0  188    0    0    0     0\n",
       "1998               0  248    0    0    0     0\n",
       "1999               0  200    0    0    0     0\n",
       "2000               0  160   82    0    0     0\n",
       "2001               0   91  185    0    0     0\n",
       "2002               0   20  280    0    0     0\n",
       "2003               0    3  256    0    0     0\n",
       "2004              23    0  259    0    0     0\n",
       "2005             118    0  260    0    0    18\n",
       "2006             201    0  259   27   44    93\n",
       "2007             376    0  214   90  185   123\n",
       "2008             492    0  191  138  282   146\n",
       "2009             403    0   96  162  325   172\n",
       "2010             323    0   38  181  253   182\n",
       "2011             153    0    7  215  143   206\n",
       "2012              23    0    0  148   31   106\n",
       "2013               8    0    0  126   12    75\n",
       "2014               0    0    0  108    6    63\n",
       "2015               0    0    0   73    4    35\n",
       "2016               0    0    0   38    1    13"
      ]
     },
     "execution_count": 32,
     "metadata": {},
     "output_type": "execute_result"
    }
   ],
   "source": [
    "#построим сводную таблицу для игр в топ-6 платформ и посмотрим на распределение по годам\n",
    "top_6_platforms.pivot_table(\n",
    "                index='year_of_release', \n",
    "                columns='platform', \n",
    "                values='all_sales',\n",
    "                aggfunc='count',\n",
    "                fill_value=0)\n"
   ]
  },
  {
   "cell_type": "markdown",
   "metadata": {},
   "source": [
    "На сводной таблице обнаружено подозрительное значение для платформы ds - игра, датированная 1985 годом, хотя старт этой консоли - 2004 год.\n",
    "\n",
    "По распределению данных сводной таблицы, видно, что каждая платформа существует несколько лет, затем продажи стремяться к 0. Проверим это, построив график."
   ]
  },
  {
   "cell_type": "code",
   "execution_count": 33,
   "metadata": {},
   "outputs": [],
   "source": [
    "#сначала уберем обнаруженную аномалию\n",
    "top_6_platforms = top_6_platforms.query('year_of_release >= 1994').reset_index(drop=True)"
   ]
  },
  {
   "cell_type": "code",
   "execution_count": 34,
   "metadata": {},
   "outputs": [
    {
     "data": {
      "image/png": "[encoded data removed]",
      "text/plain": [
       "<Figure size 1008x504 with 1 Axes>"
      ]
     },
     "metadata": {
      "needs_background": "light"
     },
     "output_type": "display_data"
    }
   ],
   "source": [
    "#построим сводную таблицу и график на ее основе\n",
    "(\n",
    "    top_6_platforms.pivot_table(\n",
    "                             index='year_of_release', \n",
    "                             columns='platform', \n",
    "                             values='all_sales',\n",
    "                             aggfunc='count',\n",
    "                             fill_value=0\n",
    "                )\n",
    "                .plot(grid=True, style=\"-\", figsize=(14,7))\n",
    ")\n",
    "plt.title('Продажи игр по годам и платформам')\n",
    "plt.ylabel('Количество проданных игр (млн.копий)')\n",
    "plt.xlabel('Год продаж')\n",
    "plt.legend(loc='upper left', fontsize=14, title='Легенда', title_fontsize=14, shadow=True, frameon=True, facecolor='w')\n",
    "plt.show()"
   ]
  },
  {
   "cell_type": "markdown",
   "metadata": {},
   "source": [
    "На графике видно, что игры для каждой плафтормы продаются около 10 лет. Пик продаж приходится на 5-7 год выпуска и далее продажи идут на спад.\n",
    "\n",
    "### Актуальный период и платформы\n",
    "\n",
    "В результате предыдущих шагов, мы определили, что для того, чтобы в 2017 году продажи игр принесли прибыль, необходимо, чтобы консоли уже существовали максимум 5 лет, а продажи игр для них еще не закончились. Исходя из количества выпущенных игр, можно ожидать также в течение 5 лет рост количества выпускаемых игровых продуктов.\n",
    "\n",
    "Следовательно, актуальным будет период, начиная с 2011 года.\n",
    "\n",
    "Посмотрим, какие платформы соотвествуют этим критериям."
   ]
  },
  {
   "cell_type": "code",
   "execution_count": 100,
   "metadata": {},
   "outputs": [
    {
     "data": {
      "text/html": [
       "<div>\n",
       "<style scoped>\n",
       "    .dataframe tbody tr th:only-of-type {\n",
       "        vertical-align: middle;\n",
       "    }\n",
       "\n",
       "    .dataframe tbody tr th {\n",
       "        vertical-align: top;\n",
       "    }\n",
       "\n",
       "    .dataframe thead th {\n",
       "        text-align: right;\n",
       "    }\n",
       "</style>\n",
       "<table border=\"1\" class=\"dataframe\">\n",
       "  <thead>\n",
       "    <tr style=\"text-align: right;\">\n",
       "      <th>platform</th>\n",
       "      <th>3ds</th>\n",
       "      <th>ds</th>\n",
       "      <th>pc</th>\n",
       "      <th>ps2</th>\n",
       "      <th>ps3</th>\n",
       "      <th>ps4</th>\n",
       "      <th>psp</th>\n",
       "      <th>psv</th>\n",
       "      <th>wii</th>\n",
       "      <th>wiiu</th>\n",
       "      <th>x360</th>\n",
       "      <th>xone</th>\n",
       "    </tr>\n",
       "    <tr>\n",
       "      <th>year_of_release</th>\n",
       "      <th></th>\n",
       "      <th></th>\n",
       "      <th></th>\n",
       "      <th></th>\n",
       "      <th></th>\n",
       "      <th></th>\n",
       "      <th></th>\n",
       "      <th></th>\n",
       "      <th></th>\n",
       "      <th></th>\n",
       "      <th></th>\n",
       "      <th></th>\n",
       "    </tr>\n",
       "  </thead>\n",
       "  <tbody>\n",
       "    <tr>\n",
       "      <td>2011</td>\n",
       "      <td>116</td>\n",
       "      <td>153</td>\n",
       "      <td>139</td>\n",
       "      <td>7</td>\n",
       "      <td>215</td>\n",
       "      <td>0</td>\n",
       "      <td>139</td>\n",
       "      <td>18</td>\n",
       "      <td>143</td>\n",
       "      <td>0</td>\n",
       "      <td>206</td>\n",
       "      <td>0</td>\n",
       "    </tr>\n",
       "    <tr>\n",
       "      <td>2012</td>\n",
       "      <td>93</td>\n",
       "      <td>23</td>\n",
       "      <td>61</td>\n",
       "      <td>0</td>\n",
       "      <td>148</td>\n",
       "      <td>0</td>\n",
       "      <td>106</td>\n",
       "      <td>53</td>\n",
       "      <td>31</td>\n",
       "      <td>32</td>\n",
       "      <td>106</td>\n",
       "      <td>0</td>\n",
       "    </tr>\n",
       "    <tr>\n",
       "      <td>2013</td>\n",
       "      <td>91</td>\n",
       "      <td>8</td>\n",
       "      <td>38</td>\n",
       "      <td>0</td>\n",
       "      <td>126</td>\n",
       "      <td>16</td>\n",
       "      <td>54</td>\n",
       "      <td>63</td>\n",
       "      <td>12</td>\n",
       "      <td>42</td>\n",
       "      <td>75</td>\n",
       "      <td>19</td>\n",
       "    </tr>\n",
       "    <tr>\n",
       "      <td>2014</td>\n",
       "      <td>80</td>\n",
       "      <td>0</td>\n",
       "      <td>47</td>\n",
       "      <td>0</td>\n",
       "      <td>108</td>\n",
       "      <td>75</td>\n",
       "      <td>10</td>\n",
       "      <td>100</td>\n",
       "      <td>6</td>\n",
       "      <td>31</td>\n",
       "      <td>63</td>\n",
       "      <td>61</td>\n",
       "    </tr>\n",
       "    <tr>\n",
       "      <td>2015</td>\n",
       "      <td>86</td>\n",
       "      <td>0</td>\n",
       "      <td>50</td>\n",
       "      <td>0</td>\n",
       "      <td>73</td>\n",
       "      <td>137</td>\n",
       "      <td>3</td>\n",
       "      <td>110</td>\n",
       "      <td>4</td>\n",
       "      <td>28</td>\n",
       "      <td>35</td>\n",
       "      <td>80</td>\n",
       "    </tr>\n",
       "    <tr>\n",
       "      <td>2016</td>\n",
       "      <td>46</td>\n",
       "      <td>0</td>\n",
       "      <td>54</td>\n",
       "      <td>0</td>\n",
       "      <td>38</td>\n",
       "      <td>164</td>\n",
       "      <td>0</td>\n",
       "      <td>85</td>\n",
       "      <td>1</td>\n",
       "      <td>14</td>\n",
       "      <td>13</td>\n",
       "      <td>87</td>\n",
       "    </tr>\n",
       "  </tbody>\n",
       "</table>\n",
       "</div>"
      ],
      "text/plain": [
       "platform         3ds   ds   pc  ps2  ps3  ps4  psp  psv  wii  wiiu  x360  xone\n",
       "year_of_release                                                               \n",
       "2011             116  153  139    7  215    0  139   18  143     0   206     0\n",
       "2012              93   23   61    0  148    0  106   53   31    32   106     0\n",
       "2013              91    8   38    0  126   16   54   63   12    42    75    19\n",
       "2014              80    0   47    0  108   75   10  100    6    31    63    61\n",
       "2015              86    0   50    0   73  137    3  110    4    28    35    80\n",
       "2016              46    0   54    0   38  164    0   85    1    14    13    87"
      ]
     },
     "execution_count": 100,
     "metadata": {},
     "output_type": "execute_result"
    }
   ],
   "source": [
    "#построим сводную таблицу, и определим, какие платформы только начали продажи, а какие уже завершают\n",
    "\n",
    "#выпущено игр по годам\n",
    "(\n",
    "    data.query('year_of_release >= 2011')\n",
    "        .pivot_table(\n",
    "                index='year_of_release', \n",
    "                columns='platform', \n",
    "                values='name',\n",
    "                aggfunc='count',\n",
    "                fill_value=0\n",
    "               )\n",
    ")"
   ]
  },
  {
   "cell_type": "code",
   "execution_count": 158,
   "metadata": {},
   "outputs": [
    {
     "data": {
      "text/html": [
       "<div>\n",
       "<style scoped>\n",
       "    .dataframe tbody tr th:only-of-type {\n",
       "        vertical-align: middle;\n",
       "    }\n",
       "\n",
       "    .dataframe tbody tr th {\n",
       "        vertical-align: top;\n",
       "    }\n",
       "\n",
       "    .dataframe thead th {\n",
       "        text-align: right;\n",
       "    }\n",
       "</style>\n",
       "<table border=\"1\" class=\"dataframe\">\n",
       "  <thead>\n",
       "    <tr style=\"text-align: right;\">\n",
       "      <th>platform</th>\n",
       "      <th>3ds</th>\n",
       "      <th>ds</th>\n",
       "      <th>pc</th>\n",
       "      <th>ps2</th>\n",
       "      <th>ps3</th>\n",
       "      <th>ps4</th>\n",
       "      <th>psp</th>\n",
       "      <th>psv</th>\n",
       "      <th>wii</th>\n",
       "      <th>wiiu</th>\n",
       "      <th>x360</th>\n",
       "      <th>xone</th>\n",
       "    </tr>\n",
       "    <tr>\n",
       "      <th>year_of_release</th>\n",
       "      <th></th>\n",
       "      <th></th>\n",
       "      <th></th>\n",
       "      <th></th>\n",
       "      <th></th>\n",
       "      <th></th>\n",
       "      <th></th>\n",
       "      <th></th>\n",
       "      <th></th>\n",
       "      <th></th>\n",
       "      <th></th>\n",
       "      <th></th>\n",
       "    </tr>\n",
       "  </thead>\n",
       "  <tbody>\n",
       "    <tr>\n",
       "      <td>2011</td>\n",
       "      <td>63.20</td>\n",
       "      <td>26.18</td>\n",
       "      <td>35.03</td>\n",
       "      <td>0.45</td>\n",
       "      <td>156.78</td>\n",
       "      <td>0.00</td>\n",
       "      <td>17.82</td>\n",
       "      <td>4.63</td>\n",
       "      <td>59.65</td>\n",
       "      <td>0.00</td>\n",
       "      <td>143.84</td>\n",
       "      <td>0.00</td>\n",
       "    </tr>\n",
       "    <tr>\n",
       "      <td>2012</td>\n",
       "      <td>51.36</td>\n",
       "      <td>11.01</td>\n",
       "      <td>23.22</td>\n",
       "      <td>0.00</td>\n",
       "      <td>107.36</td>\n",
       "      <td>0.00</td>\n",
       "      <td>7.69</td>\n",
       "      <td>16.19</td>\n",
       "      <td>21.71</td>\n",
       "      <td>17.56</td>\n",
       "      <td>99.74</td>\n",
       "      <td>0.00</td>\n",
       "    </tr>\n",
       "    <tr>\n",
       "      <td>2013</td>\n",
       "      <td>56.57</td>\n",
       "      <td>1.54</td>\n",
       "      <td>12.38</td>\n",
       "      <td>0.00</td>\n",
       "      <td>113.25</td>\n",
       "      <td>25.99</td>\n",
       "      <td>3.14</td>\n",
       "      <td>10.59</td>\n",
       "      <td>8.59</td>\n",
       "      <td>21.65</td>\n",
       "      <td>88.58</td>\n",
       "      <td>18.96</td>\n",
       "    </tr>\n",
       "    <tr>\n",
       "      <td>2014</td>\n",
       "      <td>43.76</td>\n",
       "      <td>0.00</td>\n",
       "      <td>13.28</td>\n",
       "      <td>0.00</td>\n",
       "      <td>47.76</td>\n",
       "      <td>100.00</td>\n",
       "      <td>0.24</td>\n",
       "      <td>11.90</td>\n",
       "      <td>3.75</td>\n",
       "      <td>22.03</td>\n",
       "      <td>34.74</td>\n",
       "      <td>54.07</td>\n",
       "    </tr>\n",
       "    <tr>\n",
       "      <td>2015</td>\n",
       "      <td>27.78</td>\n",
       "      <td>0.00</td>\n",
       "      <td>8.52</td>\n",
       "      <td>0.00</td>\n",
       "      <td>16.82</td>\n",
       "      <td>118.90</td>\n",
       "      <td>0.12</td>\n",
       "      <td>6.25</td>\n",
       "      <td>1.14</td>\n",
       "      <td>16.35</td>\n",
       "      <td>11.96</td>\n",
       "      <td>60.14</td>\n",
       "    </tr>\n",
       "    <tr>\n",
       "      <td>2016</td>\n",
       "      <td>15.14</td>\n",
       "      <td>0.00</td>\n",
       "      <td>5.25</td>\n",
       "      <td>0.00</td>\n",
       "      <td>3.60</td>\n",
       "      <td>69.25</td>\n",
       "      <td>0.00</td>\n",
       "      <td>4.25</td>\n",
       "      <td>0.18</td>\n",
       "      <td>4.60</td>\n",
       "      <td>1.52</td>\n",
       "      <td>26.15</td>\n",
       "    </tr>\n",
       "  </tbody>\n",
       "</table>\n",
       "</div>"
      ],
      "text/plain": [
       "platform          3ds    ds    pc  ps2    ps3    ps4   psp   psv   wii  wiiu  \\\n",
       "year_of_release                                                                \n",
       "2011            63.20 26.18 35.03 0.45 156.78   0.00 17.82  4.63 59.65  0.00   \n",
       "2012            51.36 11.01 23.22 0.00 107.36   0.00  7.69 16.19 21.71 17.56   \n",
       "2013            56.57  1.54 12.38 0.00 113.25  25.99  3.14 10.59  8.59 21.65   \n",
       "2014            43.76  0.00 13.28 0.00  47.76 100.00  0.24 11.90  3.75 22.03   \n",
       "2015            27.78  0.00  8.52 0.00  16.82 118.90  0.12  6.25  1.14 16.35   \n",
       "2016            15.14  0.00  5.25 0.00   3.60  69.25  0.00  4.25  0.18  4.60   \n",
       "\n",
       "platform          x360  xone  \n",
       "year_of_release               \n",
       "2011            143.84  0.00  \n",
       "2012             99.74  0.00  \n",
       "2013             88.58 18.96  \n",
       "2014             34.74 54.07  \n",
       "2015             11.96 60.14  \n",
       "2016              1.52 26.15  "
      ]
     },
     "execution_count": 158,
     "metadata": {},
     "output_type": "execute_result"
    }
   ],
   "source": [
    "#продажи игр по годам\n",
    "(\n",
    "    data.query('year_of_release >= 2011')\n",
    "        .pivot_table(\n",
    "                index='year_of_release', \n",
    "                columns='platform', \n",
    "                values='all_sales',\n",
    "                aggfunc='sum',\n",
    "                fill_value=0\n",
    "               )\n",
    ")"
   ]
  },
  {
   "cell_type": "markdown",
   "metadata": {},
   "source": [
    "Исходя из данных сводной таблицы, наиболее актуальными для исследования являются платформы pc, ps4, xone. Постепенное снижение продаж наблюдается у 3ds, psv, ps3, wiiu, x360. \n",
    "\n",
    "Платформы ds, ps2 к 2016 году перестали выпускать новые игры, а продажи по ним равны 0. Наблюдается резкое снижение продаж к 2016 году у платформ psp, wii.\n",
    "\n",
    "Из технического описания мы знаем, что данные за 2016 год могут быть неполными. Для более объективного анализа, срежем нижнюю границу до 2015 года. \n",
    "По состоянию на этот год, 3ds и psv еще пока не склонны терять в продажах.\n",
    "\n",
    "Таким образом, в актуальный список платформ попадают 3ds, psv, pc, ps4, xone."
   ]
  },
  {
   "cell_type": "code",
   "execution_count": 37,
   "metadata": {},
   "outputs": [
    {
     "name": "stderr",
     "output_type": "stream",
     "text": [
      "/opt/conda/lib/python3.7/site-packages/numpy/core/_asarray.py:83: VisibleDeprecationWarning: Creating an ndarray from ragged nested sequences (which is a list-or-tuple of lists-or-tuples-or ndarrays with different lengths or shapes) is deprecated. If you meant to do this, you must specify 'dtype=object' when creating the ndarray\n",
      "  return array(a, dtype, copy=False, order=order)\n"
     ]
    },
    {
     "data": {
      "image/png": "[encoded data removed]",
      "text/plain": [
       "<Figure size 720x864 with 1 Axes>"
      ]
     },
     "metadata": {
      "needs_background": "light"
     },
     "output_type": "display_data"
    }
   ],
   "source": [
    "#построим диаграммы размаха продаж для выбранного актуального периода и наиболее перспективных платформ\n",
    "top_actual_platforms = ['3ds', 'pc', 'ps4', 'psv', 'xone']\n",
    "(    \n",
    "    data.query('2015 >= year_of_release >= 2011 & platform in @top_actual_platforms')\n",
    "        .boxplot(column='all_sales', by='platform', figsize=(10,12))\n",
    ")\n",
    "plt.title('Диаграммы размаха по актуальным платформам')\n",
    "plt.ylabel('Сумма глобальных продаж (млн.копий)')\n",
    "plt.xlabel('Название платформы')\n",
    "plt.ylim(-0.25,3.25)\n",
    "plt.show()"
   ]
  },
  {
   "cell_type": "markdown",
   "metadata": {},
   "source": [
    "Из диаграмм размаха можно сделать следующие выводы:\n",
    "- для каждой платформы есть ряд игр, продажи которых принесли больше медианного значения;\n",
    "- нулевая точка отсчета связана тем, что в выборке есть платформы как уже существующие на рынке ранtе, так и стартовавшие позже выбранной нижней годовой границы;\n",
    "- медианные значения продаж по платформам лежат в пределах около 0,25 млн.копий и менее;\n",
    "- лучше всего продаются игры на ps4, вторая платформа по лидерству продаж - xbox one, а хуже всего продаются игры на psv;\n",
    "- при этом медианное значение у xbox one выше, чем у ps4.\n",
    "\n",
    "У каждой платформы есть значительное количество успешных продуктов, принесших большую прибыль. Такие бестселлеры отображаются на диаграмме точками, выше последней горизонтальной черты. Все, что лежит между нулевой точкой отсчета (нижняя горизонтальная черта) и верхней горизонтальной чертой - это диапазон, в который попадают типичные продажи игр для данной платформы. Бестселлеры есть у каждой консоли и могут существенно исказить данные при подсчете средних продаж. Поэтому для построения прогнозов лучше ориентироваться на медианные значения. Из диаграммы видно, что медианные значения лежат примерно в одном диапазоне, тогда как количество продаж бестселлеров-выбросов очень разнообразно\n",
    "\n",
    "### Анализ платформы Xbox One\n",
    "\n",
    "Рассмотрим, как влияют на продажи внутри платформы xbox one отзывы пользователей и критиков. <br>\n",
    "Построим диаграмму рассеяния и посчитаем корреляцию между отзывами и продажами. \n",
    "В выборке учтем, что продажи игр для xone стартовали только в 2013 году (см.сводную таблицу по актуальному периоду), а данные за 2016 год могут быть не полными."
   ]
  },
  {
   "cell_type": "code",
   "execution_count": 38,
   "metadata": {},
   "outputs": [
    {
     "data": {
      "text/html": [
       "<div>\n",
       "<style scoped>\n",
       "    .dataframe tbody tr th:only-of-type {\n",
       "        vertical-align: middle;\n",
       "    }\n",
       "\n",
       "    .dataframe tbody tr th {\n",
       "        vertical-align: top;\n",
       "    }\n",
       "\n",
       "    .dataframe thead th {\n",
       "        text-align: right;\n",
       "    }\n",
       "</style>\n",
       "<table border=\"1\" class=\"dataframe\">\n",
       "  <thead>\n",
       "    <tr style=\"text-align: right;\">\n",
       "      <th></th>\n",
       "      <th>year_of_release</th>\n",
       "      <th>na_sales</th>\n",
       "      <th>eu_sales</th>\n",
       "      <th>jp_sales</th>\n",
       "      <th>other_sales</th>\n",
       "      <th>critic_score</th>\n",
       "      <th>user_score</th>\n",
       "      <th>all_sales</th>\n",
       "    </tr>\n",
       "  </thead>\n",
       "  <tbody>\n",
       "    <tr>\n",
       "      <td>count</td>\n",
       "      <td>160.00</td>\n",
       "      <td>160.00</td>\n",
       "      <td>160.00</td>\n",
       "      <td>160.00</td>\n",
       "      <td>160.00</td>\n",
       "      <td>109.00</td>\n",
       "      <td>116.00</td>\n",
       "      <td>160.00</td>\n",
       "    </tr>\n",
       "    <tr>\n",
       "      <td>mean</td>\n",
       "      <td>2,014.38</td>\n",
       "      <td>0.49</td>\n",
       "      <td>0.26</td>\n",
       "      <td>0.00</td>\n",
       "      <td>0.08</td>\n",
       "      <td>73.05</td>\n",
       "      <td>6.48</td>\n",
       "      <td>0.83</td>\n",
       "    </tr>\n",
       "    <tr>\n",
       "      <td>std</td>\n",
       "      <td>0.69</td>\n",
       "      <td>0.73</td>\n",
       "      <td>0.40</td>\n",
       "      <td>0.01</td>\n",
       "      <td>0.11</td>\n",
       "      <td>13.56</td>\n",
       "      <td>1.29</td>\n",
       "      <td>1.18</td>\n",
       "    </tr>\n",
       "    <tr>\n",
       "      <td>min</td>\n",
       "      <td>2,013.00</td>\n",
       "      <td>0.00</td>\n",
       "      <td>0.00</td>\n",
       "      <td>0.00</td>\n",
       "      <td>0.00</td>\n",
       "      <td>20.00</td>\n",
       "      <td>2.10</td>\n",
       "      <td>0.01</td>\n",
       "    </tr>\n",
       "    <tr>\n",
       "      <td>25%</td>\n",
       "      <td>2,014.00</td>\n",
       "      <td>0.08</td>\n",
       "      <td>0.04</td>\n",
       "      <td>0.00</td>\n",
       "      <td>0.01</td>\n",
       "      <td>66.00</td>\n",
       "      <td>5.77</td>\n",
       "      <td>0.13</td>\n",
       "    </tr>\n",
       "    <tr>\n",
       "      <td>50%</td>\n",
       "      <td>2,014.50</td>\n",
       "      <td>0.22</td>\n",
       "      <td>0.11</td>\n",
       "      <td>0.00</td>\n",
       "      <td>0.03</td>\n",
       "      <td>76.00</td>\n",
       "      <td>6.70</td>\n",
       "      <td>0.35</td>\n",
       "    </tr>\n",
       "    <tr>\n",
       "      <td>75%</td>\n",
       "      <td>2,015.00</td>\n",
       "      <td>0.60</td>\n",
       "      <td>0.28</td>\n",
       "      <td>0.00</td>\n",
       "      <td>0.09</td>\n",
       "      <td>82.00</td>\n",
       "      <td>7.30</td>\n",
       "      <td>1.14</td>\n",
       "    </tr>\n",
       "    <tr>\n",
       "      <td>max</td>\n",
       "      <td>2,015.00</td>\n",
       "      <td>4.59</td>\n",
       "      <td>2.19</td>\n",
       "      <td>0.04</td>\n",
       "      <td>0.68</td>\n",
       "      <td>97.00</td>\n",
       "      <td>9.20</td>\n",
       "      <td>7.39</td>\n",
       "    </tr>\n",
       "  </tbody>\n",
       "</table>\n",
       "</div>"
      ],
      "text/plain": [
       "       year_of_release  na_sales  eu_sales  jp_sales  other_sales  \\\n",
       "count           160.00    160.00    160.00    160.00       160.00   \n",
       "mean          2,014.38      0.49      0.26      0.00         0.08   \n",
       "std               0.69      0.73      0.40      0.01         0.11   \n",
       "min           2,013.00      0.00      0.00      0.00         0.00   \n",
       "25%           2,014.00      0.08      0.04      0.00         0.01   \n",
       "50%           2,014.50      0.22      0.11      0.00         0.03   \n",
       "75%           2,015.00      0.60      0.28      0.00         0.09   \n",
       "max           2,015.00      4.59      2.19      0.04         0.68   \n",
       "\n",
       "       critic_score  user_score  all_sales  \n",
       "count        109.00      116.00     160.00  \n",
       "mean          73.05        6.48       0.83  \n",
       "std           13.56        1.29       1.18  \n",
       "min           20.00        2.10       0.01  \n",
       "25%           66.00        5.77       0.13  \n",
       "50%           76.00        6.70       0.35  \n",
       "75%           82.00        7.30       1.14  \n",
       "max           97.00        9.20       7.39  "
      ]
     },
     "execution_count": 38,
     "metadata": {},
     "output_type": "execute_result"
    }
   ],
   "source": [
    "#сохраним в новую переменную выборку только по xone\n",
    "platform_xone = data.query('2015 >= year_of_release >= 2013 & platform == \"xone\"')\n",
    "platform_xone.describe()"
   ]
  },
  {
   "cell_type": "markdown",
   "metadata": {},
   "source": [
    "Проверим полученную выборку на пропуски."
   ]
  },
  {
   "cell_type": "code",
   "execution_count": 39,
   "metadata": {},
   "outputs": [
    {
     "name": "stdout",
     "output_type": "stream",
     "text": [
      "Пропусков в оценках пользователей: 44\n",
      "Пропусков в оценках критиков: 51\n"
     ]
    }
   ],
   "source": [
    "print('Пропусков в оценках пользователей:', platform_xone['user_score'].isna().sum())\n",
    "print('Пропусков в оценках критиков:', platform_xone['critic_score'].isna().sum())"
   ]
  },
  {
   "cell_type": "markdown",
   "metadata": {},
   "source": [
    "Пропуски есть в обеих оценках. Для корреляционного анализа необходимо, чтобы пар значений было не менее 35. Если удалить пропуски в оценках, пар значений будет достаточно для оценки. "
   ]
  },
  {
   "cell_type": "code",
   "execution_count": 40,
   "metadata": {},
   "outputs": [],
   "source": [
    "#удалим пропуски\n",
    "platform_xone = platform_xone.dropna(subset=['user_score'])\n",
    "platform_xone = platform_xone.dropna(subset=['critic_score'])"
   ]
  },
  {
   "cell_type": "code",
   "execution_count": 41,
   "metadata": {},
   "outputs": [
    {
     "name": "stdout",
     "output_type": "stream",
     "text": [
      "Пропусков в оценках пользователей: 0\n",
      "Пропусков в оценках критиков: 0\n",
      "Новый размер таблицы составил: (107, 12)\n"
     ]
    }
   ],
   "source": [
    "#проверим себя\n",
    "print('Пропусков в оценках пользователей:', platform_xone['user_score'].isna().sum())\n",
    "print('Пропусков в оценках критиков:', platform_xone['critic_score'].isna().sum())\n",
    "print('Новый размер таблицы составил:', platform_xone.shape)"
   ]
  },
  {
   "cell_type": "markdown",
   "metadata": {},
   "source": [
    "По стандартному отклонению, а также минимум и максимуму в данных видно, что существует большое количество выбросов, которые могут повлиять на корректность анализа. Выбросы в данных надо исключить из корреляционного анализа, но пренебрегать ими нельзя - так как причиной выброса могут стать не только неверно занесённые данные, но внутренние причины процесса, которые могут дать полезную информацию.\n",
    "\n",
    "Исходя из диаграммеы рассеяния, видно, что существует много успешных продуктов для этой платформы, однако предел нормальных значений лежит в пределе около 1,6 млн. проданных копий. Остановимся на этой границе."
   ]
  },
  {
   "cell_type": "code",
   "execution_count": 42,
   "metadata": {},
   "outputs": [],
   "source": [
    "platform_xone = platform_xone.query('all_sales <= 1.6')"
   ]
  },
  {
   "cell_type": "code",
   "execution_count": 43,
   "metadata": {},
   "outputs": [
    {
     "data": {
      "image/png": "[encoded data removed]",
      "text/plain": [
       "<Figure size 864x432 with 2 Axes>"
      ]
     },
     "metadata": {
      "needs_background": "light"
     },
     "output_type": "display_data"
    }
   ],
   "source": [
    "fig = plt.figure(figsize=(12,6))\n",
    "ax1 = fig.add_subplot(1, 2, 1)\n",
    "ax2 = fig.add_subplot(1, 2, 2)\n",
    "\n",
    "ax1.title.set_text('Зависимость между оценками критиков\\nи глобальными продажами')\n",
    "ax2.title.set_text('Зависимость между оценками пользователей\\nи глобальными продажами')\n",
    "\n",
    "ax1.set_ylabel('Сумма продаж (млн.копий)')\n",
    "ax1.set_xlabel('Оценки критиков (баллы)')\n",
    "\n",
    "ax2.set_ylabel('Сумма продаж (млн.копий)')\n",
    "ax2.set_xlabel('Оценки пользователей (баллы)')\n",
    "\n",
    "ax1.scatter(platform_xone['critic_score'], platform_xone['all_sales'], alpha=0.5)\n",
    "ax2.scatter(platform_xone['user_score'], platform_xone['all_sales'], alpha=0.5)\n",
    "\n",
    "plt.show()"
   ]
  },
  {
   "cell_type": "code",
   "execution_count": 44,
   "metadata": {},
   "outputs": [
    {
     "name": "stdout",
     "output_type": "stream",
     "text": [
      "Для платформы 3ds, по данным без учета выбросов и аномалий, коэффициент корреляции:\n",
      "между суммой продаж и оценками критиков составляет 0.45\n"
     ]
    }
   ],
   "source": [
    "print('Для платформы 3ds, по данным без учета выбросов и аномалий, коэффициент корреляции:\\nмежду суммой продаж и оценками критиков составляет {:.2}'\n",
    "                 .format(platform_xone['all_sales'].corr(platform_xone['critic_score'])))"
   ]
  },
  {
   "cell_type": "code",
   "execution_count": 45,
   "metadata": {},
   "outputs": [
    {
     "name": "stdout",
     "output_type": "stream",
     "text": [
      "Для платформы xone, по данным без учета выбросов и аномалий, коэффициент корреляции:\n",
      "между суммой продаж и оценками пользователей составляет 0.15\n"
     ]
    }
   ],
   "source": [
    "print('Для платформы xone, по данным без учета выбросов и аномалий, коэффициент корреляции:\\nмежду суммой продаж и оценками пользователей составляет {:.2}'\n",
    "                 .format(platform_xone['all_sales'].corr(platform_xone['user_score'])))"
   ]
  },
  {
   "cell_type": "markdown",
   "metadata": {},
   "source": [
    "Полученные диаграммы мало информативны. На диаграммах рассеяния нет концентрированной направленной области. Видно разброс продаж и оценок. <br>\n",
    "Существует умеренная положительная зависимость между высокой оценкой от критика и объемом продаж.<br>\n",
    "Оценки пользователей более субъективны, зависимость между ними и объемом продаж низкая, что подтверждается слабым коэффициентом корреляции."
   ]
  },
  {
   "cell_type": "markdown",
   "metadata": {},
   "source": [
    "### Оценка для других платформ\n",
    "\n",
    "Составим 4 для каждой платформы с учетом года начала продаж и выбросов. Проверим и удалим пропуски в данных.\n",
    "\n",
    "#### 3ds"
   ]
  },
  {
   "cell_type": "code",
   "execution_count": 46,
   "metadata": {},
   "outputs": [
    {
     "name": "stdout",
     "output_type": "stream",
     "text": [
      "Начальный объем выборки: (404, 12)\n"
     ]
    }
   ],
   "source": [
    "#сохраним в новую переменную выборку только по 3ds с учетом предела нормальных значений\n",
    "platform_3ds = data.query('2015 >= year_of_release & platform == \"3ds\" & all_sales <= 0.75')\n",
    "print('Начальный объем выборки:', platform_3ds.shape)"
   ]
  },
  {
   "cell_type": "code",
   "execution_count": 47,
   "metadata": {},
   "outputs": [
    {
     "name": "stdout",
     "output_type": "stream",
     "text": [
      "Пропусков в оценках пользователей: 280\n",
      "Пропусков в оценках критиков: 283\n"
     ]
    }
   ],
   "source": [
    "#Проверим полученную выборку на пропуски.\n",
    "\n",
    "print('Пропусков в оценках пользователей:', platform_3ds['user_score'].isna().sum())\n",
    "print('Пропусков в оценках критиков:', platform_3ds['critic_score'].isna().sum())"
   ]
  },
  {
   "cell_type": "markdown",
   "metadata": {},
   "source": [
    "Действительно, пропусков больше половины. Для корреляционного анализа необходимо, чтобы пар значений было не менее 35. Если удалить пропуски в оценках, пар значений будет достаточно для оценки. "
   ]
  },
  {
   "cell_type": "code",
   "execution_count": 48,
   "metadata": {},
   "outputs": [],
   "source": [
    "#удалим пропуски\n",
    "platform_3ds = platform_3ds.dropna(subset=['user_score'])\n",
    "platform_3ds = platform_3ds.dropna(subset=['critic_score'])"
   ]
  },
  {
   "cell_type": "code",
   "execution_count": 49,
   "metadata": {},
   "outputs": [
    {
     "name": "stdout",
     "output_type": "stream",
     "text": [
      "Пропусков в оценках пользователей: 0\n",
      "Пропусков в оценках критиков: 0\n",
      "Новый размер таблицы составил: (111, 12)\n"
     ]
    }
   ],
   "source": [
    "#проверим себя\n",
    "print('Пропусков в оценках пользователей:', platform_3ds['user_score'].isna().sum())\n",
    "print('Пропусков в оценках критиков:', platform_3ds['critic_score'].isna().sum())\n",
    "print('Новый размер таблицы составил:', platform_3ds.shape)"
   ]
  },
  {
   "cell_type": "code",
   "execution_count": 50,
   "metadata": {},
   "outputs": [
    {
     "data": {
      "image/png": "[encoded data removed]",
      "text/plain": [
       "<Figure size 864x432 with 2 Axes>"
      ]
     },
     "metadata": {
      "needs_background": "light"
     },
     "output_type": "display_data"
    }
   ],
   "source": [
    "#Построим диаграммы\n",
    "fig = plt.figure(figsize=(12,6))\n",
    "ax1 = fig.add_subplot(1, 2, 1)\n",
    "ax2 = fig.add_subplot(1, 2, 2)\n",
    "\n",
    "ax1.title.set_text('Зависимость между оценками критиков\\nи глобальными продажами')\n",
    "ax2.title.set_text('Зависимость между оценками пользователей\\nи глобальными продажами')\n",
    "\n",
    "ax1.set_xlabel('Сумма продаж (млн.копий)')\n",
    "ax1.set_ylabel('Оценки критиков (баллы)')\n",
    "\n",
    "ax2.set_xlabel('Сумма продаж (млн.копий)')\n",
    "ax2.set_ylabel('Оценки пользователей (баллы)')\n",
    "\n",
    "ax1.scatter(platform_3ds['all_sales'], platform_3ds['critic_score'], alpha=0.5)\n",
    "ax2.scatter(platform_3ds['all_sales'], platform_3ds['user_score'], alpha=0.5)\n",
    "\n",
    "plt.show()"
   ]
  },
  {
   "cell_type": "code",
   "execution_count": 51,
   "metadata": {},
   "outputs": [
    {
     "name": "stdout",
     "output_type": "stream",
     "text": [
      "Для платформы 3ds, по данным без учета выбросов и аномалий, коэффициент корреляции:\n",
      "между суммой продаж и оценками критиков составляет 0.24\n"
     ]
    }
   ],
   "source": [
    "print('Для платформы 3ds, по данным без учета выбросов и аномалий, коэффициент корреляции:\\nмежду суммой продаж и оценками критиков составляет {:.2}'\n",
    "                 .format(platform_3ds['all_sales'].corr(platform_3ds['critic_score'])))"
   ]
  },
  {
   "cell_type": "code",
   "execution_count": 52,
   "metadata": {},
   "outputs": [
    {
     "name": "stdout",
     "output_type": "stream",
     "text": [
      "Для платформы 3ds, по данным без учета выбросов и аномалий, коэффициент корреляции:\n",
      "между суммой продаж и оценками пользователей составляет 0.057\n"
     ]
    }
   ],
   "source": [
    "print('Для платформы 3ds, по данным без учета выбросов и аномалий, коэффициент корреляции:\\nмежду суммой продаж и оценками пользователей составляет {:.2}'\n",
    "                 .format(platform_3ds['all_sales'].corr(platform_3ds['user_score'])))"
   ]
  },
  {
   "cell_type": "markdown",
   "metadata": {},
   "source": [
    "Для платформы 3ds диаграммы рассеяния не отображают какую-либо зависимость. Слабые положительные коэффициенты корреляции это подтверждают. Коэффициент корреляции между оценками критиков и продажами больше, чем между пользовательскими оценками и продажами.\n",
    "\n",
    "#### PC"
   ]
  },
  {
   "cell_type": "code",
   "execution_count": 53,
   "metadata": {},
   "outputs": [
    {
     "name": "stdout",
     "output_type": "stream",
     "text": [
      "Начальный объем выборки: (797, 12)\n"
     ]
    }
   ],
   "source": [
    "#сохраним в новую переменную выборку по PC без учета выбросов\n",
    "platform_pc = data.query('2015 >= year_of_release & platform == \"pc\" & all_sales <= 0.6')\n",
    "print('Начальный объем выборки:', platform_pc.shape)"
   ]
  },
  {
   "cell_type": "code",
   "execution_count": 54,
   "metadata": {},
   "outputs": [
    {
     "name": "stdout",
     "output_type": "stream",
     "text": [
      "Пропусков в оценках пользователей: 170\n",
      "Пропусков в оценках критиков: 222\n"
     ]
    }
   ],
   "source": [
    "print('Пропусков в оценках пользователей:', platform_pc['user_score'].isna().sum())\n",
    "print('Пропусков в оценках критиков:', platform_pc['critic_score'].isna().sum())"
   ]
  },
  {
   "cell_type": "code",
   "execution_count": 55,
   "metadata": {},
   "outputs": [],
   "source": [
    "#удалим пропуски, так как данных достаточно\n",
    "platform_pc = platform_pc.dropna(subset=['user_score'])\n",
    "platform_pc = platform_pc.dropna(subset=['critic_score'])"
   ]
  },
  {
   "cell_type": "code",
   "execution_count": 56,
   "metadata": {},
   "outputs": [
    {
     "name": "stdout",
     "output_type": "stream",
     "text": [
      "Новый размер таблицы составил: (565, 12)\n"
     ]
    }
   ],
   "source": [
    "#проверим себя\n",
    "print('Новый размер таблицы составил:', platform_pc.shape)"
   ]
  },
  {
   "cell_type": "code",
   "execution_count": 57,
   "metadata": {},
   "outputs": [
    {
     "data": {
      "image/png": "[encoded data removed]",
      "text/plain": [
       "<Figure size 864x432 with 2 Axes>"
      ]
     },
     "metadata": {
      "needs_background": "light"
     },
     "output_type": "display_data"
    }
   ],
   "source": [
    "#Построим диаграммы\n",
    "fig = plt.figure(figsize=(12,6))\n",
    "ax1 = fig.add_subplot(1, 2, 1)\n",
    "ax2 = fig.add_subplot(1, 2, 2)\n",
    "\n",
    "ax1.title.set_text('Зависимость между оценками критиков\\nи глобальными продажами')\n",
    "ax2.title.set_text('Зависимость между оценками пользователей\\nи глобальными продажами')\n",
    "\n",
    "ax1.set_xlabel('Сумма продаж (млн.копий)')\n",
    "ax1.set_ylabel('Оценки критиков (баллы)')\n",
    "\n",
    "ax2.set_xlabel('Сумма продаж (млн.копий)')\n",
    "ax2.set_ylabel('Оценки пользователей (баллы)')\n",
    "\n",
    "ax1.scatter(platform_pc['all_sales'], platform_pc['critic_score'], alpha=0.3)\n",
    "ax2.scatter(platform_pc['all_sales'], platform_pc['user_score'], alpha=0.3)\n",
    "\n",
    "plt.show()"
   ]
  },
  {
   "cell_type": "code",
   "execution_count": 58,
   "metadata": {},
   "outputs": [
    {
     "name": "stdout",
     "output_type": "stream",
     "text": [
      "Для платформы PC, по данным без учета выбросов и аномалий, коэффициент корреляции:\n",
      "между суммой продаж и оценками критиков составляет 0.22\n"
     ]
    }
   ],
   "source": [
    "print('Для платформы PC, по данным без учета выбросов и аномалий, коэффициент корреляции:\\nмежду суммой продаж и оценками критиков составляет {:.2}'\n",
    "                 .format(platform_pc['all_sales'].corr(platform_pc['critic_score'])))"
   ]
  },
  {
   "cell_type": "code",
   "execution_count": 59,
   "metadata": {},
   "outputs": [
    {
     "name": "stdout",
     "output_type": "stream",
     "text": [
      "Для платформы PC, по данным без учета выбросов и аномалий, коэффициент корреляции:\n",
      "между суммой продаж и оценками пользователей составляет -0.068\n"
     ]
    }
   ],
   "source": [
    "print('Для платформы PC, по данным без учета выбросов и аномалий, коэффициент корреляции:\\nмежду суммой продаж и оценками пользователей составляет {:.2}'\n",
    "                 .format(platform_pc['all_sales'].corr(platform_pc['user_score'])))"
   ]
  },
  {
   "cell_type": "markdown",
   "metadata": {},
   "source": [
    "Для платформы PC зависимость продаж от оценок критиков также больше, чем от оценок пользователей, хотя также является слабой положительной. Коэффициент корреляции по оценкам пользователей стремиться к отрицательной очень слабой зависимости."
   ]
  },
  {
   "cell_type": "markdown",
   "metadata": {},
   "source": [
    "#### PSV"
   ]
  },
  {
   "cell_type": "code",
   "execution_count": 60,
   "metadata": {},
   "outputs": [
    {
     "name": "stdout",
     "output_type": "stream",
     "text": [
      "Начальный объем выборки: (315, 12)\n"
     ]
    }
   ],
   "source": [
    "#сохраним в новую переменную выборку по PSV\n",
    "platform_psv = data.query('2015 >= year_of_release & platform == \"psv\" & all_sales <= 0.4')\n",
    "print('Начальный объем выборки:', platform_psv.shape)"
   ]
  },
  {
   "cell_type": "code",
   "execution_count": 61,
   "metadata": {},
   "outputs": [
    {
     "name": "stdout",
     "output_type": "stream",
     "text": [
      "Пропусков в оценках пользователей: 210\n",
      "Пропусков в оценках критиков: 227\n"
     ]
    }
   ],
   "source": [
    "#Проверим полученную выборку на пропуски\n",
    "print('Пропусков в оценках пользователей:', platform_psv['user_score'].isna().sum())\n",
    "print('Пропусков в оценках критиков:', platform_psv['critic_score'].isna().sum())"
   ]
  },
  {
   "cell_type": "code",
   "execution_count": 62,
   "metadata": {},
   "outputs": [],
   "source": [
    "#удалим пропуски, т.к. данных достаточно\n",
    "platform_psv = platform_psv.dropna(subset=['user_score'])\n",
    "platform_psv = platform_psv.dropna(subset=['critic_score'])"
   ]
  },
  {
   "cell_type": "code",
   "execution_count": 63,
   "metadata": {},
   "outputs": [
    {
     "name": "stdout",
     "output_type": "stream",
     "text": [
      "Новый размер таблицы составил: (87, 12)\n"
     ]
    }
   ],
   "source": [
    "#проверим себя\n",
    "print('Новый размер таблицы составил:', platform_psv.shape)"
   ]
  },
  {
   "cell_type": "code",
   "execution_count": 64,
   "metadata": {},
   "outputs": [
    {
     "data": {
      "image/png": "[encoded data removed]",
      "text/plain": [
       "<Figure size 864x432 with 2 Axes>"
      ]
     },
     "metadata": {
      "needs_background": "light"
     },
     "output_type": "display_data"
    }
   ],
   "source": [
    "#Построим диаграммы\n",
    "fig = plt.figure(figsize=(12,6))\n",
    "ax1 = fig.add_subplot(1, 2, 1)\n",
    "ax2 = fig.add_subplot(1, 2, 2)\n",
    "\n",
    "ax1.title.set_text('Зависимость между оценками критиков\\nи глобальными продажами')\n",
    "ax2.title.set_text('Зависимость между оценками пользователей\\nи глобальными продажами')\n",
    "\n",
    "ax1.set_xlabel('Сумма продаж (млн.копий)')\n",
    "ax1.set_ylabel('Оценки критиков (баллы)')\n",
    "\n",
    "ax2.set_xlabel('Сумма продаж (млн.копий)')\n",
    "ax2.set_ylabel('Оценки пользователей (баллы)')\n",
    "\n",
    "ax1.scatter(platform_psv['all_sales'], platform_psv['critic_score'], alpha=0.3)\n",
    "ax2.scatter(platform_psv['all_sales'], platform_psv['user_score'], alpha=0.3)\n",
    "\n",
    "plt.show()"
   ]
  },
  {
   "cell_type": "code",
   "execution_count": 65,
   "metadata": {},
   "outputs": [
    {
     "name": "stdout",
     "output_type": "stream",
     "text": [
      "Для платформы PC, по данным без учета выбросов и аномалий, коэффициент корреляции:\n",
      "между суммой продаж и оценками критиков составляет 0.11\n"
     ]
    }
   ],
   "source": [
    "print('Для платформы PC, по данным без учета выбросов и аномалий, коэффициент корреляции:\\nмежду суммой продаж и оценками критиков составляет {:.2}'\n",
    "                 .format(platform_psv['all_sales'].corr(platform_psv['critic_score'])))"
   ]
  },
  {
   "cell_type": "code",
   "execution_count": 66,
   "metadata": {},
   "outputs": [
    {
     "name": "stdout",
     "output_type": "stream",
     "text": [
      "Для платформы PC, по данным без учета выбросов и аномалий, коэффициент корреляции:\n",
      "между суммой продаж и оценками пользователей составляет 0.02\n"
     ]
    }
   ],
   "source": [
    "print('Для платформы PC, по данным без учета выбросов и аномалий, коэффициент корреляции:\\nмежду суммой продаж и оценками пользователей составляет {:.2}'\n",
    "                 .format(platform_psv['all_sales'].corr(platform_psv['user_score'])))"
   ]
  },
  {
   "cell_type": "markdown",
   "metadata": {},
   "source": [
    "Для платформы PSV практически отсуствует зависимость между какими-либо оценками и суммами продаж. Возможно, портативная консоль - просто спецефический продукт, игры для которой редко оценивают.\n",
    "\n",
    "#### PS4"
   ]
  },
  {
   "cell_type": "code",
   "execution_count": 67,
   "metadata": {},
   "outputs": [
    {
     "name": "stdout",
     "output_type": "stream",
     "text": [
      "Начальный объем выборки: (200, 12)\n"
     ]
    }
   ],
   "source": [
    "#сохраним в новую переменную выборку по PS4\n",
    "platform_ps4 = data.query('2015 >= year_of_release >= 2013 & platform == \"ps4\" & all_sales <= 2.5')\n",
    "print('Начальный объем выборки:', platform_ps4.shape)"
   ]
  },
  {
   "cell_type": "code",
   "execution_count": 68,
   "metadata": {},
   "outputs": [
    {
     "name": "stdout",
     "output_type": "stream",
     "text": [
      "Пропусков в оценках пользователей: 68\n",
      "Пропусков в оценках критиков: 70\n"
     ]
    }
   ],
   "source": [
    "#Проверим полученную выборку на пропуски\n",
    "\n",
    "print('Пропусков в оценках пользователей:', platform_ps4['user_score'].isna().sum())\n",
    "print('Пропусков в оценках критиков:', platform_ps4['critic_score'].isna().sum())"
   ]
  },
  {
   "cell_type": "code",
   "execution_count": 69,
   "metadata": {},
   "outputs": [],
   "source": [
    "#удалим пропуски, т.к. данных достаточно\n",
    "platform_ps4 = platform_ps4.dropna(subset=['user_score'])\n",
    "platform_ps4 = platform_ps4.dropna(subset=['critic_score'])"
   ]
  },
  {
   "cell_type": "code",
   "execution_count": 70,
   "metadata": {},
   "outputs": [
    {
     "name": "stdout",
     "output_type": "stream",
     "text": [
      "Новый размер таблицы составил: (129, 12)\n"
     ]
    }
   ],
   "source": [
    "#проверим себя\n",
    "print('Новый размер таблицы составил:', platform_ps4.shape)"
   ]
  },
  {
   "cell_type": "code",
   "execution_count": 71,
   "metadata": {},
   "outputs": [
    {
     "data": {
      "image/png": "[encoded data removed]",
      "text/plain": [
       "<Figure size 864x432 with 2 Axes>"
      ]
     },
     "metadata": {
      "needs_background": "light"
     },
     "output_type": "display_data"
    }
   ],
   "source": [
    "#Построим диаграммы\n",
    "fig = plt.figure(figsize=(12,6))\n",
    "ax1 = fig.add_subplot(1, 2, 1)\n",
    "ax2 = fig.add_subplot(1, 2, 2)\n",
    "\n",
    "ax1.title.set_text('Зависимость между оценками критиков\\nи глобальными продажами')\n",
    "ax2.title.set_text('Зависимость между оценками пользователей\\nи глобальными продажами')\n",
    "\n",
    "ax1.set_xlabel('Сумма продаж (млн.копий)')\n",
    "ax1.set_ylabel('Оценки критиков (баллы)')\n",
    "\n",
    "ax2.set_xlabel('Сумма продаж (млн.копий)')\n",
    "ax2.set_ylabel('Оценки пользователей (баллы)')\n",
    "\n",
    "ax1.scatter(platform_ps4['all_sales'], platform_ps4['critic_score'], alpha=0.3)\n",
    "ax2.scatter(platform_ps4['all_sales'], platform_ps4['user_score'], alpha=0.3)\n",
    "\n",
    "plt.show()"
   ]
  },
  {
   "cell_type": "code",
   "execution_count": 72,
   "metadata": {},
   "outputs": [
    {
     "name": "stdout",
     "output_type": "stream",
     "text": [
      "Для платформы PC, по данным без учета выбросов и аномалий, коэффициент корреляции:\n",
      "между суммой продаж и оценками критиков составляет 0.32\n"
     ]
    }
   ],
   "source": [
    "print('Для платформы PC, по данным без учета выбросов и аномалий, коэффициент корреляции:\\nмежду суммой продаж и оценками критиков составляет {:.2}'\n",
    "                 .format(platform_ps4['all_sales'].corr(platform_ps4['critic_score'])))"
   ]
  },
  {
   "cell_type": "code",
   "execution_count": 73,
   "metadata": {},
   "outputs": [
    {
     "name": "stdout",
     "output_type": "stream",
     "text": [
      "Для платформы PC, по данным без учета выбросов и аномалий, коэффициент корреляции:\n",
      "между суммой продаж и оценками пользователей составляет 0.049\n"
     ]
    }
   ],
   "source": [
    "print('Для платформы PC, по данным без учета выбросов и аномалий, коэффициент корреляции:\\nмежду суммой продаж и оценками пользователей составляет {:.2}'\n",
    "                 .format(platform_ps4['all_sales'].corr(platform_ps4['user_score'])))"
   ]
  },
  {
   "cell_type": "markdown",
   "metadata": {},
   "source": [
    "Для платформы PS4 зависимость продаж от оценок критиков умеренная положительная. Коэффициент корреляции по оценкам пользователей стремиться к очень слабой положительной зависимости."
   ]
  },
  {
   "cell_type": "code",
   "execution_count": 74,
   "metadata": {},
   "outputs": [
    {
     "data": {
      "text/html": [
       "<div>\n",
       "<style scoped>\n",
       "    .dataframe tbody tr th:only-of-type {\n",
       "        vertical-align: middle;\n",
       "    }\n",
       "\n",
       "    .dataframe tbody tr th {\n",
       "        vertical-align: top;\n",
       "    }\n",
       "\n",
       "    .dataframe thead th {\n",
       "        text-align: right;\n",
       "    }\n",
       "</style>\n",
       "<table border=\"1\" class=\"dataframe\">\n",
       "  <thead>\n",
       "    <tr style=\"text-align: right;\">\n",
       "      <th></th>\n",
       "      <th>scores</th>\n",
       "      <th>xone_corr</th>\n",
       "      <th>3ds_corr</th>\n",
       "      <th>pc_corr</th>\n",
       "      <th>psv_corr</th>\n",
       "      <th>ps4_corr</th>\n",
       "    </tr>\n",
       "  </thead>\n",
       "  <tbody>\n",
       "    <tr>\n",
       "      <td>0</td>\n",
       "      <td>critic</td>\n",
       "      <td>0.45</td>\n",
       "      <td>0.24</td>\n",
       "      <td>0.22</td>\n",
       "      <td>0.11</td>\n",
       "      <td>0.32</td>\n",
       "    </tr>\n",
       "    <tr>\n",
       "      <td>1</td>\n",
       "      <td>user</td>\n",
       "      <td>0.15</td>\n",
       "      <td>0.06</td>\n",
       "      <td>-0.07</td>\n",
       "      <td>0.02</td>\n",
       "      <td>0.05</td>\n",
       "    </tr>\n",
       "  </tbody>\n",
       "</table>\n",
       "</div>"
      ],
      "text/plain": [
       "   scores  xone_corr  3ds_corr  pc_corr  psv_corr  ps4_corr\n",
       "0  critic       0.45      0.24     0.22      0.11      0.32\n",
       "1    user       0.15      0.06    -0.07      0.02      0.05"
      ]
     },
     "execution_count": 74,
     "metadata": {},
     "output_type": "execute_result"
    }
   ],
   "source": [
    "#построим общую сравнительную таблицу корреляционных коэффициентов\n",
    "compare_scores =  {\n",
    "    'scores' : ['critic', 'user'],\n",
    "    'xone_corr': [\n",
    "      platform_xone['all_sales'].corr(platform_xone['critic_score']),\n",
    "      platform_xone['all_sales'].corr(platform_xone['user_score'])\n",
    "            ],\n",
    "    '3ds_corr': [\n",
    "      platform_3ds['all_sales'].corr(platform_3ds['critic_score']),\n",
    "      platform_3ds['all_sales'].corr(platform_3ds['user_score'])\n",
    "            ],\n",
    "    'pc_corr': [\n",
    "      platform_pc['all_sales'].corr(platform_pc['critic_score']),\n",
    "      platform_pc['all_sales'].corr(platform_pc['user_score'])\n",
    "            ],\n",
    "    'psv_corr': [\n",
    "      platform_psv['all_sales'].corr(platform_psv['critic_score']),\n",
    "      platform_psv['all_sales'].corr(platform_psv['user_score'])\n",
    "            ],\n",
    "    'ps4_corr': [\n",
    "      platform_ps4['all_sales'].corr(platform_ps4['critic_score']),\n",
    "      platform_ps4['all_sales'].corr(platform_ps4['user_score'])\n",
    "            ]  \n",
    "}\n",
    "pd.DataFrame(compare_scores)"
   ]
  },
  {
   "cell_type": "markdown",
   "metadata": {},
   "source": [
    "### Итоги анализа зависимостей\n",
    "\n",
    "Для анализа были использованы временные периоды от выхода платформы (если год выхода попал в актуальный период) до 2015 года, так как за 2016 год данные могут быть неполными. Для каждой платформы был установлен порог нормального распределения продаж и удалены пропуски в оценках.<br>\n",
    "По всем 5 платформам установлено, что существует чаще всего умеренная положительная зависимость между оценками критиков и объемом продаж (чем выше оценка от критиков - тем выше продажи игры). Оценки пользователей на продажи практически не влияют - коэффициенты корреляции по всем исследованным платформам очень низкие (почти по всем - менее 0,1).<br>\n",
    "\n",
    "### Распределение по жанрам\n",
    "\n",
    "Построим общее распределение игр по жанрам. Сделаем выборку, посчитаем сумму продаж и количество выпущенных игр."
   ]
  },
  {
   "cell_type": "code",
   "execution_count": 156,
   "metadata": {},
   "outputs": [
    {
     "data": {
      "text/html": [
       "<style  type=\"text/css\" >\n",
       "    #T_03782cde_8ea7_11ec_8cf4_02420a390ed2row0_col0 {\n",
       "            background-color:  #b40426;\n",
       "            color:  #f1f1f1;\n",
       "        }    #T_03782cde_8ea7_11ec_8cf4_02420a390ed2row0_col1 {\n",
       "            background-color:  #b40426;\n",
       "            color:  #f1f1f1;\n",
       "        }    #T_03782cde_8ea7_11ec_8cf4_02420a390ed2row0_col2 {\n",
       "            background-color:  #f5c1a9;\n",
       "            color:  #000000;\n",
       "        }    #T_03782cde_8ea7_11ec_8cf4_02420a390ed2row1_col0 {\n",
       "            background-color:  #92b4fe;\n",
       "            color:  #000000;\n",
       "        }    #T_03782cde_8ea7_11ec_8cf4_02420a390ed2row1_col1 {\n",
       "            background-color:  #465ecf;\n",
       "            color:  #f1f1f1;\n",
       "        }    #T_03782cde_8ea7_11ec_8cf4_02420a390ed2row1_col2 {\n",
       "            background-color:  #3b4cc0;\n",
       "            color:  #f1f1f1;\n",
       "        }    #T_03782cde_8ea7_11ec_8cf4_02420a390ed2row2_col0 {\n",
       "            background-color:  #5977e3;\n",
       "            color:  #000000;\n",
       "        }    #T_03782cde_8ea7_11ec_8cf4_02420a390ed2row2_col1 {\n",
       "            background-color:  #7295f4;\n",
       "            color:  #000000;\n",
       "        }    #T_03782cde_8ea7_11ec_8cf4_02420a390ed2row2_col2 {\n",
       "            background-color:  #f6a283;\n",
       "            color:  #000000;\n",
       "        }    #T_03782cde_8ea7_11ec_8cf4_02420a390ed2row3_col0 {\n",
       "            background-color:  #c6d6f1;\n",
       "            color:  #000000;\n",
       "        }    #T_03782cde_8ea7_11ec_8cf4_02420a390ed2row3_col1 {\n",
       "            background-color:  #c0d4f5;\n",
       "            color:  #000000;\n",
       "        }    #T_03782cde_8ea7_11ec_8cf4_02420a390ed2row3_col2 {\n",
       "            background-color:  #dcdddd;\n",
       "            color:  #000000;\n",
       "        }    #T_03782cde_8ea7_11ec_8cf4_02420a390ed2row4_col0 {\n",
       "            background-color:  #5d7ce6;\n",
       "            color:  #000000;\n",
       "        }    #T_03782cde_8ea7_11ec_8cf4_02420a390ed2row4_col1 {\n",
       "            background-color:  #c7d7f0;\n",
       "            color:  #000000;\n",
       "        }    #T_03782cde_8ea7_11ec_8cf4_02420a390ed2row4_col2 {\n",
       "            background-color:  #b40426;\n",
       "            color:  #f1f1f1;\n",
       "        }    #T_03782cde_8ea7_11ec_8cf4_02420a390ed2row5_col0 {\n",
       "            background-color:  #3b4cc0;\n",
       "            color:  #f1f1f1;\n",
       "        }    #T_03782cde_8ea7_11ec_8cf4_02420a390ed2row5_col1 {\n",
       "            background-color:  #485fd1;\n",
       "            color:  #f1f1f1;\n",
       "        }    #T_03782cde_8ea7_11ec_8cf4_02420a390ed2row5_col2 {\n",
       "            background-color:  #85a8fc;\n",
       "            color:  #000000;\n",
       "        }    #T_03782cde_8ea7_11ec_8cf4_02420a390ed2row6_col0 {\n",
       "            background-color:  #89acfd;\n",
       "            color:  #000000;\n",
       "        }    #T_03782cde_8ea7_11ec_8cf4_02420a390ed2row6_col1 {\n",
       "            background-color:  #b2ccfb;\n",
       "            color:  #000000;\n",
       "        }    #T_03782cde_8ea7_11ec_8cf4_02420a390ed2row6_col2 {\n",
       "            background-color:  #f5c1a9;\n",
       "            color:  #000000;\n",
       "        }    #T_03782cde_8ea7_11ec_8cf4_02420a390ed2row7_col0 {\n",
       "            background-color:  #aac7fd;\n",
       "            color:  #000000;\n",
       "        }    #T_03782cde_8ea7_11ec_8cf4_02420a390ed2row7_col1 {\n",
       "            background-color:  #dadce0;\n",
       "            color:  #000000;\n",
       "        }    #T_03782cde_8ea7_11ec_8cf4_02420a390ed2row7_col2 {\n",
       "            background-color:  #f1cdba;\n",
       "            color:  #000000;\n",
       "        }    #T_03782cde_8ea7_11ec_8cf4_02420a390ed2row8_col0 {\n",
       "            background-color:  #92b4fe;\n",
       "            color:  #000000;\n",
       "        }    #T_03782cde_8ea7_11ec_8cf4_02420a390ed2row8_col1 {\n",
       "            background-color:  #ecd3c5;\n",
       "            color:  #000000;\n",
       "        }    #T_03782cde_8ea7_11ec_8cf4_02420a390ed2row8_col2 {\n",
       "            background-color:  #e0654f;\n",
       "            color:  #000000;\n",
       "        }    #T_03782cde_8ea7_11ec_8cf4_02420a390ed2row9_col0 {\n",
       "            background-color:  #5a78e4;\n",
       "            color:  #000000;\n",
       "        }    #T_03782cde_8ea7_11ec_8cf4_02420a390ed2row9_col1 {\n",
       "            background-color:  #6687ed;\n",
       "            color:  #000000;\n",
       "        }    #T_03782cde_8ea7_11ec_8cf4_02420a390ed2row9_col2 {\n",
       "            background-color:  #d1dae9;\n",
       "            color:  #000000;\n",
       "        }    #T_03782cde_8ea7_11ec_8cf4_02420a390ed2row10_col0 {\n",
       "            background-color:  #f5c1a9;\n",
       "            color:  #000000;\n",
       "        }    #T_03782cde_8ea7_11ec_8cf4_02420a390ed2row10_col1 {\n",
       "            background-color:  #f59f80;\n",
       "            color:  #000000;\n",
       "        }    #T_03782cde_8ea7_11ec_8cf4_02420a390ed2row10_col2 {\n",
       "            background-color:  #f29072;\n",
       "            color:  #000000;\n",
       "        }    #T_03782cde_8ea7_11ec_8cf4_02420a390ed2row11_col0 {\n",
       "            background-color:  #455cce;\n",
       "            color:  #f1f1f1;\n",
       "        }    #T_03782cde_8ea7_11ec_8cf4_02420a390ed2row11_col1 {\n",
       "            background-color:  #3b4cc0;\n",
       "            color:  #f1f1f1;\n",
       "        }    #T_03782cde_8ea7_11ec_8cf4_02420a390ed2row11_col2 {\n",
       "            background-color:  #85a8fc;\n",
       "            color:  #000000;\n",
       "        }</style><table id=\"T_03782cde_8ea7_11ec_8cf4_02420a390ed2\" ><thead>    <tr>        <th class=\"blank level0\" ></th>        <th class=\"col_heading level0 col0\" >count</th>        <th class=\"col_heading level0 col1\" >sum</th>        <th class=\"col_heading level0 col2\" >median</th>    </tr>    <tr>        <th class=\"blank level1\" ></th>        <th class=\"col_heading level1 col0\" >all_sales</th>        <th class=\"col_heading level1 col1\" >all_sales</th>        <th class=\"col_heading level1 col2\" >all_sales</th>    </tr>    <tr>        <th class=\"index_name level0\" >genre</th>        <th class=\"blank\" ></th>        <th class=\"blank\" ></th>        <th class=\"blank\" ></th>    </tr></thead><tbody>\n",
       "                <tr>\n",
       "                        <th id=\"T_03782cde_8ea7_11ec_8cf4_02420a390ed2level0_row0\" class=\"row_heading level0 row0\" >action</th>\n",
       "                        <td id=\"T_03782cde_8ea7_11ec_8cf4_02420a390ed2row0_col0\" class=\"data row0 col0\" >3307</td>\n",
       "                        <td id=\"T_03782cde_8ea7_11ec_8cf4_02420a390ed2row0_col1\" class=\"data row0 col1\" >1716.52</td>\n",
       "                        <td id=\"T_03782cde_8ea7_11ec_8cf4_02420a390ed2row0_col2\" class=\"data row0 col2\" >0.19</td>\n",
       "            </tr>\n",
       "            <tr>\n",
       "                        <th id=\"T_03782cde_8ea7_11ec_8cf4_02420a390ed2level0_row1\" class=\"row_heading level0 row1\" >adventure</th>\n",
       "                        <td id=\"T_03782cde_8ea7_11ec_8cf4_02420a390ed2row1_col0\" class=\"data row1 col0\" >1293</td>\n",
       "                        <td id=\"T_03782cde_8ea7_11ec_8cf4_02420a390ed2row1_col1\" class=\"data row1 col1\" >233.33</td>\n",
       "                        <td id=\"T_03782cde_8ea7_11ec_8cf4_02420a390ed2row1_col2\" class=\"data row1 col2\" >0.05</td>\n",
       "            </tr>\n",
       "            <tr>\n",
       "                        <th id=\"T_03782cde_8ea7_11ec_8cf4_02420a390ed2level0_row2\" class=\"row_heading level0 row2\" >fighting</th>\n",
       "                        <td id=\"T_03782cde_8ea7_11ec_8cf4_02420a390ed2row2_col0\" class=\"data row2 col0\" >837</td>\n",
       "                        <td id=\"T_03782cde_8ea7_11ec_8cf4_02420a390ed2row2_col1\" class=\"data row2 col1\" >442.66</td>\n",
       "                        <td id=\"T_03782cde_8ea7_11ec_8cf4_02420a390ed2row2_col2\" class=\"data row2 col2\" >0.21</td>\n",
       "            </tr>\n",
       "            <tr>\n",
       "                        <th id=\"T_03782cde_8ea7_11ec_8cf4_02420a390ed2level0_row3\" class=\"row_heading level0 row3\" >misc</th>\n",
       "                        <td id=\"T_03782cde_8ea7_11ec_8cf4_02420a390ed2row3_col0\" class=\"data row3 col0\" >1721</td>\n",
       "                        <td id=\"T_03782cde_8ea7_11ec_8cf4_02420a390ed2row3_col1\" class=\"data row3 col1\" >790.29</td>\n",
       "                        <td id=\"T_03782cde_8ea7_11ec_8cf4_02420a390ed2row3_col2\" class=\"data row3 col2\" >0.16</td>\n",
       "            </tr>\n",
       "            <tr>\n",
       "                        <th id=\"T_03782cde_8ea7_11ec_8cf4_02420a390ed2level0_row4\" class=\"row_heading level0 row4\" >platform</th>\n",
       "                        <td id=\"T_03782cde_8ea7_11ec_8cf4_02420a390ed2row4_col0\" class=\"data row4 col0\" >878</td>\n",
       "                        <td id=\"T_03782cde_8ea7_11ec_8cf4_02420a390ed2row4_col1\" class=\"data row4 col1\" >825.55</td>\n",
       "                        <td id=\"T_03782cde_8ea7_11ec_8cf4_02420a390ed2row4_col2\" class=\"data row4 col2\" >0.27</td>\n",
       "            </tr>\n",
       "            <tr>\n",
       "                        <th id=\"T_03782cde_8ea7_11ec_8cf4_02420a390ed2level0_row5\" class=\"row_heading level0 row5\" >puzzle</th>\n",
       "                        <td id=\"T_03782cde_8ea7_11ec_8cf4_02420a390ed2row5_col0\" class=\"data row5 col0\" >569</td>\n",
       "                        <td id=\"T_03782cde_8ea7_11ec_8cf4_02420a390ed2row5_col1\" class=\"data row5 col1\" >239.89</td>\n",
       "                        <td id=\"T_03782cde_8ea7_11ec_8cf4_02420a390ed2row5_col2\" class=\"data row5 col2\" >0.1</td>\n",
       "            </tr>\n",
       "            <tr>\n",
       "                        <th id=\"T_03782cde_8ea7_11ec_8cf4_02420a390ed2level0_row6\" class=\"row_heading level0 row6\" >racing</th>\n",
       "                        <td id=\"T_03782cde_8ea7_11ec_8cf4_02420a390ed2row6_col0\" class=\"data row6 col0\" >1226</td>\n",
       "                        <td id=\"T_03782cde_8ea7_11ec_8cf4_02420a390ed2row6_col1\" class=\"data row6 col1\" >723.49</td>\n",
       "                        <td id=\"T_03782cde_8ea7_11ec_8cf4_02420a390ed2row6_col2\" class=\"data row6 col2\" >0.19</td>\n",
       "            </tr>\n",
       "            <tr>\n",
       "                        <th id=\"T_03782cde_8ea7_11ec_8cf4_02420a390ed2level0_row7\" class=\"row_heading level0 row7\" >role-playing</th>\n",
       "                        <td id=\"T_03782cde_8ea7_11ec_8cf4_02420a390ed2row7_col0\" class=\"data row7 col0\" >1481</td>\n",
       "                        <td id=\"T_03782cde_8ea7_11ec_8cf4_02420a390ed2row7_col1\" class=\"data row7 col1\" >931.08</td>\n",
       "                        <td id=\"T_03782cde_8ea7_11ec_8cf4_02420a390ed2row7_col2\" class=\"data row7 col2\" >0.18</td>\n",
       "            </tr>\n",
       "            <tr>\n",
       "                        <th id=\"T_03782cde_8ea7_11ec_8cf4_02420a390ed2level0_row8\" class=\"row_heading level0 row8\" >shooter</th>\n",
       "                        <td id=\"T_03782cde_8ea7_11ec_8cf4_02420a390ed2row8_col0\" class=\"data row8 col0\" >1296</td>\n",
       "                        <td id=\"T_03782cde_8ea7_11ec_8cf4_02420a390ed2row8_col1\" class=\"data row8 col1\" >1041.36</td>\n",
       "                        <td id=\"T_03782cde_8ea7_11ec_8cf4_02420a390ed2row8_col2\" class=\"data row8 col2\" >0.24</td>\n",
       "            </tr>\n",
       "            <tr>\n",
       "                        <th id=\"T_03782cde_8ea7_11ec_8cf4_02420a390ed2level0_row9\" class=\"row_heading level0 row9\" >simulation</th>\n",
       "                        <td id=\"T_03782cde_8ea7_11ec_8cf4_02420a390ed2row9_col0\" class=\"data row9 col0\" >857</td>\n",
       "                        <td id=\"T_03782cde_8ea7_11ec_8cf4_02420a390ed2row9_col1\" class=\"data row9 col1\" >387.96</td>\n",
       "                        <td id=\"T_03782cde_8ea7_11ec_8cf4_02420a390ed2row9_col2\" class=\"data row9 col2\" >0.15</td>\n",
       "            </tr>\n",
       "            <tr>\n",
       "                        <th id=\"T_03782cde_8ea7_11ec_8cf4_02420a390ed2level0_row10\" class=\"row_heading level0 row10\" >sports</th>\n",
       "                        <td id=\"T_03782cde_8ea7_11ec_8cf4_02420a390ed2row10_col0\" class=\"data row10 col0\" >2306</td>\n",
       "                        <td id=\"T_03782cde_8ea7_11ec_8cf4_02420a390ed2row10_col1\" class=\"data row10 col1\" >1309.67</td>\n",
       "                        <td id=\"T_03782cde_8ea7_11ec_8cf4_02420a390ed2row10_col2\" class=\"data row10 col2\" >0.22</td>\n",
       "            </tr>\n",
       "            <tr>\n",
       "                        <th id=\"T_03782cde_8ea7_11ec_8cf4_02420a390ed2level0_row11\" class=\"row_heading level0 row11\" >strategy</th>\n",
       "                        <td id=\"T_03782cde_8ea7_11ec_8cf4_02420a390ed2row11_col0\" class=\"data row11 col0\" >673</td>\n",
       "                        <td id=\"T_03782cde_8ea7_11ec_8cf4_02420a390ed2row11_col1\" class=\"data row11 col1\" >172.57</td>\n",
       "                        <td id=\"T_03782cde_8ea7_11ec_8cf4_02420a390ed2row11_col2\" class=\"data row11 col2\" >0.1</td>\n",
       "            </tr>\n",
       "    </tbody></table>"
      ],
      "text/plain": [
       "<pandas.io.formats.style.Styler at 0x7f41506a7c90>"
      ]
     },
     "execution_count": 156,
     "metadata": {},
     "output_type": "execute_result"
    }
   ],
   "source": [
    "games_by_genre = data.query('2015 >= year_of_release >= 2011')\n",
    "games_by_genre = (\n",
    "    pd.pivot_table(data,\n",
    "               index=['genre'],\n",
    "               values=['all_sales'],\n",
    "               aggfunc=['count', 'sum', 'median'],                 \n",
    "               fill_value=0)\n",
    "      .reset_index()\n",
    "      .set_index('genre')\n",
    ")\n",
    "games_by_genre.style.background_gradient('coolwarm')\n"
   ]
  },
  {
   "cell_type": "markdown",
   "metadata": {},
   "source": [
    "Из сводной таблицы видно, что наибольшее количество игр выпускается в жанре Action. Этот же жанр в лидерах по объему продаж.\n",
    "На втором месте по прожажам и релизам - спортивные игры. Не смотря на то, что шуттеров выпускается меньше - они третьи по прибыльности. А вот аркады, которых больше по выпущенному количеству (3 место), занимают всего 5 позицию по объему продаж.\n",
    "\n",
    "Хуже всего продаются стратегии (их продано почти в 10 раз меньше, чем боевиков), и количество таких выпущенных игр также одно из самых низких.\n",
    "\n",
    "Медианные продажи больше всего у игр в жанре \"Платформер\", хотя выпущенно их сильно меньше, и общая сумма продаж у них несущественна. В Action дейтсивтельно много бестселлеров, медианные продажи довольно стандартны. А вот шуттеры и спортивные практически соотвествуют по медианным продажам общей популярности игр этого жанра. У спорта даже успешных проектов чуть больше, чем стрелялок. Неожиданно высокие медианные продажи показывает жанр fighting, у которого одни из самых низких суммарных продаж\n",
    "\n",
    "### Вывод\n",
    "\n",
    "В результате исследовательского анализа установлено:\n",
    "- больше всего в датасете игр выпущено в 2005-2011 годах, максимальное количество выпущено в 2008 и 2009 годах;\n",
    "- наибольшее суммарное количество продаж было у платформ от компаний  Playstation (ps2, ps3), Nintendo (wii, ds), Microsoft (xbox 360);\n",
    "- было установлено, что актуальный период составляет примерно половину жизни платформы - 7 лет, был сделан срез продаж с 2010 года;\n",
    "- с учетом того, что данные за 2016 год могут быть не полными, был определн список наиболее перспективных платформ - 3ds, pc, ps4, psv и xone;\n",
    "- медианные значения продаж по платформам лежат в пределах около 0,25 млн.копий и менее;\n",
    "- лучше всего продаются игры на ps4 и xbox one, а хуже всего продаются игры на psv;\n",
    "- корреляционный анализ показал умеренную зависимость между оценками критиков и объемом продаж, при этом аналогичная зависимость с оценками пользователей пратически отсуствует;\n",
    "- больше всего игр выпущено и продано в жанре Action, на втором месте игры в жанре Sport, а хуже всего продаются стратегии (их также выпущено меньше всего).\n",
    "\n",
    "## Портрет пользователя каждого региона\n",
    "### Пользователи в Северной Америке\n",
    "\n",
    "Сделаем срез и изучим данные по популярным платформам"
   ]
  },
  {
   "cell_type": "code",
   "execution_count": 76,
   "metadata": {},
   "outputs": [],
   "source": [
    "#срез данных за актуальный период\n",
    "na_users = data.query('na_sales >=0 & year_of_release >=2011')"
   ]
  },
  {
   "cell_type": "code",
   "execution_count": 77,
   "metadata": {},
   "outputs": [
    {
     "data": {
      "text/html": [
       "<style  type=\"text/css\" >\n",
       "    #T_5dac03a2_8e9c_11ec_8cf4_02420a390ed2row0_col3 {\n",
       "            background-color:  #b40426;\n",
       "            color:  #f1f1f1;\n",
       "        }    #T_5dac03a2_8e9c_11ec_8cf4_02420a390ed2row1_col3 {\n",
       "            background-color:  #efcfbf;\n",
       "            color:  #000000;\n",
       "        }    #T_5dac03a2_8e9c_11ec_8cf4_02420a390ed2row2_col3 {\n",
       "            background-color:  #e2dad5;\n",
       "            color:  #000000;\n",
       "        }    #T_5dac03a2_8e9c_11ec_8cf4_02420a390ed2row3_col3 {\n",
       "            background-color:  #bb1b2c;\n",
       "            color:  #f1f1f1;\n",
       "        }    #T_5dac03a2_8e9c_11ec_8cf4_02420a390ed2row4_col3 {\n",
       "            background-color:  #d5dbe5;\n",
       "            color:  #000000;\n",
       "        }    #T_5dac03a2_8e9c_11ec_8cf4_02420a390ed2row5_col3 {\n",
       "            background-color:  #e67259;\n",
       "            color:  #000000;\n",
       "        }    #T_5dac03a2_8e9c_11ec_8cf4_02420a390ed2row6_col3 {\n",
       "            background-color:  #f59c7d;\n",
       "            color:  #000000;\n",
       "        }    #T_5dac03a2_8e9c_11ec_8cf4_02420a390ed2row7_col3 {\n",
       "            background-color:  #cdd9ec;\n",
       "            color:  #000000;\n",
       "        }    #T_5dac03a2_8e9c_11ec_8cf4_02420a390ed2row8_col3 {\n",
       "            background-color:  #ef886b;\n",
       "            color:  #000000;\n",
       "        }    #T_5dac03a2_8e9c_11ec_8cf4_02420a390ed2row9_col3 {\n",
       "            background-color:  #9ebeff;\n",
       "            color:  #000000;\n",
       "        }    #T_5dac03a2_8e9c_11ec_8cf4_02420a390ed2row10_col3 {\n",
       "            background-color:  #3b4cc0;\n",
       "            color:  #f1f1f1;\n",
       "        }    #T_5dac03a2_8e9c_11ec_8cf4_02420a390ed2row11_col3 {\n",
       "            background-color:  #c3d5f4;\n",
       "            color:  #000000;\n",
       "        }</style><table id=\"T_5dac03a2_8e9c_11ec_8cf4_02420a390ed2\" ><thead>    <tr>        <th class=\"blank level0\" ></th>        <th class=\"col_heading level0 col0\" >platform</th>        <th class=\"col_heading level0 col1\" >na_sales</th>        <th class=\"col_heading level0 col2\" >all_sales</th>        <th class=\"col_heading level0 col3\" >share_sales</th>    </tr></thead><tbody>\n",
       "                <tr>\n",
       "                        <th id=\"T_5dac03a2_8e9c_11ec_8cf4_02420a390ed2level0_row0\" class=\"row_heading level0 row0\" >0</th>\n",
       "                        <td id=\"T_5dac03a2_8e9c_11ec_8cf4_02420a390ed2row0_col0\" class=\"data row0 col0\" >x360</td>\n",
       "                        <td id=\"T_5dac03a2_8e9c_11ec_8cf4_02420a390ed2row0_col1\" class=\"data row0 col1\" >226.8</td>\n",
       "                        <td id=\"T_5dac03a2_8e9c_11ec_8cf4_02420a390ed2row0_col2\" class=\"data row0 col2\" >380.38</td>\n",
       "                        <td id=\"T_5dac03a2_8e9c_11ec_8cf4_02420a390ed2row0_col3\" class=\"data row0 col3\" >59.6246</td>\n",
       "            </tr>\n",
       "            <tr>\n",
       "                        <th id=\"T_5dac03a2_8e9c_11ec_8cf4_02420a390ed2level0_row1\" class=\"row_heading level0 row1\" >1</th>\n",
       "                        <td id=\"T_5dac03a2_8e9c_11ec_8cf4_02420a390ed2row1_col0\" class=\"data row1 col0\" >ps3</td>\n",
       "                        <td id=\"T_5dac03a2_8e9c_11ec_8cf4_02420a390ed2row1_col1\" class=\"data row1 col1\" >168.26</td>\n",
       "                        <td id=\"T_5dac03a2_8e9c_11ec_8cf4_02420a390ed2row1_col2\" class=\"data row1 col2\" >445.57</td>\n",
       "                        <td id=\"T_5dac03a2_8e9c_11ec_8cf4_02420a390ed2row1_col3\" class=\"data row1 col3\" >37.7629</td>\n",
       "            </tr>\n",
       "            <tr>\n",
       "                        <th id=\"T_5dac03a2_8e9c_11ec_8cf4_02420a390ed2level0_row2\" class=\"row_heading level0 row2\" >2</th>\n",
       "                        <td id=\"T_5dac03a2_8e9c_11ec_8cf4_02420a390ed2row2_col0\" class=\"data row2 col0\" >ps4</td>\n",
       "                        <td id=\"T_5dac03a2_8e9c_11ec_8cf4_02420a390ed2row2_col1\" class=\"data row2 col1\" >108.74</td>\n",
       "                        <td id=\"T_5dac03a2_8e9c_11ec_8cf4_02420a390ed2row2_col2\" class=\"data row2 col2\" >314.14</td>\n",
       "                        <td id=\"T_5dac03a2_8e9c_11ec_8cf4_02420a390ed2row2_col3\" class=\"data row2 col3\" >34.6151</td>\n",
       "            </tr>\n",
       "            <tr>\n",
       "                        <th id=\"T_5dac03a2_8e9c_11ec_8cf4_02420a390ed2level0_row3\" class=\"row_heading level0 row3\" >3</th>\n",
       "                        <td id=\"T_5dac03a2_8e9c_11ec_8cf4_02420a390ed2row3_col0\" class=\"data row3 col0\" >xone</td>\n",
       "                        <td id=\"T_5dac03a2_8e9c_11ec_8cf4_02420a390ed2row3_col1\" class=\"data row3 col1\" >93.12</td>\n",
       "                        <td id=\"T_5dac03a2_8e9c_11ec_8cf4_02420a390ed2row3_col2\" class=\"data row3 col2\" >159.32</td>\n",
       "                        <td id=\"T_5dac03a2_8e9c_11ec_8cf4_02420a390ed2row3_col3\" class=\"data row3 col3\" >58.4484</td>\n",
       "            </tr>\n",
       "            <tr>\n",
       "                        <th id=\"T_5dac03a2_8e9c_11ec_8cf4_02420a390ed2level0_row4\" class=\"row_heading level0 row4\" >4</th>\n",
       "                        <td id=\"T_5dac03a2_8e9c_11ec_8cf4_02420a390ed2row4_col0\" class=\"data row4 col0\" >3ds</td>\n",
       "                        <td id=\"T_5dac03a2_8e9c_11ec_8cf4_02420a390ed2row4_col1\" class=\"data row4 col1\" >82.65</td>\n",
       "                        <td id=\"T_5dac03a2_8e9c_11ec_8cf4_02420a390ed2row4_col2\" class=\"data row4 col2\" >257.81</td>\n",
       "                        <td id=\"T_5dac03a2_8e9c_11ec_8cf4_02420a390ed2row4_col3\" class=\"data row4 col3\" >32.0585</td>\n",
       "            </tr>\n",
       "            <tr>\n",
       "                        <th id=\"T_5dac03a2_8e9c_11ec_8cf4_02420a390ed2level0_row5\" class=\"row_heading level0 row5\" >5</th>\n",
       "                        <td id=\"T_5dac03a2_8e9c_11ec_8cf4_02420a390ed2row5_col0\" class=\"data row5 col0\" >wii</td>\n",
       "                        <td id=\"T_5dac03a2_8e9c_11ec_8cf4_02420a390ed2row5_col1\" class=\"data row5 col1\" >48.56</td>\n",
       "                        <td id=\"T_5dac03a2_8e9c_11ec_8cf4_02420a390ed2row5_col2\" class=\"data row5 col2\" >95.02</td>\n",
       "                        <td id=\"T_5dac03a2_8e9c_11ec_8cf4_02420a390ed2row5_col3\" class=\"data row5 col3\" >51.105</td>\n",
       "            </tr>\n",
       "            <tr>\n",
       "                        <th id=\"T_5dac03a2_8e9c_11ec_8cf4_02420a390ed2level0_row6\" class=\"row_heading level0 row6\" >6</th>\n",
       "                        <td id=\"T_5dac03a2_8e9c_11ec_8cf4_02420a390ed2row6_col0\" class=\"data row6 col0\" >wiiu</td>\n",
       "                        <td id=\"T_5dac03a2_8e9c_11ec_8cf4_02420a390ed2row6_col1\" class=\"data row6 col1\" >38.1</td>\n",
       "                        <td id=\"T_5dac03a2_8e9c_11ec_8cf4_02420a390ed2row6_col2\" class=\"data row6 col2\" >82.19</td>\n",
       "                        <td id=\"T_5dac03a2_8e9c_11ec_8cf4_02420a390ed2row6_col3\" class=\"data row6 col3\" >46.356</td>\n",
       "            </tr>\n",
       "            <tr>\n",
       "                        <th id=\"T_5dac03a2_8e9c_11ec_8cf4_02420a390ed2level0_row7\" class=\"row_heading level0 row7\" >7</th>\n",
       "                        <td id=\"T_5dac03a2_8e9c_11ec_8cf4_02420a390ed2row7_col0\" class=\"data row7 col0\" >pc</td>\n",
       "                        <td id=\"T_5dac03a2_8e9c_11ec_8cf4_02420a390ed2row7_col1\" class=\"data row7 col1\" >29.88</td>\n",
       "                        <td id=\"T_5dac03a2_8e9c_11ec_8cf4_02420a390ed2row7_col2\" class=\"data row7 col2\" >97.68</td>\n",
       "                        <td id=\"T_5dac03a2_8e9c_11ec_8cf4_02420a390ed2row7_col3\" class=\"data row7 col3\" >30.5897</td>\n",
       "            </tr>\n",
       "            <tr>\n",
       "                        <th id=\"T_5dac03a2_8e9c_11ec_8cf4_02420a390ed2level0_row8\" class=\"row_heading level0 row8\" >8</th>\n",
       "                        <td id=\"T_5dac03a2_8e9c_11ec_8cf4_02420a390ed2row8_col0\" class=\"data row8 col0\" >ds</td>\n",
       "                        <td id=\"T_5dac03a2_8e9c_11ec_8cf4_02420a390ed2row8_col1\" class=\"data row8 col1\" >18.86</td>\n",
       "                        <td id=\"T_5dac03a2_8e9c_11ec_8cf4_02420a390ed2row8_col2\" class=\"data row8 col2\" >38.73</td>\n",
       "                        <td id=\"T_5dac03a2_8e9c_11ec_8cf4_02420a390ed2row8_col3\" class=\"data row8 col3\" >48.6961</td>\n",
       "            </tr>\n",
       "            <tr>\n",
       "                        <th id=\"T_5dac03a2_8e9c_11ec_8cf4_02420a390ed2level0_row9\" class=\"row_heading level0 row9\" >9</th>\n",
       "                        <td id=\"T_5dac03a2_8e9c_11ec_8cf4_02420a390ed2row9_col0\" class=\"data row9 col0\" >psv</td>\n",
       "                        <td id=\"T_5dac03a2_8e9c_11ec_8cf4_02420a390ed2row9_col1\" class=\"data row9 col1\" >12.47</td>\n",
       "                        <td id=\"T_5dac03a2_8e9c_11ec_8cf4_02420a390ed2row9_col2\" class=\"data row9 col2\" >53.81</td>\n",
       "                        <td id=\"T_5dac03a2_8e9c_11ec_8cf4_02420a390ed2row9_col3\" class=\"data row9 col3\" >23.1741</td>\n",
       "            </tr>\n",
       "            <tr>\n",
       "                        <th id=\"T_5dac03a2_8e9c_11ec_8cf4_02420a390ed2level0_row10\" class=\"row_heading level0 row10\" >10</th>\n",
       "                        <td id=\"T_5dac03a2_8e9c_11ec_8cf4_02420a390ed2row10_col0\" class=\"data row10 col0\" >psp</td>\n",
       "                        <td id=\"T_5dac03a2_8e9c_11ec_8cf4_02420a390ed2row10_col1\" class=\"data row10 col1\" >2.19</td>\n",
       "                        <td id=\"T_5dac03a2_8e9c_11ec_8cf4_02420a390ed2row10_col2\" class=\"data row10 col2\" >29.01</td>\n",
       "                        <td id=\"T_5dac03a2_8e9c_11ec_8cf4_02420a390ed2row10_col3\" class=\"data row10 col3\" >7.54912</td>\n",
       "            </tr>\n",
       "            <tr>\n",
       "                        <th id=\"T_5dac03a2_8e9c_11ec_8cf4_02420a390ed2level0_row11\" class=\"row_heading level0 row11\" >11</th>\n",
       "                        <td id=\"T_5dac03a2_8e9c_11ec_8cf4_02420a390ed2row11_col0\" class=\"data row11 col0\" >ps2</td>\n",
       "                        <td id=\"T_5dac03a2_8e9c_11ec_8cf4_02420a390ed2row11_col1\" class=\"data row11 col1\" >0.13</td>\n",
       "                        <td id=\"T_5dac03a2_8e9c_11ec_8cf4_02420a390ed2row11_col2\" class=\"data row11 col2\" >0.45</td>\n",
       "                        <td id=\"T_5dac03a2_8e9c_11ec_8cf4_02420a390ed2row11_col3\" class=\"data row11 col3\" >28.8889</td>\n",
       "            </tr>\n",
       "    </tbody></table>"
      ],
      "text/plain": [
       "<pandas.io.formats.style.Styler at 0x7f4150a72750>"
      ]
     },
     "metadata": {},
     "output_type": "display_data"
    }
   ],
   "source": [
    "#сгруппируем данные по платформам, суммируем продажи общие и по региону\n",
    "top_na_platforms = (\n",
    "    na_users.groupby('platform')\n",
    "    .agg({'na_sales' : 'sum', 'all_sales': 'sum'})\n",
    "    .reset_index()\n",
    ")\n",
    "\n",
    "#посчитаем долю продаж по региону\n",
    "top_na_platforms['share_sales'] = top_na_platforms['na_sales'] / top_na_platforms['all_sales'] * 100\n",
    "\n",
    "#выведем \n",
    "display(top_na_platforms.sort_values(by ='na_sales', ascending=False)\n",
    "                        .reset_index(drop=True)\n",
    "                        .style.background_gradient('coolwarm', subset=['share_sales'])\n",
    "       )"
   ]
  },
  {
   "cell_type": "markdown",
   "metadata": {},
   "source": [
    "Топ-5 платформ среди пользователей Северной Америки являются x360, ps3, ps4, xone, 3ds.<br>\n",
    "При этом, продажи игр x360 и xone, \"родного\" производителя Microsoft, превышают 50% от общего числа продаж по всем регионам.<br>\n",
    "Количество проданных игр для ps3 и ps4 составляют чуть больше трети от общего объема продаж.<br>\n",
    "30% от общего количества продаж составляют игры для замыкающей топ-5 платформы 3ds.\n",
    "\n",
    "Рассмотрим данные по жанрам за актуальный период"
   ]
  },
  {
   "cell_type": "code",
   "execution_count": 78,
   "metadata": {},
   "outputs": [
    {
     "data": {
      "text/html": [
       "<style  type=\"text/css\" >\n",
       "    #T_5db391c6_8e9c_11ec_8cf4_02420a390ed2row0_col3 {\n",
       "            background-color:  #f3c8b2;\n",
       "            color:  #000000;\n",
       "        }    #T_5db391c6_8e9c_11ec_8cf4_02420a390ed2row1_col3 {\n",
       "            background-color:  #cf453c;\n",
       "            color:  #f1f1f1;\n",
       "        }    #T_5db391c6_8e9c_11ec_8cf4_02420a390ed2row2_col3 {\n",
       "            background-color:  #eb7d62;\n",
       "            color:  #000000;\n",
       "        }    #T_5db391c6_8e9c_11ec_8cf4_02420a390ed2row3_col3 {\n",
       "            background-color:  #98b9ff;\n",
       "            color:  #000000;\n",
       "        }    #T_5db391c6_8e9c_11ec_8cf4_02420a390ed2row4_col3 {\n",
       "            background-color:  #b40426;\n",
       "            color:  #f1f1f1;\n",
       "        }    #T_5db391c6_8e9c_11ec_8cf4_02420a390ed2row5_col3 {\n",
       "            background-color:  #f7af91;\n",
       "            color:  #000000;\n",
       "        }    #T_5db391c6_8e9c_11ec_8cf4_02420a390ed2row6_col3 {\n",
       "            background-color:  #b9d0f9;\n",
       "            color:  #000000;\n",
       "        }    #T_5db391c6_8e9c_11ec_8cf4_02420a390ed2row7_col3 {\n",
       "            background-color:  #dd5f4b;\n",
       "            color:  #000000;\n",
       "        }    #T_5db391c6_8e9c_11ec_8cf4_02420a390ed2row8_col3 {\n",
       "            background-color:  #6180e9;\n",
       "            color:  #000000;\n",
       "        }    #T_5db391c6_8e9c_11ec_8cf4_02420a390ed2row9_col3 {\n",
       "            background-color:  #84a7fc;\n",
       "            color:  #000000;\n",
       "        }    #T_5db391c6_8e9c_11ec_8cf4_02420a390ed2row10_col3 {\n",
       "            background-color:  #93b5fe;\n",
       "            color:  #000000;\n",
       "        }    #T_5db391c6_8e9c_11ec_8cf4_02420a390ed2row11_col3 {\n",
       "            background-color:  #3b4cc0;\n",
       "            color:  #f1f1f1;\n",
       "        }</style><table id=\"T_5db391c6_8e9c_11ec_8cf4_02420a390ed2\" ><thead>    <tr>        <th class=\"blank level0\" ></th>        <th class=\"col_heading level0 col0\" >genre</th>        <th class=\"col_heading level0 col1\" >na_sales</th>        <th class=\"col_heading level0 col2\" >all_sales</th>        <th class=\"col_heading level0 col3\" >share_sales</th>    </tr></thead><tbody>\n",
       "                <tr>\n",
       "                        <th id=\"T_5db391c6_8e9c_11ec_8cf4_02420a390ed2level0_row0\" class=\"row_heading level0 row0\" >0</th>\n",
       "                        <td id=\"T_5db391c6_8e9c_11ec_8cf4_02420a390ed2row0_col0\" class=\"data row0 col0\" >action</td>\n",
       "                        <td id=\"T_5db391c6_8e9c_11ec_8cf4_02420a390ed2row0_col1\" class=\"data row0 col1\" >230.92</td>\n",
       "                        <td id=\"T_5db391c6_8e9c_11ec_8cf4_02420a390ed2row0_col2\" class=\"data row0 col2\" >557.8</td>\n",
       "                        <td id=\"T_5db391c6_8e9c_11ec_8cf4_02420a390ed2row0_col3\" class=\"data row0 col3\" >41.3984</td>\n",
       "            </tr>\n",
       "            <tr>\n",
       "                        <th id=\"T_5db391c6_8e9c_11ec_8cf4_02420a390ed2level0_row1\" class=\"row_heading level0 row1\" >1</th>\n",
       "                        <td id=\"T_5db391c6_8e9c_11ec_8cf4_02420a390ed2row1_col0\" class=\"data row1 col0\" >shooter</td>\n",
       "                        <td id=\"T_5db391c6_8e9c_11ec_8cf4_02420a390ed2row1_col1\" class=\"data row1 col1\" >194.43</td>\n",
       "                        <td id=\"T_5db391c6_8e9c_11ec_8cf4_02420a390ed2row1_col2\" class=\"data row1 col2\" >402.91</td>\n",
       "                        <td id=\"T_5db391c6_8e9c_11ec_8cf4_02420a390ed2row1_col3\" class=\"data row1 col3\" >48.2564</td>\n",
       "            </tr>\n",
       "            <tr>\n",
       "                        <th id=\"T_5db391c6_8e9c_11ec_8cf4_02420a390ed2level0_row2\" class=\"row_heading level0 row2\" >2</th>\n",
       "                        <td id=\"T_5db391c6_8e9c_11ec_8cf4_02420a390ed2row2_col0\" class=\"data row2 col0\" >sports</td>\n",
       "                        <td id=\"T_5db391c6_8e9c_11ec_8cf4_02420a390ed2row2_col1\" class=\"data row2 col1\" >108.7</td>\n",
       "                        <td id=\"T_5db391c6_8e9c_11ec_8cf4_02420a390ed2row2_col2\" class=\"data row2 col2\" >237.15</td>\n",
       "                        <td id=\"T_5db391c6_8e9c_11ec_8cf4_02420a390ed2row2_col3\" class=\"data row2 col3\" >45.836</td>\n",
       "            </tr>\n",
       "            <tr>\n",
       "                        <th id=\"T_5db391c6_8e9c_11ec_8cf4_02420a390ed2level0_row3\" class=\"row_heading level0 row3\" >3</th>\n",
       "                        <td id=\"T_5db391c6_8e9c_11ec_8cf4_02420a390ed2row3_col0\" class=\"data row3 col0\" >role-playing</td>\n",
       "                        <td id=\"T_5db391c6_8e9c_11ec_8cf4_02420a390ed2row3_col1\" class=\"data row3 col1\" >83.78</td>\n",
       "                        <td id=\"T_5db391c6_8e9c_11ec_8cf4_02420a390ed2row3_col2\" class=\"data row3 col2\" >245.63</td>\n",
       "                        <td id=\"T_5db391c6_8e9c_11ec_8cf4_02420a390ed2row3_col3\" class=\"data row3 col3\" >34.1082</td>\n",
       "            </tr>\n",
       "            <tr>\n",
       "                        <th id=\"T_5db391c6_8e9c_11ec_8cf4_02420a390ed2level0_row4\" class=\"row_heading level0 row4\" >4</th>\n",
       "                        <td id=\"T_5db391c6_8e9c_11ec_8cf4_02420a390ed2row4_col0\" class=\"data row4 col0\" >misc</td>\n",
       "                        <td id=\"T_5db391c6_8e9c_11ec_8cf4_02420a390ed2row4_col1\" class=\"data row4 col1\" >69.69</td>\n",
       "                        <td id=\"T_5db391c6_8e9c_11ec_8cf4_02420a390ed2row4_col2\" class=\"data row4 col2\" >139.42</td>\n",
       "                        <td id=\"T_5db391c6_8e9c_11ec_8cf4_02420a390ed2row4_col3\" class=\"data row4 col3\" >49.9857</td>\n",
       "            </tr>\n",
       "            <tr>\n",
       "                        <th id=\"T_5db391c6_8e9c_11ec_8cf4_02420a390ed2level0_row5\" class=\"row_heading level0 row5\" >5</th>\n",
       "                        <td id=\"T_5db391c6_8e9c_11ec_8cf4_02420a390ed2row5_col0\" class=\"data row5 col0\" >platform</td>\n",
       "                        <td id=\"T_5db391c6_8e9c_11ec_8cf4_02420a390ed2row5_col1\" class=\"data row5 col1\" >38.28</td>\n",
       "                        <td id=\"T_5db391c6_8e9c_11ec_8cf4_02420a390ed2row5_col2\" class=\"data row5 col2\" >88.68</td>\n",
       "                        <td id=\"T_5db391c6_8e9c_11ec_8cf4_02420a390ed2row5_col3\" class=\"data row5 col3\" >43.1664</td>\n",
       "            </tr>\n",
       "            <tr>\n",
       "                        <th id=\"T_5db391c6_8e9c_11ec_8cf4_02420a390ed2level0_row6\" class=\"row_heading level0 row6\" >6</th>\n",
       "                        <td id=\"T_5db391c6_8e9c_11ec_8cf4_02420a390ed2row6_col0\" class=\"data row6 col0\" >racing</td>\n",
       "                        <td id=\"T_5db391c6_8e9c_11ec_8cf4_02420a390ed2row6_col1\" class=\"data row6 col1\" >31.98</td>\n",
       "                        <td id=\"T_5db391c6_8e9c_11ec_8cf4_02420a390ed2row6_col2\" class=\"data row6 col2\" >88.31</td>\n",
       "                        <td id=\"T_5db391c6_8e9c_11ec_8cf4_02420a390ed2row6_col3\" class=\"data row6 col3\" >36.2133</td>\n",
       "            </tr>\n",
       "            <tr>\n",
       "                        <th id=\"T_5db391c6_8e9c_11ec_8cf4_02420a390ed2level0_row7\" class=\"row_heading level0 row7\" >7</th>\n",
       "                        <td id=\"T_5db391c6_8e9c_11ec_8cf4_02420a390ed2row7_col0\" class=\"data row7 col0\" >fighting</td>\n",
       "                        <td id=\"T_5db391c6_8e9c_11ec_8cf4_02420a390ed2row7_col1\" class=\"data row7 col1\" >31.63</td>\n",
       "                        <td id=\"T_5db391c6_8e9c_11ec_8cf4_02420a390ed2row7_col2\" class=\"data row7 col2\" >66.9</td>\n",
       "                        <td id=\"T_5db391c6_8e9c_11ec_8cf4_02420a390ed2row7_col3\" class=\"data row7 col3\" >47.2795</td>\n",
       "            </tr>\n",
       "            <tr>\n",
       "                        <th id=\"T_5db391c6_8e9c_11ec_8cf4_02420a390ed2level0_row8\" class=\"row_heading level0 row8\" >8</th>\n",
       "                        <td id=\"T_5db391c6_8e9c_11ec_8cf4_02420a390ed2row8_col0\" class=\"data row8 col0\" >simulation</td>\n",
       "                        <td id=\"T_5db391c6_8e9c_11ec_8cf4_02420a390ed2row8_col1\" class=\"data row8 col1\" >15.37</td>\n",
       "                        <td id=\"T_5db391c6_8e9c_11ec_8cf4_02420a390ed2row8_col2\" class=\"data row8 col2\" >50.26</td>\n",
       "                        <td id=\"T_5db391c6_8e9c_11ec_8cf4_02420a390ed2row8_col3\" class=\"data row8 col3\" >30.581</td>\n",
       "            </tr>\n",
       "            <tr>\n",
       "                        <th id=\"T_5db391c6_8e9c_11ec_8cf4_02420a390ed2level0_row9\" class=\"row_heading level0 row9\" >9</th>\n",
       "                        <td id=\"T_5db391c6_8e9c_11ec_8cf4_02420a390ed2row9_col0\" class=\"data row9 col0\" >adventure</td>\n",
       "                        <td id=\"T_5db391c6_8e9c_11ec_8cf4_02420a390ed2row9_col1\" class=\"data row9 col1\" >14.76</td>\n",
       "                        <td id=\"T_5db391c6_8e9c_11ec_8cf4_02420a390ed2row9_col2\" class=\"data row9 col2\" >45.04</td>\n",
       "                        <td id=\"T_5db391c6_8e9c_11ec_8cf4_02420a390ed2row9_col3\" class=\"data row9 col3\" >32.7709</td>\n",
       "            </tr>\n",
       "            <tr>\n",
       "                        <th id=\"T_5db391c6_8e9c_11ec_8cf4_02420a390ed2level0_row10\" class=\"row_heading level0 row10\" >10</th>\n",
       "                        <td id=\"T_5db391c6_8e9c_11ec_8cf4_02420a390ed2row10_col0\" class=\"data row10 col0\" >strategy</td>\n",
       "                        <td id=\"T_5db391c6_8e9c_11ec_8cf4_02420a390ed2row10_col1\" class=\"data row10 col1\" >7.48</td>\n",
       "                        <td id=\"T_5db391c6_8e9c_11ec_8cf4_02420a390ed2row10_col2\" class=\"data row10 col2\" >22.16</td>\n",
       "                        <td id=\"T_5db391c6_8e9c_11ec_8cf4_02420a390ed2row10_col3\" class=\"data row10 col3\" >33.7545</td>\n",
       "            </tr>\n",
       "            <tr>\n",
       "                        <th id=\"T_5db391c6_8e9c_11ec_8cf4_02420a390ed2level0_row11\" class=\"row_heading level0 row11\" >11</th>\n",
       "                        <td id=\"T_5db391c6_8e9c_11ec_8cf4_02420a390ed2row11_col0\" class=\"data row11 col0\" >puzzle</td>\n",
       "                        <td id=\"T_5db391c6_8e9c_11ec_8cf4_02420a390ed2row11_col1\" class=\"data row11 col1\" >2.74</td>\n",
       "                        <td id=\"T_5db391c6_8e9c_11ec_8cf4_02420a390ed2row11_col2\" class=\"data row11 col2\" >9.85</td>\n",
       "                        <td id=\"T_5db391c6_8e9c_11ec_8cf4_02420a390ed2row11_col3\" class=\"data row11 col3\" >27.8173</td>\n",
       "            </tr>\n",
       "    </tbody></table>"
      ],
      "text/plain": [
       "<pandas.io.formats.style.Styler at 0x7f4150b7d150>"
      ]
     },
     "metadata": {},
     "output_type": "display_data"
    }
   ],
   "source": [
    "#сгруппируем данные по жанрам, суммируем продажи общие и по региону\n",
    "top_na_genres = (\n",
    "    na_users.groupby('genre')\n",
    "    .agg({'na_sales' : 'sum', 'all_sales': 'sum'})\n",
    "    .reset_index()\n",
    ")\n",
    "\n",
    "#посчитаем долю продаж по региону\n",
    "top_na_genres['share_sales'] = top_na_genres['na_sales'] / top_na_genres['all_sales'] * 100\n",
    "\n",
    "#выведем \n",
    "display(top_na_genres.sort_values(by ='na_sales', ascending=False)\n",
    "                        .reset_index(drop=True)\n",
    "                        .style.background_gradient('coolwarm', subset=['share_sales'])\n",
    "       )"
   ]
  },
  {
   "cell_type": "markdown",
   "metadata": {},
   "source": [
    "Топ-5 жанров игр у пользователей Северной Америки составляют:\n",
    "- Action (40% общемировых продаж игр этого жанра);\n",
    "- Shooter (48% общего объема проданных игр);\n",
    "- Sports (45% от общего количества проданных игр);\n",
    "- Role-playing (34% общего объема продаж);\n",
    "- Misc (почти половина общемировых продаж).\n",
    "\n",
    "В целом, популярность жанров близка к общей тендеции распеределния продаж, полученой нами на предыдущем шаге.\n",
    "\n",
    "Оценим зависимость между рейтингом и продажами в конкретном регионе. <br>\n",
    "На начальных шагах мы устранили пропуски в даннных рейтинга, в продажах по этому региону пропуски отсуствовали.<br>\n",
    "Построим сводную таблицу, в которой посчитаем медианное значение продаж по каждому рейтингу, чтобы исключить влияние выбросов. И построим на этой базе диаграмму."
   ]
  },
  {
   "cell_type": "code",
   "execution_count": 79,
   "metadata": {},
   "outputs": [
    {
     "data": {
      "image/png": "[encoded data removed]",
      "text/plain": [
       "<Figure size 720x360 with 1 Axes>"
      ]
     },
     "metadata": {
      "needs_background": "light"
     },
     "output_type": "display_data"
    }
   ],
   "source": [
    "(\n",
    "    na_users.pivot_table(index='rating', values='na_sales', aggfunc='median')\n",
    "            .plot(figsize=(10,5), grid='True')\n",
    "         )\n",
    "\n",
    "plt.title('Зависимость между продажами и рейтингом ESRB')\n",
    "plt.ylabel('Сумма продаж в регионе (млн.копий)')\n",
    "plt.xlabel('Код рейтинга')\n",
    "plt.show()"
   ]
  },
  {
   "cell_type": "markdown",
   "metadata": {},
   "source": [
    "Лучше всего продаются игры с рейтингом:\n",
    "- E10+ (для всех от 10 лет и старше);\n",
    "- пик приходится на игры EC (для детей младшего возраста);\n",
    "- чуть выше E10+ занимают позицию игры рейтинга М - содержащие материалы, не подходящие для подростков младше 17 лет."
   ]
  },
  {
   "cell_type": "markdown",
   "metadata": {},
   "source": [
    "### Пользователи в Европе\n",
    "\n",
    "Сделаем срез и изучим данные по популярным платформам"
   ]
  },
  {
   "cell_type": "code",
   "execution_count": 80,
   "metadata": {},
   "outputs": [],
   "source": [
    "#срез данных за актуальный период\n",
    "eu_users = data.query('eu_sales >=0 & year_of_release >=2011')"
   ]
  },
  {
   "cell_type": "code",
   "execution_count": 81,
   "metadata": {},
   "outputs": [
    {
     "data": {
      "text/html": [
       "<style  type=\"text/css\" >\n",
       "    #T_5dd87018_8e9c_11ec_8cf4_02420a390ed2row0_col3 {\n",
       "            background-color:  #f0cdbb;\n",
       "            color:  #000000;\n",
       "        }    #T_5dd87018_8e9c_11ec_8cf4_02420a390ed2row1_col3 {\n",
       "            background-color:  #f49a7b;\n",
       "            color:  #000000;\n",
       "        }    #T_5dd87018_8e9c_11ec_8cf4_02420a390ed2row2_col3 {\n",
       "            background-color:  #d6dce4;\n",
       "            color:  #000000;\n",
       "        }    #T_5dd87018_8e9c_11ec_8cf4_02420a390ed2row3_col3 {\n",
       "            background-color:  #adc9fd;\n",
       "            color:  #000000;\n",
       "        }    #T_5dd87018_8e9c_11ec_8cf4_02420a390ed2row4_col3 {\n",
       "            background-color:  #b40426;\n",
       "            color:  #f1f1f1;\n",
       "        }    #T_5dd87018_8e9c_11ec_8cf4_02420a390ed2row5_col3 {\n",
       "            background-color:  #dedcdb;\n",
       "            color:  #000000;\n",
       "        }    #T_5dd87018_8e9c_11ec_8cf4_02420a390ed2row6_col3 {\n",
       "            background-color:  #d8dce2;\n",
       "            color:  #000000;\n",
       "        }    #T_5dd87018_8e9c_11ec_8cf4_02420a390ed2row7_col3 {\n",
       "            background-color:  #d5dbe5;\n",
       "            color:  #000000;\n",
       "        }    #T_5dd87018_8e9c_11ec_8cf4_02420a390ed2row8_col3 {\n",
       "            background-color:  #afcafc;\n",
       "            color:  #000000;\n",
       "        }    #T_5dd87018_8e9c_11ec_8cf4_02420a390ed2row9_col3 {\n",
       "            background-color:  #adc9fd;\n",
       "            color:  #000000;\n",
       "        }    #T_5dd87018_8e9c_11ec_8cf4_02420a390ed2row10_col3 {\n",
       "            background-color:  #3b4cc0;\n",
       "            color:  #f1f1f1;\n",
       "        }    #T_5dd87018_8e9c_11ec_8cf4_02420a390ed2row11_col3 {\n",
       "            background-color:  #ccd9ed;\n",
       "            color:  #000000;\n",
       "        }</style><table id=\"T_5dd87018_8e9c_11ec_8cf4_02420a390ed2\" ><thead>    <tr>        <th class=\"blank level0\" ></th>        <th class=\"col_heading level0 col0\" >platform</th>        <th class=\"col_heading level0 col1\" >eu_sales</th>        <th class=\"col_heading level0 col2\" >all_sales</th>        <th class=\"col_heading level0 col3\" >share_sales</th>    </tr></thead><tbody>\n",
       "                <tr>\n",
       "                        <th id=\"T_5dd87018_8e9c_11ec_8cf4_02420a390ed2level0_row0\" class=\"row_heading level0 row0\" >0</th>\n",
       "                        <td id=\"T_5dd87018_8e9c_11ec_8cf4_02420a390ed2row0_col0\" class=\"data row0 col0\" >ps3</td>\n",
       "                        <td id=\"T_5dd87018_8e9c_11ec_8cf4_02420a390ed2row0_col1\" class=\"data row0 col1\" >163.1</td>\n",
       "                        <td id=\"T_5dd87018_8e9c_11ec_8cf4_02420a390ed2row0_col2\" class=\"data row0 col2\" >445.57</td>\n",
       "                        <td id=\"T_5dd87018_8e9c_11ec_8cf4_02420a390ed2row0_col3\" class=\"data row0 col3\" >36.6048</td>\n",
       "            </tr>\n",
       "            <tr>\n",
       "                        <th id=\"T_5dd87018_8e9c_11ec_8cf4_02420a390ed2level0_row1\" class=\"row_heading level0 row1\" >1</th>\n",
       "                        <td id=\"T_5dd87018_8e9c_11ec_8cf4_02420a390ed2row1_col0\" class=\"data row1 col0\" >ps4</td>\n",
       "                        <td id=\"T_5dd87018_8e9c_11ec_8cf4_02420a390ed2row1_col1\" class=\"data row1 col1\" >141.09</td>\n",
       "                        <td id=\"T_5dd87018_8e9c_11ec_8cf4_02420a390ed2row1_col2\" class=\"data row1 col2\" >314.14</td>\n",
       "                        <td id=\"T_5dd87018_8e9c_11ec_8cf4_02420a390ed2row1_col3\" class=\"data row1 col3\" >44.9131</td>\n",
       "            </tr>\n",
       "            <tr>\n",
       "                        <th id=\"T_5dd87018_8e9c_11ec_8cf4_02420a390ed2level0_row2\" class=\"row_heading level0 row2\" >2</th>\n",
       "                        <td id=\"T_5dd87018_8e9c_11ec_8cf4_02420a390ed2row2_col0\" class=\"data row2 col0\" >x360</td>\n",
       "                        <td id=\"T_5dd87018_8e9c_11ec_8cf4_02420a390ed2row2_col1\" class=\"data row2 col1\" >117.1</td>\n",
       "                        <td id=\"T_5dd87018_8e9c_11ec_8cf4_02420a390ed2row2_col2\" class=\"data row2 col2\" >380.38</td>\n",
       "                        <td id=\"T_5dd87018_8e9c_11ec_8cf4_02420a390ed2row2_col3\" class=\"data row2 col3\" >30.785</td>\n",
       "            </tr>\n",
       "            <tr>\n",
       "                        <th id=\"T_5dd87018_8e9c_11ec_8cf4_02420a390ed2level0_row3\" class=\"row_heading level0 row3\" >3</th>\n",
       "                        <td id=\"T_5dd87018_8e9c_11ec_8cf4_02420a390ed2row3_col0\" class=\"data row3 col0\" >3ds</td>\n",
       "                        <td id=\"T_5dd87018_8e9c_11ec_8cf4_02420a390ed2row3_col1\" class=\"data row3 col1\" >61.27</td>\n",
       "                        <td id=\"T_5dd87018_8e9c_11ec_8cf4_02420a390ed2row3_col2\" class=\"data row3 col2\" >257.81</td>\n",
       "                        <td id=\"T_5dd87018_8e9c_11ec_8cf4_02420a390ed2row3_col3\" class=\"data row3 col3\" >23.7656</td>\n",
       "            </tr>\n",
       "            <tr>\n",
       "                        <th id=\"T_5dd87018_8e9c_11ec_8cf4_02420a390ed2level0_row4\" class=\"row_heading level0 row4\" >4</th>\n",
       "                        <td id=\"T_5dd87018_8e9c_11ec_8cf4_02420a390ed2row4_col0\" class=\"data row4 col0\" >pc</td>\n",
       "                        <td id=\"T_5dd87018_8e9c_11ec_8cf4_02420a390ed2row4_col1\" class=\"data row4 col1\" >56.7</td>\n",
       "                        <td id=\"T_5dd87018_8e9c_11ec_8cf4_02420a390ed2row4_col2\" class=\"data row4 col2\" >97.68</td>\n",
       "                        <td id=\"T_5dd87018_8e9c_11ec_8cf4_02420a390ed2row4_col3\" class=\"data row4 col3\" >58.0467</td>\n",
       "            </tr>\n",
       "            <tr>\n",
       "                        <th id=\"T_5dd87018_8e9c_11ec_8cf4_02420a390ed2level0_row5\" class=\"row_heading level0 row5\" >5</th>\n",
       "                        <td id=\"T_5dd87018_8e9c_11ec_8cf4_02420a390ed2row5_col0\" class=\"data row5 col0\" >xone</td>\n",
       "                        <td id=\"T_5dd87018_8e9c_11ec_8cf4_02420a390ed2row5_col1\" class=\"data row5 col1\" >51.59</td>\n",
       "                        <td id=\"T_5dd87018_8e9c_11ec_8cf4_02420a390ed2row5_col2\" class=\"data row5 col2\" >159.32</td>\n",
       "                        <td id=\"T_5dd87018_8e9c_11ec_8cf4_02420a390ed2row5_col3\" class=\"data row5 col3\" >32.3814</td>\n",
       "            </tr>\n",
       "            <tr>\n",
       "                        <th id=\"T_5dd87018_8e9c_11ec_8cf4_02420a390ed2level0_row6\" class=\"row_heading level0 row6\" >6</th>\n",
       "                        <td id=\"T_5dd87018_8e9c_11ec_8cf4_02420a390ed2row6_col0\" class=\"data row6 col0\" >wii</td>\n",
       "                        <td id=\"T_5dd87018_8e9c_11ec_8cf4_02420a390ed2row6_col1\" class=\"data row6 col1\" >29.6</td>\n",
       "                        <td id=\"T_5dd87018_8e9c_11ec_8cf4_02420a390ed2row6_col2\" class=\"data row6 col2\" >95.02</td>\n",
       "                        <td id=\"T_5dd87018_8e9c_11ec_8cf4_02420a390ed2row6_col3\" class=\"data row6 col3\" >31.1513</td>\n",
       "            </tr>\n",
       "            <tr>\n",
       "                        <th id=\"T_5dd87018_8e9c_11ec_8cf4_02420a390ed2level0_row7\" class=\"row_heading level0 row7\" >7</th>\n",
       "                        <td id=\"T_5dd87018_8e9c_11ec_8cf4_02420a390ed2row7_col0\" class=\"data row7 col0\" >wiiu</td>\n",
       "                        <td id=\"T_5dd87018_8e9c_11ec_8cf4_02420a390ed2row7_col1\" class=\"data row7 col1\" >25.13</td>\n",
       "                        <td id=\"T_5dd87018_8e9c_11ec_8cf4_02420a390ed2row7_col2\" class=\"data row7 col2\" >82.19</td>\n",
       "                        <td id=\"T_5dd87018_8e9c_11ec_8cf4_02420a390ed2row7_col3\" class=\"data row7 col3\" >30.5755</td>\n",
       "            </tr>\n",
       "            <tr>\n",
       "                        <th id=\"T_5dd87018_8e9c_11ec_8cf4_02420a390ed2level0_row8\" class=\"row_heading level0 row8\" >8</th>\n",
       "                        <td id=\"T_5dd87018_8e9c_11ec_8cf4_02420a390ed2row8_col0\" class=\"data row8 col0\" >psv</td>\n",
       "                        <td id=\"T_5dd87018_8e9c_11ec_8cf4_02420a390ed2row8_col1\" class=\"data row8 col1\" >13.07</td>\n",
       "                        <td id=\"T_5dd87018_8e9c_11ec_8cf4_02420a390ed2row8_col2\" class=\"data row8 col2\" >53.81</td>\n",
       "                        <td id=\"T_5dd87018_8e9c_11ec_8cf4_02420a390ed2row8_col3\" class=\"data row8 col3\" >24.2892</td>\n",
       "            </tr>\n",
       "            <tr>\n",
       "                        <th id=\"T_5dd87018_8e9c_11ec_8cf4_02420a390ed2level0_row9\" class=\"row_heading level0 row9\" >9</th>\n",
       "                        <td id=\"T_5dd87018_8e9c_11ec_8cf4_02420a390ed2row9_col0\" class=\"data row9 col0\" >ds</td>\n",
       "                        <td id=\"T_5dd87018_8e9c_11ec_8cf4_02420a390ed2row9_col1\" class=\"data row9 col1\" >9.24</td>\n",
       "                        <td id=\"T_5dd87018_8e9c_11ec_8cf4_02420a390ed2row9_col2\" class=\"data row9 col2\" >38.73</td>\n",
       "                        <td id=\"T_5dd87018_8e9c_11ec_8cf4_02420a390ed2row9_col3\" class=\"data row9 col3\" >23.8575</td>\n",
       "            </tr>\n",
       "            <tr>\n",
       "                        <th id=\"T_5dd87018_8e9c_11ec_8cf4_02420a390ed2level0_row10\" class=\"row_heading level0 row10\" >10</th>\n",
       "                        <td id=\"T_5dd87018_8e9c_11ec_8cf4_02420a390ed2row10_col0\" class=\"data row10 col0\" >psp</td>\n",
       "                        <td id=\"T_5dd87018_8e9c_11ec_8cf4_02420a390ed2row10_col1\" class=\"data row10 col1\" >1.77</td>\n",
       "                        <td id=\"T_5dd87018_8e9c_11ec_8cf4_02420a390ed2row10_col2\" class=\"data row10 col2\" >29.01</td>\n",
       "                        <td id=\"T_5dd87018_8e9c_11ec_8cf4_02420a390ed2row10_col3\" class=\"data row10 col3\" >6.10134</td>\n",
       "            </tr>\n",
       "            <tr>\n",
       "                        <th id=\"T_5dd87018_8e9c_11ec_8cf4_02420a390ed2level0_row11\" class=\"row_heading level0 row11\" >11</th>\n",
       "                        <td id=\"T_5dd87018_8e9c_11ec_8cf4_02420a390ed2row11_col0\" class=\"data row11 col0\" >ps2</td>\n",
       "                        <td id=\"T_5dd87018_8e9c_11ec_8cf4_02420a390ed2row11_col1\" class=\"data row11 col1\" >0.13</td>\n",
       "                        <td id=\"T_5dd87018_8e9c_11ec_8cf4_02420a390ed2row11_col2\" class=\"data row11 col2\" >0.45</td>\n",
       "                        <td id=\"T_5dd87018_8e9c_11ec_8cf4_02420a390ed2row11_col3\" class=\"data row11 col3\" >28.8889</td>\n",
       "            </tr>\n",
       "    </tbody></table>"
      ],
      "text/plain": [
       "<pandas.io.formats.style.Styler at 0x7f4150ab8150>"
      ]
     },
     "metadata": {},
     "output_type": "display_data"
    }
   ],
   "source": [
    "#сгруппируем данные по платформам, суммируем продажи общие и по региону\n",
    "top_eu_platforms = (\n",
    "    eu_users.groupby('platform')\n",
    "    .agg({'eu_sales' : 'sum', 'all_sales': 'sum'})\n",
    "    .reset_index()\n",
    ")\n",
    "\n",
    "#посчитаем долю продаж по региону\n",
    "top_eu_platforms['share_sales'] = top_eu_platforms['eu_sales'] / top_eu_platforms['all_sales'] * 100\n",
    "\n",
    "#выведем \n",
    "display(top_eu_platforms.sort_values(by ='eu_sales', ascending=False)\n",
    "                        .reset_index(drop=True)\n",
    "                        .style.background_gradient('coolwarm', subset=['share_sales'])\n",
    "       )"
   ]
  },
  {
   "cell_type": "markdown",
   "metadata": {},
   "source": [
    "Топ-5 платформ среди пользователей Европы являются ps3, ps4, x360, 3ds, pc.<br>\n",
    "В целом, по всем платформам, доли продаж среди европейских клиентов не велики:\n",
    "- продажи ps3 составляют около 37% от общего объема продаж;\n",
    "- с ps4 ситуация чуть лучше - 45% от общего числа;\n",
    "- х360 составляет всего 30% суммарного количества (в отличие от 59% у северо-американцев);\n",
    "- продажи 3ds составляют всего около 24% общемировых продаж.\n",
    "Однако последняя по популярности среди европейцев - количество продаж игр для платформы обычных PC, составляет 58% от всех проданных копий игр для этой платформы.\n",
    "\n",
    "Рассмотрим данные по жанрам за актуальный период"
   ]
  },
  {
   "cell_type": "code",
   "execution_count": 82,
   "metadata": {},
   "outputs": [
    {
     "data": {
      "text/html": [
       "<style  type=\"text/css\" >\n",
       "    #T_5ddbbb38_8e9c_11ec_8cf4_02420a390ed2row0_col3 {\n",
       "            background-color:  #e3d9d3;\n",
       "            color:  #000000;\n",
       "        }    #T_5ddbbb38_8e9c_11ec_8cf4_02420a390ed2row1_col3 {\n",
       "            background-color:  #eed0c0;\n",
       "            color:  #000000;\n",
       "        }    #T_5ddbbb38_8e9c_11ec_8cf4_02420a390ed2row2_col3 {\n",
       "            background-color:  #f2cbb7;\n",
       "            color:  #000000;\n",
       "        }    #T_5ddbbb38_8e9c_11ec_8cf4_02420a390ed2row3_col3 {\n",
       "            background-color:  #4961d2;\n",
       "            color:  #f1f1f1;\n",
       "        }    #T_5ddbbb38_8e9c_11ec_8cf4_02420a390ed2row4_col3 {\n",
       "            background-color:  #b40426;\n",
       "            color:  #f1f1f1;\n",
       "        }    #T_5ddbbb38_8e9c_11ec_8cf4_02420a390ed2row5_col3 {\n",
       "            background-color:  #799cf8;\n",
       "            color:  #000000;\n",
       "        }    #T_5ddbbb38_8e9c_11ec_8cf4_02420a390ed2row6_col3 {\n",
       "            background-color:  #cdd9ec;\n",
       "            color:  #000000;\n",
       "        }    #T_5ddbbb38_8e9c_11ec_8cf4_02420a390ed2row7_col3 {\n",
       "            background-color:  #f7b093;\n",
       "            color:  #000000;\n",
       "        }    #T_5ddbbb38_8e9c_11ec_8cf4_02420a390ed2row8_col3 {\n",
       "            background-color:  #3b4cc0;\n",
       "            color:  #f1f1f1;\n",
       "        }    #T_5ddbbb38_8e9c_11ec_8cf4_02420a390ed2row9_col3 {\n",
       "            background-color:  #a2c1ff;\n",
       "            color:  #000000;\n",
       "        }    #T_5ddbbb38_8e9c_11ec_8cf4_02420a390ed2row10_col3 {\n",
       "            background-color:  #e9d5cb;\n",
       "            color:  #000000;\n",
       "        }    #T_5ddbbb38_8e9c_11ec_8cf4_02420a390ed2row11_col3 {\n",
       "            background-color:  #e9d5cb;\n",
       "            color:  #000000;\n",
       "        }</style><table id=\"T_5ddbbb38_8e9c_11ec_8cf4_02420a390ed2\" ><thead>    <tr>        <th class=\"blank level0\" ></th>        <th class=\"col_heading level0 col0\" >genre</th>        <th class=\"col_heading level0 col1\" >eu_sales</th>        <th class=\"col_heading level0 col2\" >all_sales</th>        <th class=\"col_heading level0 col3\" >share_sales</th>    </tr></thead><tbody>\n",
       "                <tr>\n",
       "                        <th id=\"T_5ddbbb38_8e9c_11ec_8cf4_02420a390ed2level0_row0\" class=\"row_heading level0 row0\" >0</th>\n",
       "                        <td id=\"T_5ddbbb38_8e9c_11ec_8cf4_02420a390ed2row0_col0\" class=\"data row0 col0\" >action</td>\n",
       "                        <td id=\"T_5ddbbb38_8e9c_11ec_8cf4_02420a390ed2row0_col1\" class=\"data row0 col1\" >199.12</td>\n",
       "                        <td id=\"T_5ddbbb38_8e9c_11ec_8cf4_02420a390ed2row0_col2\" class=\"data row0 col2\" >557.8</td>\n",
       "                        <td id=\"T_5ddbbb38_8e9c_11ec_8cf4_02420a390ed2row0_col3\" class=\"data row0 col3\" >35.6974</td>\n",
       "            </tr>\n",
       "            <tr>\n",
       "                        <th id=\"T_5ddbbb38_8e9c_11ec_8cf4_02420a390ed2level0_row1\" class=\"row_heading level0 row1\" >1</th>\n",
       "                        <td id=\"T_5ddbbb38_8e9c_11ec_8cf4_02420a390ed2row1_col0\" class=\"data row1 col0\" >shooter</td>\n",
       "                        <td id=\"T_5ddbbb38_8e9c_11ec_8cf4_02420a390ed2row1_col1\" class=\"data row1 col1\" >148.02</td>\n",
       "                        <td id=\"T_5ddbbb38_8e9c_11ec_8cf4_02420a390ed2row1_col2\" class=\"data row1 col2\" >402.91</td>\n",
       "                        <td id=\"T_5ddbbb38_8e9c_11ec_8cf4_02420a390ed2row1_col3\" class=\"data row1 col3\" >36.7377</td>\n",
       "            </tr>\n",
       "            <tr>\n",
       "                        <th id=\"T_5ddbbb38_8e9c_11ec_8cf4_02420a390ed2level0_row2\" class=\"row_heading level0 row2\" >2</th>\n",
       "                        <td id=\"T_5ddbbb38_8e9c_11ec_8cf4_02420a390ed2row2_col0\" class=\"data row2 col0\" >sports</td>\n",
       "                        <td id=\"T_5ddbbb38_8e9c_11ec_8cf4_02420a390ed2row2_col1\" class=\"data row2 col1\" >88.48</td>\n",
       "                        <td id=\"T_5ddbbb38_8e9c_11ec_8cf4_02420a390ed2row2_col2\" class=\"data row2 col2\" >237.15</td>\n",
       "                        <td id=\"T_5ddbbb38_8e9c_11ec_8cf4_02420a390ed2row2_col3\" class=\"data row2 col3\" >37.3097</td>\n",
       "            </tr>\n",
       "            <tr>\n",
       "                        <th id=\"T_5ddbbb38_8e9c_11ec_8cf4_02420a390ed2level0_row3\" class=\"row_heading level0 row3\" >3</th>\n",
       "                        <td id=\"T_5ddbbb38_8e9c_11ec_8cf4_02420a390ed2row3_col0\" class=\"data row3 col0\" >role-playing</td>\n",
       "                        <td id=\"T_5ddbbb38_8e9c_11ec_8cf4_02420a390ed2row3_col1\" class=\"data row3 col1\" >62.3</td>\n",
       "                        <td id=\"T_5ddbbb38_8e9c_11ec_8cf4_02420a390ed2row3_col2\" class=\"data row3 col2\" >245.63</td>\n",
       "                        <td id=\"T_5ddbbb38_8e9c_11ec_8cf4_02420a390ed2row3_col3\" class=\"data row3 col3\" >25.3634</td>\n",
       "            </tr>\n",
       "            <tr>\n",
       "                        <th id=\"T_5ddbbb38_8e9c_11ec_8cf4_02420a390ed2level0_row4\" class=\"row_heading level0 row4\" >4</th>\n",
       "                        <td id=\"T_5ddbbb38_8e9c_11ec_8cf4_02420a390ed2row4_col0\" class=\"data row4 col0\" >racing</td>\n",
       "                        <td id=\"T_5ddbbb38_8e9c_11ec_8cf4_02420a390ed2row4_col1\" class=\"data row4 col1\" >40.58</td>\n",
       "                        <td id=\"T_5ddbbb38_8e9c_11ec_8cf4_02420a390ed2row4_col2\" class=\"data row4 col2\" >88.31</td>\n",
       "                        <td id=\"T_5ddbbb38_8e9c_11ec_8cf4_02420a390ed2row4_col3\" class=\"data row4 col3\" >45.9518</td>\n",
       "            </tr>\n",
       "            <tr>\n",
       "                        <th id=\"T_5ddbbb38_8e9c_11ec_8cf4_02420a390ed2level0_row5\" class=\"row_heading level0 row5\" >5</th>\n",
       "                        <td id=\"T_5ddbbb38_8e9c_11ec_8cf4_02420a390ed2row5_col0\" class=\"data row5 col0\" >misc</td>\n",
       "                        <td id=\"T_5ddbbb38_8e9c_11ec_8cf4_02420a390ed2row5_col1\" class=\"data row5 col1\" >39.72</td>\n",
       "                        <td id=\"T_5ddbbb38_8e9c_11ec_8cf4_02420a390ed2row5_col2\" class=\"data row5 col2\" >139.42</td>\n",
       "                        <td id=\"T_5ddbbb38_8e9c_11ec_8cf4_02420a390ed2row5_col3\" class=\"data row5 col3\" >28.4895</td>\n",
       "            </tr>\n",
       "            <tr>\n",
       "                        <th id=\"T_5ddbbb38_8e9c_11ec_8cf4_02420a390ed2level0_row6\" class=\"row_heading level0 row6\" >6</th>\n",
       "                        <td id=\"T_5ddbbb38_8e9c_11ec_8cf4_02420a390ed2row6_col0\" class=\"data row6 col0\" >platform</td>\n",
       "                        <td id=\"T_5ddbbb38_8e9c_11ec_8cf4_02420a390ed2row6_col1\" class=\"data row6 col1\" >30.07</td>\n",
       "                        <td id=\"T_5ddbbb38_8e9c_11ec_8cf4_02420a390ed2row6_col2\" class=\"data row6 col2\" >88.68</td>\n",
       "                        <td id=\"T_5ddbbb38_8e9c_11ec_8cf4_02420a390ed2row6_col3\" class=\"data row6 col3\" >33.9084</td>\n",
       "            </tr>\n",
       "            <tr>\n",
       "                        <th id=\"T_5ddbbb38_8e9c_11ec_8cf4_02420a390ed2level0_row7\" class=\"row_heading level0 row7\" >7</th>\n",
       "                        <td id=\"T_5ddbbb38_8e9c_11ec_8cf4_02420a390ed2row7_col0\" class=\"data row7 col0\" >simulation</td>\n",
       "                        <td id=\"T_5ddbbb38_8e9c_11ec_8cf4_02420a390ed2row7_col1\" class=\"data row7 col1\" >19.72</td>\n",
       "                        <td id=\"T_5ddbbb38_8e9c_11ec_8cf4_02420a390ed2row7_col2\" class=\"data row7 col2\" >50.26</td>\n",
       "                        <td id=\"T_5ddbbb38_8e9c_11ec_8cf4_02420a390ed2row7_col3\" class=\"data row7 col3\" >39.236</td>\n",
       "            </tr>\n",
       "            <tr>\n",
       "                        <th id=\"T_5ddbbb38_8e9c_11ec_8cf4_02420a390ed2level0_row8\" class=\"row_heading level0 row8\" >8</th>\n",
       "                        <td id=\"T_5ddbbb38_8e9c_11ec_8cf4_02420a390ed2row8_col0\" class=\"data row8 col0\" >fighting</td>\n",
       "                        <td id=\"T_5ddbbb38_8e9c_11ec_8cf4_02420a390ed2row8_col1\" class=\"data row8 col1\" >16.24</td>\n",
       "                        <td id=\"T_5ddbbb38_8e9c_11ec_8cf4_02420a390ed2row8_col2\" class=\"data row8 col2\" >66.9</td>\n",
       "                        <td id=\"T_5ddbbb38_8e9c_11ec_8cf4_02420a390ed2row8_col3\" class=\"data row8 col3\" >24.275</td>\n",
       "            </tr>\n",
       "            <tr>\n",
       "                        <th id=\"T_5ddbbb38_8e9c_11ec_8cf4_02420a390ed2level0_row9\" class=\"row_heading level0 row9\" >9</th>\n",
       "                        <td id=\"T_5ddbbb38_8e9c_11ec_8cf4_02420a390ed2row9_col0\" class=\"data row9 col0\" >adventure</td>\n",
       "                        <td id=\"T_5ddbbb38_8e9c_11ec_8cf4_02420a390ed2row9_col1\" class=\"data row9 col1\" >13.96</td>\n",
       "                        <td id=\"T_5ddbbb38_8e9c_11ec_8cf4_02420a390ed2row9_col2\" class=\"data row9 col2\" >45.04</td>\n",
       "                        <td id=\"T_5ddbbb38_8e9c_11ec_8cf4_02420a390ed2row9_col3\" class=\"data row9 col3\" >30.9947</td>\n",
       "            </tr>\n",
       "            <tr>\n",
       "                        <th id=\"T_5ddbbb38_8e9c_11ec_8cf4_02420a390ed2level0_row10\" class=\"row_heading level0 row10\" >10</th>\n",
       "                        <td id=\"T_5ddbbb38_8e9c_11ec_8cf4_02420a390ed2row10_col0\" class=\"data row10 col0\" >strategy</td>\n",
       "                        <td id=\"T_5ddbbb38_8e9c_11ec_8cf4_02420a390ed2row10_col1\" class=\"data row10 col1\" >8.02</td>\n",
       "                        <td id=\"T_5ddbbb38_8e9c_11ec_8cf4_02420a390ed2row10_col2\" class=\"data row10 col2\" >22.16</td>\n",
       "                        <td id=\"T_5ddbbb38_8e9c_11ec_8cf4_02420a390ed2row10_col3\" class=\"data row10 col3\" >36.1913</td>\n",
       "            </tr>\n",
       "            <tr>\n",
       "                        <th id=\"T_5ddbbb38_8e9c_11ec_8cf4_02420a390ed2level0_row11\" class=\"row_heading level0 row11\" >11</th>\n",
       "                        <td id=\"T_5ddbbb38_8e9c_11ec_8cf4_02420a390ed2row11_col0\" class=\"data row11 col0\" >puzzle</td>\n",
       "                        <td id=\"T_5ddbbb38_8e9c_11ec_8cf4_02420a390ed2row11_col1\" class=\"data row11 col1\" >3.56</td>\n",
       "                        <td id=\"T_5ddbbb38_8e9c_11ec_8cf4_02420a390ed2row11_col2\" class=\"data row11 col2\" >9.85</td>\n",
       "                        <td id=\"T_5ddbbb38_8e9c_11ec_8cf4_02420a390ed2row11_col3\" class=\"data row11 col3\" >36.1421</td>\n",
       "            </tr>\n",
       "    </tbody></table>"
      ],
      "text/plain": [
       "<pandas.io.formats.style.Styler at 0x7f4150b5ad90>"
      ]
     },
     "metadata": {},
     "output_type": "display_data"
    }
   ],
   "source": [
    "#сгруппируем данные по жанрам, суммируем продажи общие и по региону\n",
    "top_eu_genres = (\n",
    "    eu_users.groupby('genre')\n",
    "    .agg({'eu_sales' : 'sum', 'all_sales': 'sum'})\n",
    "    .reset_index()\n",
    ")\n",
    "\n",
    "#посчитаем долю продаж по региону\n",
    "top_eu_genres['share_sales'] = top_eu_genres['eu_sales'] / top_eu_genres['all_sales'] * 100\n",
    "\n",
    "#выведем \n",
    "display(top_eu_genres.sort_values(by ='eu_sales', ascending=False)\n",
    "                        .reset_index(drop=True)\n",
    "                        .style.background_gradient('coolwarm', subset=['share_sales'])\n",
    "       )"
   ]
  },
  {
   "cell_type": "markdown",
   "metadata": {},
   "source": [
    "Топ-5 популярных жанров игр среди европейцев, в целом похожи на общемировую тенденцию. Однако доля общемировых продаж у них достаточно низкая и составляет в большинстве своем чуть больше трети общего количества проданных копий:\n",
    "- Action - 35,7%\n",
    "- Shooter - 36,7%\n",
    "- Sports - 37,3%\n",
    "- Role-playing - 25%\n",
    "\n",
    "Замыкает топ-5 жанров жанр Racing (7 в общемировом рейтинге), доля продаж которого составла самый большой процент среди самых популярных европейских жанров - почти 46% от общемирового количества.\n",
    "\n",
    "Оценим зависимость между рейтингом и продажами в конкретном регионе. <br>\n",
    "Пропуски в данных были устранены на начальных этапах.<br>\n",
    "Построим сводную таблицу, в которой посчитаем медианное значение продаж по каждому рейтингу, чтобы исключить влияние выбросов. И построим график."
   ]
  },
  {
   "cell_type": "code",
   "execution_count": 83,
   "metadata": {},
   "outputs": [
    {
     "data": {
      "image/png": "[encoded data removed]",
      "text/plain": [
       "<Figure size 720x360 with 1 Axes>"
      ]
     },
     "metadata": {
      "needs_background": "light"
     },
     "output_type": "display_data"
    }
   ],
   "source": [
    "(\n",
    "    eu_users.pivot_table(index='rating', values='eu_sales', aggfunc='median')\n",
    "            .plot(figsize=(10,5), grid='True')\n",
    "         )\n",
    "\n",
    "plt.title('Зависимость между продажами и рейтингом ESRB')\n",
    "plt.ylabel('Сумма продаж в регионе (млн.копий)')\n",
    "plt.xlabel('Код рейтинга')\n",
    "plt.show()"
   ]
  },
  {
   "cell_type": "markdown",
   "metadata": {},
   "source": [
    "Среди пользователей Европы всего продаются игры с рейтингом:\n",
    "- E и E10+ (для всех и от 10 лет и старше), игры для дошкольников (EC) находятся на нулевом уровне, с учетом количества продаваемых игр в выборке - возможно игры с таким рейтингом в Европе не продаются;\n",
    "- пик приходится на игры для взрослых с рейтингом М;\n",
    "- небольшое количество продаж приходится на игры для тинейджеров - рейтинг Т; \n",
    "- рейтинг RP (\"ожидается\") аналогичен замене unknown, которой мы заполняли пропуски. Его обычно присваивают демо-версиям. Следовательно, некоторая доля европейских пользователей, предпочитает играть в новейшие игры \"раннего доступа\".\n",
    "\n",
    "### Пользователи в Японии\n",
    "\n",
    "Сделаем срез и изучим данные по популярным платформам"
   ]
  },
  {
   "cell_type": "code",
   "execution_count": 84,
   "metadata": {},
   "outputs": [],
   "source": [
    "#срез данных за актуальный период\n",
    "jp_users = data.query('jp_sales >=0 & year_of_release >=2011')"
   ]
  },
  {
   "cell_type": "code",
   "execution_count": 85,
   "metadata": {},
   "outputs": [
    {
     "data": {
      "text/html": [
       "<style  type=\"text/css\" >\n",
       "    #T_5e05b488_8e9c_11ec_8cf4_02420a390ed2row0_col3 {\n",
       "            background-color:  #d5dbe5;\n",
       "            color:  #000000;\n",
       "        }    #T_5e05b488_8e9c_11ec_8cf4_02420a390ed2row1_col3 {\n",
       "            background-color:  #6485ec;\n",
       "            color:  #000000;\n",
       "        }    #T_5e05b488_8e9c_11ec_8cf4_02420a390ed2row2_col3 {\n",
       "            background-color:  #b40426;\n",
       "            color:  #f1f1f1;\n",
       "        }    #T_5e05b488_8e9c_11ec_8cf4_02420a390ed2row3_col3 {\n",
       "            background-color:  #dadce0;\n",
       "            color:  #000000;\n",
       "        }    #T_5e05b488_8e9c_11ec_8cf4_02420a390ed2row4_col3 {\n",
       "            background-color:  #4c66d6;\n",
       "            color:  #000000;\n",
       "        }    #T_5e05b488_8e9c_11ec_8cf4_02420a390ed2row5_col3 {\n",
       "            background-color:  #779af7;\n",
       "            color:  #000000;\n",
       "        }    #T_5e05b488_8e9c_11ec_8cf4_02420a390ed2row6_col3 {\n",
       "            background-color:  #5e7de7;\n",
       "            color:  #000000;\n",
       "        }    #T_5e05b488_8e9c_11ec_8cf4_02420a390ed2row7_col3 {\n",
       "            background-color:  #8db0fe;\n",
       "            color:  #000000;\n",
       "        }    #T_5e05b488_8e9c_11ec_8cf4_02420a390ed2row8_col3 {\n",
       "            background-color:  #3d50c3;\n",
       "            color:  #f1f1f1;\n",
       "        }    #T_5e05b488_8e9c_11ec_8cf4_02420a390ed2row9_col3 {\n",
       "            background-color:  #3b4cc0;\n",
       "            color:  #f1f1f1;\n",
       "        }    #T_5e05b488_8e9c_11ec_8cf4_02420a390ed2row10_col3 {\n",
       "            background-color:  #89acfd;\n",
       "            color:  #000000;\n",
       "        }    #T_5e05b488_8e9c_11ec_8cf4_02420a390ed2row11_col3 {\n",
       "            background-color:  #3b4cc0;\n",
       "            color:  #f1f1f1;\n",
       "        }</style><table id=\"T_5e05b488_8e9c_11ec_8cf4_02420a390ed2\" ><thead>    <tr>        <th class=\"blank level0\" ></th>        <th class=\"col_heading level0 col0\" >platform</th>        <th class=\"col_heading level0 col1\" >jp_sales</th>        <th class=\"col_heading level0 col2\" >all_sales</th>        <th class=\"col_heading level0 col3\" >share_sales</th>    </tr></thead><tbody>\n",
       "                <tr>\n",
       "                        <th id=\"T_5e05b488_8e9c_11ec_8cf4_02420a390ed2level0_row0\" class=\"row_heading level0 row0\" >0</th>\n",
       "                        <td id=\"T_5e05b488_8e9c_11ec_8cf4_02420a390ed2row0_col0\" class=\"data row0 col0\" >3ds</td>\n",
       "                        <td id=\"T_5e05b488_8e9c_11ec_8cf4_02420a390ed2row0_col1\" class=\"data row0 col1\" >100.62</td>\n",
       "                        <td id=\"T_5e05b488_8e9c_11ec_8cf4_02420a390ed2row0_col2\" class=\"data row0 col2\" >257.81</td>\n",
       "                        <td id=\"T_5e05b488_8e9c_11ec_8cf4_02420a390ed2row0_col3\" class=\"data row0 col3\" >39.0287</td>\n",
       "            </tr>\n",
       "            <tr>\n",
       "                        <th id=\"T_5e05b488_8e9c_11ec_8cf4_02420a390ed2level0_row1\" class=\"row_heading level0 row1\" >1</th>\n",
       "                        <td id=\"T_5e05b488_8e9c_11ec_8cf4_02420a390ed2row1_col0\" class=\"data row1 col0\" >ps3</td>\n",
       "                        <td id=\"T_5e05b488_8e9c_11ec_8cf4_02420a390ed2row1_col1\" class=\"data row1 col1\" >49.39</td>\n",
       "                        <td id=\"T_5e05b488_8e9c_11ec_8cf4_02420a390ed2row1_col2\" class=\"data row1 col2\" >445.57</td>\n",
       "                        <td id=\"T_5e05b488_8e9c_11ec_8cf4_02420a390ed2row1_col3\" class=\"data row1 col3\" >11.0847</td>\n",
       "            </tr>\n",
       "            <tr>\n",
       "                        <th id=\"T_5e05b488_8e9c_11ec_8cf4_02420a390ed2level0_row2\" class=\"row_heading level0 row2\" >2</th>\n",
       "                        <td id=\"T_5e05b488_8e9c_11ec_8cf4_02420a390ed2row2_col0\" class=\"data row2 col0\" >psp</td>\n",
       "                        <td id=\"T_5e05b488_8e9c_11ec_8cf4_02420a390ed2row2_col1\" class=\"data row2 col1\" >24.04</td>\n",
       "                        <td id=\"T_5e05b488_8e9c_11ec_8cf4_02420a390ed2row2_col2\" class=\"data row2 col2\" >29.01</td>\n",
       "                        <td id=\"T_5e05b488_8e9c_11ec_8cf4_02420a390ed2row2_col3\" class=\"data row2 col3\" >82.868</td>\n",
       "            </tr>\n",
       "            <tr>\n",
       "                        <th id=\"T_5e05b488_8e9c_11ec_8cf4_02420a390ed2level0_row3\" class=\"row_heading level0 row3\" >3</th>\n",
       "                        <td id=\"T_5e05b488_8e9c_11ec_8cf4_02420a390ed2row3_col0\" class=\"data row3 col0\" >psv</td>\n",
       "                        <td id=\"T_5e05b488_8e9c_11ec_8cf4_02420a390ed2row3_col1\" class=\"data row3 col1\" >21.84</td>\n",
       "                        <td id=\"T_5e05b488_8e9c_11ec_8cf4_02420a390ed2row3_col2\" class=\"data row3 col2\" >53.81</td>\n",
       "                        <td id=\"T_5e05b488_8e9c_11ec_8cf4_02420a390ed2row3_col3\" class=\"data row3 col3\" >40.5873</td>\n",
       "            </tr>\n",
       "            <tr>\n",
       "                        <th id=\"T_5e05b488_8e9c_11ec_8cf4_02420a390ed2level0_row4\" class=\"row_heading level0 row4\" >4</th>\n",
       "                        <td id=\"T_5e05b488_8e9c_11ec_8cf4_02420a390ed2row4_col0\" class=\"data row4 col0\" >ps4</td>\n",
       "                        <td id=\"T_5e05b488_8e9c_11ec_8cf4_02420a390ed2row4_col1\" class=\"data row4 col1\" >15.96</td>\n",
       "                        <td id=\"T_5e05b488_8e9c_11ec_8cf4_02420a390ed2row4_col2\" class=\"data row4 col2\" >314.14</td>\n",
       "                        <td id=\"T_5e05b488_8e9c_11ec_8cf4_02420a390ed2row4_col3\" class=\"data row4 col3\" >5.08054</td>\n",
       "            </tr>\n",
       "            <tr>\n",
       "                        <th id=\"T_5e05b488_8e9c_11ec_8cf4_02420a390ed2level0_row5\" class=\"row_heading level0 row5\" >5</th>\n",
       "                        <td id=\"T_5e05b488_8e9c_11ec_8cf4_02420a390ed2row5_col0\" class=\"data row5 col0\" >wiiu</td>\n",
       "                        <td id=\"T_5e05b488_8e9c_11ec_8cf4_02420a390ed2row5_col1\" class=\"data row5 col1\" >13.01</td>\n",
       "                        <td id=\"T_5e05b488_8e9c_11ec_8cf4_02420a390ed2row5_col2\" class=\"data row5 col2\" >82.19</td>\n",
       "                        <td id=\"T_5e05b488_8e9c_11ec_8cf4_02420a390ed2row5_col3\" class=\"data row5 col3\" >15.8292</td>\n",
       "            </tr>\n",
       "            <tr>\n",
       "                        <th id=\"T_5e05b488_8e9c_11ec_8cf4_02420a390ed2level0_row6\" class=\"row_heading level0 row6\" >6</th>\n",
       "                        <td id=\"T_5e05b488_8e9c_11ec_8cf4_02420a390ed2row6_col0\" class=\"data row6 col0\" >wii</td>\n",
       "                        <td id=\"T_5e05b488_8e9c_11ec_8cf4_02420a390ed2row6_col1\" class=\"data row6 col1\" >8.97</td>\n",
       "                        <td id=\"T_5e05b488_8e9c_11ec_8cf4_02420a390ed2row6_col2\" class=\"data row6 col2\" >95.02</td>\n",
       "                        <td id=\"T_5e05b488_8e9c_11ec_8cf4_02420a390ed2row6_col3\" class=\"data row6 col3\" >9.44012</td>\n",
       "            </tr>\n",
       "            <tr>\n",
       "                        <th id=\"T_5e05b488_8e9c_11ec_8cf4_02420a390ed2level0_row7\" class=\"row_heading level0 row7\" >7</th>\n",
       "                        <td id=\"T_5e05b488_8e9c_11ec_8cf4_02420a390ed2row7_col0\" class=\"data row7 col0\" >ds</td>\n",
       "                        <td id=\"T_5e05b488_8e9c_11ec_8cf4_02420a390ed2row7_col1\" class=\"data row7 col1\" >8.04</td>\n",
       "                        <td id=\"T_5e05b488_8e9c_11ec_8cf4_02420a390ed2row7_col2\" class=\"data row7 col2\" >38.73</td>\n",
       "                        <td id=\"T_5e05b488_8e9c_11ec_8cf4_02420a390ed2row7_col3\" class=\"data row7 col3\" >20.7591</td>\n",
       "            </tr>\n",
       "            <tr>\n",
       "                        <th id=\"T_5e05b488_8e9c_11ec_8cf4_02420a390ed2level0_row8\" class=\"row_heading level0 row8\" >8</th>\n",
       "                        <td id=\"T_5e05b488_8e9c_11ec_8cf4_02420a390ed2row8_col0\" class=\"data row8 col0\" >x360</td>\n",
       "                        <td id=\"T_5e05b488_8e9c_11ec_8cf4_02420a390ed2row8_col1\" class=\"data row8 col1\" >3.35</td>\n",
       "                        <td id=\"T_5e05b488_8e9c_11ec_8cf4_02420a390ed2row8_col2\" class=\"data row8 col2\" >380.38</td>\n",
       "                        <td id=\"T_5e05b488_8e9c_11ec_8cf4_02420a390ed2row8_col3\" class=\"data row8 col3\" >0.880698</td>\n",
       "            </tr>\n",
       "            <tr>\n",
       "                        <th id=\"T_5e05b488_8e9c_11ec_8cf4_02420a390ed2level0_row9\" class=\"row_heading level0 row9\" >9</th>\n",
       "                        <td id=\"T_5e05b488_8e9c_11ec_8cf4_02420a390ed2row9_col0\" class=\"data row9 col0\" >xone</td>\n",
       "                        <td id=\"T_5e05b488_8e9c_11ec_8cf4_02420a390ed2row9_col1\" class=\"data row9 col1\" >0.34</td>\n",
       "                        <td id=\"T_5e05b488_8e9c_11ec_8cf4_02420a390ed2row9_col2\" class=\"data row9 col2\" >159.32</td>\n",
       "                        <td id=\"T_5e05b488_8e9c_11ec_8cf4_02420a390ed2row9_col3\" class=\"data row9 col3\" >0.213407</td>\n",
       "            </tr>\n",
       "            <tr>\n",
       "                        <th id=\"T_5e05b488_8e9c_11ec_8cf4_02420a390ed2level0_row10\" class=\"row_heading level0 row10\" >10</th>\n",
       "                        <td id=\"T_5e05b488_8e9c_11ec_8cf4_02420a390ed2row10_col0\" class=\"data row10 col0\" >ps2</td>\n",
       "                        <td id=\"T_5e05b488_8e9c_11ec_8cf4_02420a390ed2row10_col1\" class=\"data row10 col1\" >0.09</td>\n",
       "                        <td id=\"T_5e05b488_8e9c_11ec_8cf4_02420a390ed2row10_col2\" class=\"data row10 col2\" >0.45</td>\n",
       "                        <td id=\"T_5e05b488_8e9c_11ec_8cf4_02420a390ed2row10_col3\" class=\"data row10 col3\" >20</td>\n",
       "            </tr>\n",
       "            <tr>\n",
       "                        <th id=\"T_5e05b488_8e9c_11ec_8cf4_02420a390ed2level0_row11\" class=\"row_heading level0 row11\" >11</th>\n",
       "                        <td id=\"T_5e05b488_8e9c_11ec_8cf4_02420a390ed2row11_col0\" class=\"data row11 col0\" >pc</td>\n",
       "                        <td id=\"T_5e05b488_8e9c_11ec_8cf4_02420a390ed2row11_col1\" class=\"data row11 col1\" >0</td>\n",
       "                        <td id=\"T_5e05b488_8e9c_11ec_8cf4_02420a390ed2row11_col2\" class=\"data row11 col2\" >97.68</td>\n",
       "                        <td id=\"T_5e05b488_8e9c_11ec_8cf4_02420a390ed2row11_col3\" class=\"data row11 col3\" >0</td>\n",
       "            </tr>\n",
       "    </tbody></table>"
      ],
      "text/plain": [
       "<pandas.io.formats.style.Styler at 0x7f4150ba0790>"
      ]
     },
     "metadata": {},
     "output_type": "display_data"
    }
   ],
   "source": [
    "#сгруппируем данные по платформам, суммируем продажи общие и по региону\n",
    "top_jp_platforms = (\n",
    "    jp_users.groupby('platform')\n",
    "    .agg({'jp_sales' : 'sum', 'all_sales': 'sum'})\n",
    "    .reset_index()\n",
    ")\n",
    "\n",
    "#посчитаем долю продаж по региону\n",
    "top_jp_platforms['share_sales'] = top_jp_platforms['jp_sales'] / top_jp_platforms['all_sales'] * 100\n",
    "\n",
    "#выведем \n",
    "display(top_jp_platforms.sort_values(by ='jp_sales', ascending=False)\n",
    "                        .reset_index(drop=True)\n",
    "                        .style.background_gradient('coolwarm', subset=['share_sales'])\n",
    "       )"
   ]
  },
  {
   "cell_type": "markdown",
   "metadata": {},
   "source": [
    "Топ-5 платформ среди пользователей Японии являются 3ds, ps3, psp, psv, ps4.<br>\n",
    "Все платформы японских производителей. За исключением первой - все производства компании Playstation.\n",
    "В целом, по всем платформам, доли продаж среди японских клиентов составляют:\n",
    "- количество проданных игр у самой популярной у японских пользователей 3ds - составляет 39% от общемирового объема продаж;\n",
    "- ps3 занимает 11%, а ps4 всего одну пятую долю от общего количества проданных игр;\n",
    "- компьютерные игры (на платформе PC), совершенно невостребованы, доля их продаж равна 0;\n",
    "- японцы предпочитают портативные консоли - 3ds, которая, как было сказано ранее, занимает первую строчку популярности, psv - 40% игр для нее продавалось в Японии за актуальный период(4 место в топ-5); второе место по популярности среди японцев и 83% от общемирового количества проданных игр составляют игры для платформы psp.\n",
    "\n",
    "Рассмотрим данные по жанрам за актуальный период"
   ]
  },
  {
   "cell_type": "code",
   "execution_count": 86,
   "metadata": {},
   "outputs": [
    {
     "data": {
      "text/html": [
       "<style  type=\"text/css\" >\n",
       "    #T_5e087074_8e9c_11ec_8cf4_02420a390ed2row0_col3 {\n",
       "            background-color:  #b40426;\n",
       "            color:  #f1f1f1;\n",
       "        }    #T_5e087074_8e9c_11ec_8cf4_02420a390ed2row1_col3 {\n",
       "            background-color:  #9abbff;\n",
       "            color:  #000000;\n",
       "        }    #T_5e087074_8e9c_11ec_8cf4_02420a390ed2row2_col3 {\n",
       "            background-color:  #a7c5fe;\n",
       "            color:  #000000;\n",
       "        }    #T_5e087074_8e9c_11ec_8cf4_02420a390ed2row3_col3 {\n",
       "            background-color:  #e3d9d3;\n",
       "            color:  #000000;\n",
       "        }    #T_5e087074_8e9c_11ec_8cf4_02420a390ed2row4_col3 {\n",
       "            background-color:  #b3cdfb;\n",
       "            color:  #000000;\n",
       "        }    #T_5e087074_8e9c_11ec_8cf4_02420a390ed2row5_col3 {\n",
       "            background-color:  #ec8165;\n",
       "            color:  #000000;\n",
       "        }    #T_5e087074_8e9c_11ec_8cf4_02420a390ed2row6_col3 {\n",
       "            background-color:  #3b4cc0;\n",
       "            color:  #f1f1f1;\n",
       "        }    #T_5e087074_8e9c_11ec_8cf4_02420a390ed2row7_col3 {\n",
       "            background-color:  #f7b396;\n",
       "            color:  #000000;\n",
       "        }    #T_5e087074_8e9c_11ec_8cf4_02420a390ed2row8_col3 {\n",
       "            background-color:  #4b64d5;\n",
       "            color:  #f1f1f1;\n",
       "        }    #T_5e087074_8e9c_11ec_8cf4_02420a390ed2row9_col3 {\n",
       "            background-color:  #5e7de7;\n",
       "            color:  #000000;\n",
       "        }    #T_5e087074_8e9c_11ec_8cf4_02420a390ed2row10_col3 {\n",
       "            background-color:  #f5c2aa;\n",
       "            color:  #000000;\n",
       "        }    #T_5e087074_8e9c_11ec_8cf4_02420a390ed2row11_col3 {\n",
       "            background-color:  #d65244;\n",
       "            color:  #000000;\n",
       "        }</style><table id=\"T_5e087074_8e9c_11ec_8cf4_02420a390ed2\" ><thead>    <tr>        <th class=\"blank level0\" ></th>        <th class=\"col_heading level0 col0\" >genre</th>        <th class=\"col_heading level0 col1\" >jp_sales</th>        <th class=\"col_heading level0 col2\" >all_sales</th>        <th class=\"col_heading level0 col3\" >share_sales</th>    </tr></thead><tbody>\n",
       "                <tr>\n",
       "                        <th id=\"T_5e087074_8e9c_11ec_8cf4_02420a390ed2level0_row0\" class=\"row_heading level0 row0\" >0</th>\n",
       "                        <td id=\"T_5e087074_8e9c_11ec_8cf4_02420a390ed2row0_col0\" class=\"data row0 col0\" >role-playing</td>\n",
       "                        <td id=\"T_5e087074_8e9c_11ec_8cf4_02420a390ed2row0_col1\" class=\"data row0 col1\" >79.87</td>\n",
       "                        <td id=\"T_5e087074_8e9c_11ec_8cf4_02420a390ed2row0_col2\" class=\"data row0 col2\" >245.63</td>\n",
       "                        <td id=\"T_5e087074_8e9c_11ec_8cf4_02420a390ed2row0_col3\" class=\"data row0 col3\" >32.5164</td>\n",
       "            </tr>\n",
       "            <tr>\n",
       "                        <th id=\"T_5e087074_8e9c_11ec_8cf4_02420a390ed2level0_row1\" class=\"row_heading level0 row1\" >1</th>\n",
       "                        <td id=\"T_5e087074_8e9c_11ec_8cf4_02420a390ed2row1_col0\" class=\"data row1 col0\" >action</td>\n",
       "                        <td id=\"T_5e087074_8e9c_11ec_8cf4_02420a390ed2row1_col1\" class=\"data row1 col1\" >63.62</td>\n",
       "                        <td id=\"T_5e087074_8e9c_11ec_8cf4_02420a390ed2row1_col2\" class=\"data row1 col2\" >557.8</td>\n",
       "                        <td id=\"T_5e087074_8e9c_11ec_8cf4_02420a390ed2row1_col3\" class=\"data row1 col3\" >11.4055</td>\n",
       "            </tr>\n",
       "            <tr>\n",
       "                        <th id=\"T_5e087074_8e9c_11ec_8cf4_02420a390ed2level0_row2\" class=\"row_heading level0 row2\" >2</th>\n",
       "                        <td id=\"T_5e087074_8e9c_11ec_8cf4_02420a390ed2row2_col0\" class=\"data row2 col0\" >misc</td>\n",
       "                        <td id=\"T_5e087074_8e9c_11ec_8cf4_02420a390ed2row2_col1\" class=\"data row2 col1\" >17.6</td>\n",
       "                        <td id=\"T_5e087074_8e9c_11ec_8cf4_02420a390ed2row2_col2\" class=\"data row2 col2\" >139.42</td>\n",
       "                        <td id=\"T_5e087074_8e9c_11ec_8cf4_02420a390ed2row2_col3\" class=\"data row2 col3\" >12.6237</td>\n",
       "            </tr>\n",
       "            <tr>\n",
       "                        <th id=\"T_5e087074_8e9c_11ec_8cf4_02420a390ed2level0_row3\" class=\"row_heading level0 row3\" >3</th>\n",
       "                        <td id=\"T_5e087074_8e9c_11ec_8cf4_02420a390ed2row3_col0\" class=\"data row3 col0\" >fighting</td>\n",
       "                        <td id=\"T_5e087074_8e9c_11ec_8cf4_02420a390ed2row3_col1\" class=\"data row3 col1\" >12.38</td>\n",
       "                        <td id=\"T_5e087074_8e9c_11ec_8cf4_02420a390ed2row3_col2\" class=\"data row3 col2\" >66.9</td>\n",
       "                        <td id=\"T_5e087074_8e9c_11ec_8cf4_02420a390ed2row3_col3\" class=\"data row3 col3\" >18.5052</td>\n",
       "            </tr>\n",
       "            <tr>\n",
       "                        <th id=\"T_5e087074_8e9c_11ec_8cf4_02420a390ed2level0_row4\" class=\"row_heading level0 row4\" >4</th>\n",
       "                        <td id=\"T_5e087074_8e9c_11ec_8cf4_02420a390ed2row4_col0\" class=\"data row4 col0\" >platform</td>\n",
       "                        <td id=\"T_5e087074_8e9c_11ec_8cf4_02420a390ed2row4_col1\" class=\"data row4 col1\" >12.13</td>\n",
       "                        <td id=\"T_5e087074_8e9c_11ec_8cf4_02420a390ed2row4_col2\" class=\"data row4 col2\" >88.68</td>\n",
       "                        <td id=\"T_5e087074_8e9c_11ec_8cf4_02420a390ed2row4_col3\" class=\"data row4 col3\" >13.6784</td>\n",
       "            </tr>\n",
       "            <tr>\n",
       "                        <th id=\"T_5e087074_8e9c_11ec_8cf4_02420a390ed2level0_row5\" class=\"row_heading level0 row5\" >5</th>\n",
       "                        <td id=\"T_5e087074_8e9c_11ec_8cf4_02420a390ed2row5_col0\" class=\"data row5 col0\" >adventure</td>\n",
       "                        <td id=\"T_5e087074_8e9c_11ec_8cf4_02420a390ed2row5_col1\" class=\"data row5 col1\" >12.07</td>\n",
       "                        <td id=\"T_5e087074_8e9c_11ec_8cf4_02420a390ed2row5_col2\" class=\"data row5 col2\" >45.04</td>\n",
       "                        <td id=\"T_5e087074_8e9c_11ec_8cf4_02420a390ed2row5_col3\" class=\"data row5 col3\" >26.7984</td>\n",
       "            </tr>\n",
       "            <tr>\n",
       "                        <th id=\"T_5e087074_8e9c_11ec_8cf4_02420a390ed2level0_row6\" class=\"row_heading level0 row6\" >6</th>\n",
       "                        <td id=\"T_5e087074_8e9c_11ec_8cf4_02420a390ed2row6_col0\" class=\"data row6 col0\" >shooter</td>\n",
       "                        <td id=\"T_5e087074_8e9c_11ec_8cf4_02420a390ed2row6_col1\" class=\"data row6 col1\" >11.92</td>\n",
       "                        <td id=\"T_5e087074_8e9c_11ec_8cf4_02420a390ed2row6_col2\" class=\"data row6 col2\" >402.91</td>\n",
       "                        <td id=\"T_5e087074_8e9c_11ec_8cf4_02420a390ed2row6_col3\" class=\"data row6 col3\" >2.95848</td>\n",
       "            </tr>\n",
       "            <tr>\n",
       "                        <th id=\"T_5e087074_8e9c_11ec_8cf4_02420a390ed2level0_row7\" class=\"row_heading level0 row7\" >7</th>\n",
       "                        <td id=\"T_5e087074_8e9c_11ec_8cf4_02420a390ed2row7_col0\" class=\"data row7 col0\" >simulation</td>\n",
       "                        <td id=\"T_5e087074_8e9c_11ec_8cf4_02420a390ed2row7_col1\" class=\"data row7 col1\" >11.64</td>\n",
       "                        <td id=\"T_5e087074_8e9c_11ec_8cf4_02420a390ed2row7_col2\" class=\"data row7 col2\" >50.26</td>\n",
       "                        <td id=\"T_5e087074_8e9c_11ec_8cf4_02420a390ed2row7_col3\" class=\"data row7 col3\" >23.1596</td>\n",
       "            </tr>\n",
       "            <tr>\n",
       "                        <th id=\"T_5e087074_8e9c_11ec_8cf4_02420a390ed2level0_row8\" class=\"row_heading level0 row8\" >8</th>\n",
       "                        <td id=\"T_5e087074_8e9c_11ec_8cf4_02420a390ed2row8_col0\" class=\"data row8 col0\" >sports</td>\n",
       "                        <td id=\"T_5e087074_8e9c_11ec_8cf4_02420a390ed2row8_col1\" class=\"data row8 col1\" >11.09</td>\n",
       "                        <td id=\"T_5e087074_8e9c_11ec_8cf4_02420a390ed2row8_col2\" class=\"data row8 col2\" >237.15</td>\n",
       "                        <td id=\"T_5e087074_8e9c_11ec_8cf4_02420a390ed2row8_col3\" class=\"data row8 col3\" >4.67637</td>\n",
       "            </tr>\n",
       "            <tr>\n",
       "                        <th id=\"T_5e087074_8e9c_11ec_8cf4_02420a390ed2level0_row9\" class=\"row_heading level0 row9\" >9</th>\n",
       "                        <td id=\"T_5e087074_8e9c_11ec_8cf4_02420a390ed2row9_col0\" class=\"data row9 col0\" >racing</td>\n",
       "                        <td id=\"T_5e087074_8e9c_11ec_8cf4_02420a390ed2row9_col1\" class=\"data row9 col1\" >5.64</td>\n",
       "                        <td id=\"T_5e087074_8e9c_11ec_8cf4_02420a390ed2row9_col2\" class=\"data row9 col2\" >88.31</td>\n",
       "                        <td id=\"T_5e087074_8e9c_11ec_8cf4_02420a390ed2row9_col3\" class=\"data row9 col3\" >6.38659</td>\n",
       "            </tr>\n",
       "            <tr>\n",
       "                        <th id=\"T_5e087074_8e9c_11ec_8cf4_02420a390ed2level0_row10\" class=\"row_heading level0 row10\" >10</th>\n",
       "                        <td id=\"T_5e087074_8e9c_11ec_8cf4_02420a390ed2row10_col0\" class=\"data row10 col0\" >strategy</td>\n",
       "                        <td id=\"T_5e087074_8e9c_11ec_8cf4_02420a390ed2row10_col1\" class=\"data row10 col1\" >4.78</td>\n",
       "                        <td id=\"T_5e087074_8e9c_11ec_8cf4_02420a390ed2row10_col2\" class=\"data row10 col2\" >22.16</td>\n",
       "                        <td id=\"T_5e087074_8e9c_11ec_8cf4_02420a390ed2row10_col3\" class=\"data row10 col3\" >21.5704</td>\n",
       "            </tr>\n",
       "            <tr>\n",
       "                        <th id=\"T_5e087074_8e9c_11ec_8cf4_02420a390ed2level0_row11\" class=\"row_heading level0 row11\" >11</th>\n",
       "                        <td id=\"T_5e087074_8e9c_11ec_8cf4_02420a390ed2row11_col0\" class=\"data row11 col0\" >puzzle</td>\n",
       "                        <td id=\"T_5e087074_8e9c_11ec_8cf4_02420a390ed2row11_col1\" class=\"data row11 col1\" >2.91</td>\n",
       "                        <td id=\"T_5e087074_8e9c_11ec_8cf4_02420a390ed2row11_col2\" class=\"data row11 col2\" >9.85</td>\n",
       "                        <td id=\"T_5e087074_8e9c_11ec_8cf4_02420a390ed2row11_col3\" class=\"data row11 col3\" >29.5431</td>\n",
       "            </tr>\n",
       "    </tbody></table>"
      ],
      "text/plain": [
       "<pandas.io.formats.style.Styler at 0x7f415098a5d0>"
      ]
     },
     "metadata": {},
     "output_type": "display_data"
    }
   ],
   "source": [
    "#сгруппируем данные по жанрам, суммируем продажи общие и по региону\n",
    "top_jp_genres = (\n",
    "    jp_users.groupby('genre')\n",
    "    .agg({'jp_sales' : 'sum', 'all_sales': 'sum'})\n",
    "    .reset_index()\n",
    ")\n",
    "\n",
    "#посчитаем долю продаж по региону\n",
    "top_jp_genres['share_sales'] = top_jp_genres['jp_sales'] / top_jp_genres['all_sales'] * 100\n",
    "\n",
    "#выведем \n",
    "display(top_jp_genres.sort_values(by ='jp_sales', ascending=False)\n",
    "                        .reset_index(drop=True)\n",
    "                        .style.background_gradient('coolwarm', subset=['share_sales'])\n",
    "       )"
   ]
  },
  {
   "cell_type": "markdown",
   "metadata": {},
   "source": [
    "Топ-5 популярных жанров игр среди японцев сильно отличается от аналогичных рейтингов для европейцев и северо-американцев.\n",
    "- наиболее популярны игры в жанре Role-playing (32% от общемировых продаж, игры этого жанра в рейтинге по всем регионам занимают всего лишь 4 место);\n",
    "- на второе место спустился жанр action (11% от общего объема продаж)\n",
    "- на третьем месте misc (чаще он располагается чуть ниже в рейтинге, доля от суммы всех продаж составляет 12,6%)\n",
    "- четвертое место у жанра fighting (в общемировом рейтинге он далеко на 8 строчке, доля от общего числа продаж составляет 18,5%)\n",
    "- замыкает пятерку популярных жанров - platform (13,6 %, в других рейтингах этот жанр имеет примерно такую же популярность).\n",
    "Предпочитаемые другими пользователями жанры shooter и sports в топ-популярных жанров у японских пользователей не попали и находятся ближе к концу списка.\n",
    "\n",
    "Оценим зависимость между рейтингом и продажами в конкретном регионе. <br>\n",
    "Пропуски в данных были устранены на начальных этапах.<br>\n",
    "Построим сводную таблицу, в которой посчитаем медианное значение продаж по каждому рейтингу, чтобы исключить влияние выбросов. И построим график."
   ]
  },
  {
   "cell_type": "code",
   "execution_count": 87,
   "metadata": {},
   "outputs": [
    {
     "data": {
      "image/png": "[encoded data removed]",
      "text/plain": [
       "<Figure size 720x360 with 1 Axes>"
      ]
     },
     "metadata": {
      "needs_background": "light"
     },
     "output_type": "display_data"
    }
   ],
   "source": [
    "(\n",
    "    jp_users.pivot_table(index='rating', values='jp_sales', aggfunc='median')\n",
    "            .plot(figsize=(10,5), grid='True')\n",
    "         )\n",
    "\n",
    "plt.title('Зависимость между продажами и рейтингом ESRB')\n",
    "plt.ylabel('Сумма продаж в регионе (млн.копий)')\n",
    "plt.xlabel('Код рейтинга')\n",
    "plt.show()"
   ]
  },
  {
   "cell_type": "markdown",
   "metadata": {},
   "source": [
    "График показал медианные нулевые значения по всем рейтингам. Проверим по таблице."
   ]
  },
  {
   "cell_type": "code",
   "execution_count": 88,
   "metadata": {},
   "outputs": [
    {
     "data": {
      "text/html": [
       "<div>\n",
       "<style scoped>\n",
       "    .dataframe tbody tr th:only-of-type {\n",
       "        vertical-align: middle;\n",
       "    }\n",
       "\n",
       "    .dataframe tbody tr th {\n",
       "        vertical-align: top;\n",
       "    }\n",
       "\n",
       "    .dataframe thead tr th {\n",
       "        text-align: left;\n",
       "    }\n",
       "\n",
       "    .dataframe thead tr:last-of-type th {\n",
       "        text-align: right;\n",
       "    }\n",
       "</style>\n",
       "<table border=\"1\" class=\"dataframe\">\n",
       "  <thead>\n",
       "    <tr>\n",
       "      <th></th>\n",
       "      <th>sum</th>\n",
       "      <th>mean</th>\n",
       "      <th>median</th>\n",
       "    </tr>\n",
       "    <tr>\n",
       "      <th></th>\n",
       "      <th>jp_sales</th>\n",
       "      <th>jp_sales</th>\n",
       "      <th>jp_sales</th>\n",
       "    </tr>\n",
       "    <tr>\n",
       "      <th>rating</th>\n",
       "      <th></th>\n",
       "      <th></th>\n",
       "      <th></th>\n",
       "    </tr>\n",
       "  </thead>\n",
       "  <tbody>\n",
       "    <tr>\n",
       "      <td>E</td>\n",
       "      <td>36.68</td>\n",
       "      <td>0.06</td>\n",
       "      <td>0.00</td>\n",
       "    </tr>\n",
       "    <tr>\n",
       "      <td>E10+</td>\n",
       "      <td>11.23</td>\n",
       "      <td>0.02</td>\n",
       "      <td>0.00</td>\n",
       "    </tr>\n",
       "    <tr>\n",
       "      <td>EC</td>\n",
       "      <td>0.00</td>\n",
       "      <td>0.00</td>\n",
       "      <td>0.00</td>\n",
       "    </tr>\n",
       "    <tr>\n",
       "      <td>M</td>\n",
       "      <td>26.14</td>\n",
       "      <td>0.04</td>\n",
       "      <td>0.00</td>\n",
       "    </tr>\n",
       "    <tr>\n",
       "      <td>RP</td>\n",
       "      <td>0.00</td>\n",
       "      <td>0.00</td>\n",
       "      <td>0.00</td>\n",
       "    </tr>\n",
       "    <tr>\n",
       "      <td>T</td>\n",
       "      <td>33.39</td>\n",
       "      <td>0.05</td>\n",
       "      <td>0.00</td>\n",
       "    </tr>\n",
       "    <tr>\n",
       "      <td>unknown</td>\n",
       "      <td>138.21</td>\n",
       "      <td>0.08</td>\n",
       "      <td>0.02</td>\n",
       "    </tr>\n",
       "  </tbody>\n",
       "</table>\n",
       "</div>"
      ],
      "text/plain": [
       "             sum     mean   median\n",
       "        jp_sales jp_sales jp_sales\n",
       "rating                            \n",
       "E          36.68     0.06     0.00\n",
       "E10+       11.23     0.02     0.00\n",
       "EC          0.00     0.00     0.00\n",
       "M          26.14     0.04     0.00\n",
       "RP          0.00     0.00     0.00\n",
       "T          33.39     0.05     0.00\n",
       "unknown   138.21     0.08     0.02"
      ]
     },
     "execution_count": 88,
     "metadata": {},
     "output_type": "execute_result"
    }
   ],
   "source": [
    "jp_users.pivot_table(index='rating', values='jp_sales', aggfunc=['sum', 'mean', 'median'])"
   ]
  },
  {
   "cell_type": "markdown",
   "metadata": {},
   "source": [
    "Медианные значения действительно равны нулю. Большее число родаж приходится именно на unknown. Скорее всего, в Японии собственная система рейтинга игрового контента - наибольшее число игр, проданных в Японии за актуальный период, имеет рейтинг unknown. Кроме того, большое количество консольных игр выходило только на японском языке и чаще не имеет перевода на английский и другие языки. Зависимости между рейтингом игрового продукта от ESRB и продажами игр среди японских пользователей не установлено.\n",
    "\n",
    "### Выводы\n",
    "<b> Популярные платформы</b><br>\n",
    "- пользователи Северной Америки предпочитают как платформы производства Microsoft (xone, x360 - доля составляет 58,4% и 59,6% от суммы продаж игр по всем регионам соответственно); чуть менее популярны ps3 и ps4 (треть от всех продаж по всем регионам); единственная портативная консоль в топ-5 среди этих пользователей - 3ds (также треть от продаж);\n",
    "- европейские пользователи более разносторонни - на первых местах рейтинга ps3, ps4 (37% и 45% соотвестенно), далее идет x360 (всего треть от суммы всех продаж), 3ds четвертая в списке популярности (доля составляет 24%), при этом европейцы покупаю игры также для PC и являются достаточно многочисленной группой стронников этой платформы (на них приходится 58% общемировых продаж)\n",
    "- японские пользователи отдают предпочтение японским консолям, в топе самых популярных - продукты от Playstation: ps3, psp, psv, ps4. В целом, японские пользователи больше предпочитают портативные консоли (3ds, первое место в рейтинге, доля от общемирового объема - 39%; psp, второе место в рейтинге, 83% продаваемых в мире игр для этой платформы, приходится на японских пользователей и psv, четвертое место, доля составляет 40%). Остальные - ps3 занимает 11%, а ps4 всего одну пятую долю от общего количества проданных игр. \n",
    "\n",
    "<b>Жанры</b> \n",
    "- пользователи Северной Америки предпочитают игры в жанре Action (40% общемировых продаж игр этого жанра); Shooter (48% общего объема проданных игр); Sports (45% от общего количества проданных игр); Role-playing (34% общего объема продаж); Misc (почти половина общемировых продаж). Их предпочтения близки к общей тенденции по всему объему продаж игр разных жанров в мире.\n",
    "- европейские пользователи предпочитают схожий набор по всем жанрам - доля около трети-четверти от общего объема продаж: Action - 35,7%, Shooter - 36,7%, Sports - 37,3%, Role-playing - 25%.\n",
    "- японские пользователи сильно отличаются от предыдущих групп по своим предпочтениям и крайне далеки от общемировой тенденции: у них наиболее популярны игры в жанре Role-playing (32% от общемировых продаж), Action (11% от общего объема продаж), misc (12,6%), Fighting (18,5%, чаще он расплогается в конце списка популярности), Platform (13,6 %). \n",
    "\n",
    "<b>Рейтинги</b>\n",
    "- в Северной Америке наиболее популярны игры для детей с рейтингом EC (для детей младшего возраста), далее идут игры с возрастным ограничением в 10+ (E10+) и игры рейтинга М (для взрослых, 18+).\n",
    "- европейские пользователи предпочитают игры для детей чуть постарше - E и E10+ (для всех и от 10 лет и старше), однако пик популярности (в отличие от северо-американских пользователей) у игр с максимальным возрастным рейтингом М.\n",
    "- японские пользователи, вероятно используют свою систему рейтингов, многие игры для консолей Playstation выпускаются только на японском языке (скорее всего у ESRB не было необходимости оценивать игры, выпущенные для локального рынка), зависимость между рейтингами западной ассоциации ESRB и предпочтенями японских пользователей не установлена.\n",
    "\n",
    "## Проверка гипотез\n",
    "\n",
    "### Средние пользовательские рейтинги платформ Xbox One и PC\n",
    "\n",
    "Проверим различаются ли средние пользовательские рейтинги у платформ Xbox One и PC.<br>Посчитаем дисперсию для средних значений. Дисперсия — это величина, показывающая, как именно и насколько сильно разбросаны значения —оценки пользователей за рассматриваемый период. За точку, относительно которой эти значения разбросаны, возьмем среднее арифметическое."
   ]
  },
  {
   "cell_type": "code",
   "execution_count": 89,
   "metadata": {},
   "outputs": [],
   "source": [
    "#сделаем выборочный срез\n",
    "xone_pc_user_score = data.query('2015 >= year_of_release >= 2011 & (platform == \"xone\" or platform == \"pc\")')"
   ]
  },
  {
   "cell_type": "code",
   "execution_count": 90,
   "metadata": {},
   "outputs": [
    {
     "data": {
      "text/html": [
       "<div>\n",
       "<style scoped>\n",
       "    .dataframe tbody tr th:only-of-type {\n",
       "        vertical-align: middle;\n",
       "    }\n",
       "\n",
       "    .dataframe tbody tr th {\n",
       "        vertical-align: top;\n",
       "    }\n",
       "\n",
       "    .dataframe thead th {\n",
       "        text-align: right;\n",
       "    }\n",
       "</style>\n",
       "<table border=\"1\" class=\"dataframe\">\n",
       "  <thead>\n",
       "    <tr style=\"text-align: right;\">\n",
       "      <th></th>\n",
       "      <th>platform</th>\n",
       "      <th>mean_user_score</th>\n",
       "      <th>standard_deviation</th>\n",
       "      <th>varians</th>\n",
       "    </tr>\n",
       "  </thead>\n",
       "  <tbody>\n",
       "    <tr>\n",
       "      <td>0</td>\n",
       "      <td>Xbox One</td>\n",
       "      <td>6.48</td>\n",
       "      <td>1.29</td>\n",
       "      <td>1.66</td>\n",
       "    </tr>\n",
       "    <tr>\n",
       "      <td>1</td>\n",
       "      <td>PC</td>\n",
       "      <td>6.48</td>\n",
       "      <td>1.59</td>\n",
       "      <td>2.53</td>\n",
       "    </tr>\n",
       "  </tbody>\n",
       "</table>\n",
       "</div>"
      ],
      "text/plain": [
       "   platform  mean_user_score  standard_deviation  varians\n",
       "0  Xbox One             6.48                1.29     1.66\n",
       "1        PC             6.48                1.59     2.53"
      ]
     },
     "execution_count": 90,
     "metadata": {},
     "output_type": "execute_result"
    }
   ],
   "source": [
    "#построим сравнительную таблицу по среднему, стандартному отклонению, дисперсии\n",
    "compare_platforms = {\n",
    "    'platform' : ['Xbox One', 'PC'],\n",
    "    \n",
    "    'mean_user_score': [xone_pc_user_score.loc[xone_pc_user_score['platform'] == 'xone']['user_score'].mean(),\n",
    "                        xone_pc_user_score.loc[xone_pc_user_score['platform'] == 'pc']['user_score'].mean()],\n",
    "    \n",
    "    'standard_deviation': [np.std(xone_pc_user_score.loc[xone_pc_user_score['platform'] == 'xone']['user_score'], ddof=1),\n",
    "                           np.std(xone_pc_user_score.loc[xone_pc_user_score['platform'] == 'pc']['user_score'], ddof=1)],\n",
    "    \n",
    "    'varians': [np.var(xone_pc_user_score.loc[xone_pc_user_score['platform'] == 'xone']['user_score'], ddof=1),\n",
    "                np.var(xone_pc_user_score.loc[xone_pc_user_score['platform'] == 'pc']['user_score'], ddof=1)]\n",
    "\n",
    "}\n",
    "\n",
    "pd.DataFrame(compare_platforms)"
   ]
  },
  {
   "cell_type": "markdown",
   "metadata": {},
   "source": [
    "Средние значения разные. Предположим, что это действительно так.\n",
    "\n",
    "Проведем статистический анализ при помощи t-теста, т.к. будем сравнивать две выборки - средние рейтинги игр на двух платформах, а объем выборки больше 50 элементов.\n",
    "\n",
    "Перед проведением статистического теста необходимо очистить выборки от выбросов."
   ]
  },
  {
   "cell_type": "code",
   "execution_count": 91,
   "metadata": {},
   "outputs": [
    {
     "name": "stdout",
     "output_type": "stream",
     "text": [
      "Пропусков в оценках пользователей: 117\n",
      "Всего строк в таблице: 495 строк\n"
     ]
    }
   ],
   "source": [
    "print('Пропусков в оценках пользователей:', xone_pc_user_score['user_score'].isna().sum())\n",
    "print('Всего строк в таблице:', xone_pc_user_score.shape[0], 'строк')"
   ]
  },
  {
   "cell_type": "code",
   "execution_count": 92,
   "metadata": {},
   "outputs": [
    {
     "name": "stdout",
     "output_type": "stream",
     "text": [
      "Пропусков в оценках пользователей после: 0\n",
      "Объем новой таблицы: 378 строк\n"
     ]
    }
   ],
   "source": [
    "#данных достаточно, можно удалить пропуски\n",
    "xone_pc_user_score = xone_pc_user_score.dropna(subset=['user_score'])\n",
    "\n",
    "print('Пропусков в оценках пользователей после:', xone_pc_user_score['user_score'].isna().sum())\n",
    "print('Объем новой таблицы:', xone_pc_user_score.shape[0], 'строк')"
   ]
  },
  {
   "cell_type": "markdown",
   "metadata": {},
   "source": [
    "Сформулируем нулевую и альтернативную гипотезу. По правилам статистических тестов всегда сравниваем с равенством:\n",
    "\n",
    "H0: Средние пользовательские рейтинги у платформы Xbox One равны средним пользовательским рейтингам у платформы PC<br>\n",
    "H1: Средние пользовательские рейтинги у платформы Xbox One не равны средним пользовательским рейтингам у платформы PC<br>"
   ]
  },
  {
   "cell_type": "code",
   "execution_count": 93,
   "metadata": {},
   "outputs": [
    {
     "name": "stdout",
     "output_type": "stream",
     "text": [
      "p-значение:  0.9966109146811735\n",
      "Не получилось отвергнуть нулевую гипотезу\n"
     ]
    }
   ],
   "source": [
    "alpha = .05 # критический уровень статистической значимости\n",
    "# если p-value окажется меньше него - отвергнем гипотезу\n",
    "\n",
    "results = st.ttest_ind(\n",
    "    xone_pc_user_score.loc[xone_pc_user_score['platform'] == 'xone']['user_score'], \n",
    "    xone_pc_user_score.loc[xone_pc_user_score['platform'] == 'pc']['user_score'],\n",
    "    equal_var = False) # проверяем гипотезу о равенстве выручек с учетом того, что выборки разные по размеру\n",
    "\n",
    "print('p-значение: ', results.pvalue)\n",
    "\n",
    "if results.pvalue < alpha:\n",
    "    print(\"Отвергаем нулевую гипотезу\")\n",
    "else:\n",
    "    print(\"Не получилось отвергнуть нулевую гипотезу\")"
   ]
  },
  {
   "cell_type": "markdown",
   "metadata": {},
   "source": [
    "На основании сравнения рассчитаного математического ожидания, рассчитаных стандартного отклонения и дисперсии, а также основываясь на результатах статистического t-теста, на уровне значимости alpha = 0.05, отвергаем гипотезу о равенстве средних пользовательских оценок у платформ xone и pc. Вероятно, средние пользовательские оценки у платформы PC действительно выше, чем у Xbox One.\n",
    "\n",
    "### Средние пользовательские рейтинги рейтинги жанров Action и Sports\n",
    "\n",
    "Проверим различаются ли средние пользовательские рейтинги у жанров Action и Sports. <br>\n",
    "Посчитаем дисперсию для средних значений. Дисперсия — это величина, показывающая, насколько далеко каждая оценка пользователей от среднего значения оценок по жанру за рассматриваемый период. За точку, относительно которой эти значения разбросаны, возьмем математическое ожидание (среднее арифметическое)."
   ]
  },
  {
   "cell_type": "code",
   "execution_count": 94,
   "metadata": {},
   "outputs": [],
   "source": [
    "#сделаем выборочный срез\n",
    "action_sport_user_score = data.query('2015 >= year_of_release >= 2011 & (genre == \"action\" or genre == \"sports\")')"
   ]
  },
  {
   "cell_type": "code",
   "execution_count": 95,
   "metadata": {},
   "outputs": [
    {
     "data": {
      "text/html": [
       "<div>\n",
       "<style scoped>\n",
       "    .dataframe tbody tr th:only-of-type {\n",
       "        vertical-align: middle;\n",
       "    }\n",
       "\n",
       "    .dataframe tbody tr th {\n",
       "        vertical-align: top;\n",
       "    }\n",
       "\n",
       "    .dataframe thead th {\n",
       "        text-align: right;\n",
       "    }\n",
       "</style>\n",
       "<table border=\"1\" class=\"dataframe\">\n",
       "  <thead>\n",
       "    <tr style=\"text-align: right;\">\n",
       "      <th></th>\n",
       "      <th>genre</th>\n",
       "      <th>mean_user_score</th>\n",
       "      <th>standard_deviation</th>\n",
       "      <th>varians</th>\n",
       "    </tr>\n",
       "  </thead>\n",
       "  <tbody>\n",
       "    <tr>\n",
       "      <td>0</td>\n",
       "      <td>Action</td>\n",
       "      <td>6.80</td>\n",
       "      <td>1.33</td>\n",
       "      <td>1.76</td>\n",
       "    </tr>\n",
       "    <tr>\n",
       "      <td>1</td>\n",
       "      <td>Sports</td>\n",
       "      <td>5.69</td>\n",
       "      <td>1.63</td>\n",
       "      <td>2.66</td>\n",
       "    </tr>\n",
       "  </tbody>\n",
       "</table>\n",
       "</div>"
      ],
      "text/plain": [
       "    genre  mean_user_score  standard_deviation  varians\n",
       "0  Action             6.80                1.33     1.76\n",
       "1  Sports             5.69                1.63     2.66"
      ]
     },
     "execution_count": 95,
     "metadata": {},
     "output_type": "execute_result"
    }
   ],
   "source": [
    "#построим сравнительную таблицу\n",
    "compare_genres =  {\n",
    "    'genre' : ['Action', 'Sports'],\n",
    "    \n",
    "    'mean_user_score': [action_sport_user_score.loc[action_sport_user_score['genre'] == 'action']['user_score'].mean(),\n",
    "                        action_sport_user_score.loc[action_sport_user_score['genre'] == 'sports']['user_score'].mean()],\n",
    "    \n",
    "    'standard_deviation': [np.std(action_sport_user_score.loc[action_sport_user_score['genre'] == 'action']['user_score'], ddof=1),\n",
    "                           np.std(action_sport_user_score.loc[action_sport_user_score['genre'] == 'sports']['user_score'], ddof=1)],\n",
    "    \n",
    "    'varians': [np.var(action_sport_user_score.loc[action_sport_user_score['genre'] == 'action']['user_score'], ddof=1),\n",
    "                np.var(action_sport_user_score.loc[action_sport_user_score['genre'] == 'sports']['user_score'], ddof=1)]\n",
    "\n",
    "}\n",
    "pd.DataFrame(compare_genres)"
   ]
  },
  {
   "cell_type": "markdown",
   "metadata": {},
   "source": [
    "Средние значения отличаются несущественно. Проверим, так ли это - проведем статистический анализ при помощи t-теста, т.к. будем сравнивать две выборки - средние пользовательские рейтинги игр двух жанров, а объем выборки больше 50 элементов.\n",
    "\n",
    "Перед проведением статистического теста необходимо очистить выборки от выбросов."
   ]
  },
  {
   "cell_type": "code",
   "execution_count": 96,
   "metadata": {},
   "outputs": [
    {
     "name": "stdout",
     "output_type": "stream",
     "text": [
      "Пропусков в оценках пользователей: 644\n",
      "Всего строк в таблице: 1432 строк\n"
     ]
    }
   ],
   "source": [
    "print('Пропусков в оценках пользователей:', action_sport_user_score['user_score'].isna().sum())\n",
    "print('Всего строк в таблице:', action_sport_user_score.shape[0], 'строк')"
   ]
  },
  {
   "cell_type": "code",
   "execution_count": 97,
   "metadata": {},
   "outputs": [
    {
     "name": "stdout",
     "output_type": "stream",
     "text": [
      "Пропусков в оценках пользователей после: 0\n",
      "Объем новой таблицы: 788 строк\n"
     ]
    }
   ],
   "source": [
    "#данных достаточно, можно удалить пропуски\n",
    "action_sport_user_score = action_sport_user_score.dropna(subset=['user_score'])\n",
    "\n",
    "print('Пропусков в оценках пользователей после:', action_sport_user_score['user_score'].isna().sum())\n",
    "print('Объем новой таблицы:', action_sport_user_score.shape[0], 'строк')"
   ]
  },
  {
   "cell_type": "markdown",
   "metadata": {},
   "source": [
    "Сформулируем нулевую и альтернативную гипотезу. По правилам статистических тестов всегда сравниваем с равенством:\n",
    "\n",
    "H0: Средние пользовательские рейтинги игр в жанре Action равны средним пользовательским рейтингам игр в жанре Sports<br>\n",
    "H1: Средние пользовательские рейтинги игр в жанре Action не равны средним пользовательским рейтингам игр в жанре Sports<br>"
   ]
  },
  {
   "cell_type": "code",
   "execution_count": 98,
   "metadata": {},
   "outputs": [
    {
     "name": "stdout",
     "output_type": "stream",
     "text": [
      "p-значение:  9.049636834937507e-17\n",
      "Отвергаем нулевую гипотезу\n"
     ]
    }
   ],
   "source": [
    "alpha = .05 # критический уровень статистической значимости\n",
    "# если p-value окажется меньше него - отвегнем гипотезу\n",
    "\n",
    "results = st.ttest_ind(\n",
    "    action_sport_user_score.loc[action_sport_user_score['genre'] == 'action']['user_score'], \n",
    "    action_sport_user_score.loc[action_sport_user_score['genre'] == 'sports']['user_score'],\n",
    "    equal_var = False) # проверяем гипотезу о равенстве выручек с учетом того, что выборки разные по размеру\n",
    "\n",
    "print('p-значение: ', results.pvalue)\n",
    "\n",
    "if results.pvalue < alpha:\n",
    "    print(\"Отвергаем нулевую гипотезу\")\n",
    "else:\n",
    "    print(\"Не получилось отвергнуть нулевую гипотезу\")"
   ]
  },
  {
   "cell_type": "markdown",
   "metadata": {},
   "source": [
    "основании сравнения рассчитаного математического ожидания, рассчитаных стандартного отклонения и дисперсии, а также основываясь на результатах статистического t-теста, на уровне значимости alpha = 0.05, не можем отвергнуть гипотезу о равенстве средних пользовательских оценок у игр в жанре action и sports. Вероятно, наблюдаемое различие средних пользовательских оценок у игр в жанре action и sports не существено и вызвано каким-либо выбросом или шумом в данных."
   ]
  },
  {
   "cell_type": "markdown",
   "metadata": {},
   "source": [
    "## Общий вывод\n",
    "\n",
    "- на начальном этапе данные были специально подготовлены для дальнейшего анализа, так как брались из открытых разных источников: были удалены пропуски в названиях игр, жанрах; пропуски в оценках оставлены (этот факт учтен в дальнейшем анализе), т.к. корректно заменить их было нельзя; пропуски в рейтингах заменены на unknown (т.к. игры, возможно, просто не попали в выбранную систему рейтингов); значения tbn в оценках заменены на NaN (как неоцененные);\n",
    "- для каждой игры отдельном столбце посчитана сумма продаж по всем регионам;\n",
    "- наибольшее число выпущенных игр лежит в диапазоне 2005-2012 годов;\n",
    "- проведен анализ продаж игр на платформах ps2, x360, ps3, wii, ds, ps, как консолях с наибольшим проданным числом игр;\n",
    "- установлено, что средняя длительность жизни платформы составляет около 10 лет;\n",
    "- актуальным периодом для анализа выбран 5-летний (половина жизненного цикла платформы, когда продажи увеличиваются) период (начиная с 2011 года), верхней границей взят 2015 год, т.к. за 2016 год данные не полные;\n",
    "- <b>для одинакового количества выпущенных игр наблюдается существенная разница в сумме продаж (например, игр для ps3 и для psv выпущено в 2014 году почти одинаковое количество, однако копий игр для ps3 продано больше, чем для psv), кроме того, суммарные продажи по годам позволяют отследить рост популярности новой консоли - при меньшем количестве выпущенных игр (или несущественной разнице между ними), продажи игр для новой консоли зачастую выше</b>;\n",
    "- в выбранный актуальный период определены перспективные игровые платформы (3ds, psv, pc, ps4, xone) у которых продажи имеют тенденцию к росту с учетом вышеперечисленных причин;\n",
    "- установлено, что для каждой платформы есть ряд игр, продажи которых принесли больше медианного значения - <b> бестселлеры, которые могут существенно повлиять на успех игр определенной консоли у покупателей</b>;\n",
    "- медианные значения продаж по платформам лежат в пределах около 0,25 млн.копий и менее;\n",
    "- лидеры по продажам - игры для ps4 и xbox one;\n",
    "- проведен корреляционный анализ между оценками критиков, пользователей и объемами продаж игр во всех регионах, установлено, что существует чаще всего умеренная положительная зависимость между оценками критиков и объемом продаж, а оценки пользователей на продажи игр практически не влияют;\n",
    "- наиболее востребованы у пользователей игры в жанре action, sports, shooter, наименее востребованы стратегии,\n",
    "<b>при этом, среди игр в жанре action больше всего успешных продуктов, что сказывается на высокой сумме продаж игр этого жанра (медианные продажи, при этом, не настолько высоки);\n",
    "- судя по медианным продажам, можно предположить, что ожидаемо стабильно продаются игры в жанрах fighting и platform, хотя их выпущено не очень много; </b>    \n",
    "- проведен анализ поведения пользователей в Серверной Америке, Европе, Японии:\n",
    "  - в целом, по всем пользователям подтверждается тенденция популярности платформ, полученная на предыдущем этапе: пользователи Северной Америки отдают предпочтение платформам производства Microsoft (на этих пользователей приходится больше половины мировоых продаж консолей x360 и xone); европейцы не отдают предпочтений конкретным производителям, покупая игры для Playstation и Xbox разных поколений, а также для обычных ПК (доля продаж игр этой категории составляет 58% от общего объема продаж по всем регионам); японские пользователи выбирают отечественных производителей Nintendo и Playstation, отдавая предпотение портативным консолям (83% мировых продаж игр для psp);\n",
    "  - северо-американские и европейские пользователи схожи в жанровых предпочтениях: зачастую они выбирают игры в жанре Action (40% и 35,7% общемировых продаж соотвественно), а также Sports (45% и 37,3%), Shooter (48% и 36,7%), японские же пользователи выбирают игры в жанре Role-playing (32% от общемировых продаж) и Fighting, который в общемировых предпочтениях располагается практически внизу списка популярности.\n",
    "  - североамериканские и европейские пользователи часто покупают игры для детей (с рейтингом E, E10+); однако европейские пользователи отдают предпочтение играм рейтинга 18+ (в Севереной Америке преобладает детский контент), для японских пользователей зависимость между рейтингами западной ассоциации ESRB и продажами игр не установлена (вероятно, в Японии существует свой внутренний рейтинг оценки, кроме того, многие игры выпускаются только на японском языке и не попадают на мировой рынок).\n",
    "- при помощи статистического теста проверена гипотеза о равенстве средних пользовательских рейтингов для платформ Xbox One и PC, которую принять не получилось: средние пользовательские оценки игр двух платформ различны, расчет t-критерия так же говорит об этом;\n",
    "- при помощи статистического теста проверена гипотеза о равенстве средних пользовательских рейтингов для игр в жанрах Action и Sports, которая принимается на уровне значимости alpha = 0.05, средние оценки двух жанров имеют тенденцию к равенству, которое может незначительно искажаться выбросами (успехами отдельных игровых продуктов).\n",
    "\n",
    "Таким образом, в 2017 перспективнее всего закупать для реализации игры в жанрах Action, Sport для платформ PC, PS4, Xbox One, psv, 3ds, с высокими оценками от профессиональных игровых критиков, и рейтингами E10+ и M (если вести речь о европейком рынке сбыра игровой продукции). Для компьютерных игр лучше обратить внимание также на пользовательские рейтинги."
   ]
  }
 ],
 "metadata": {
  "ExecuteTimeLog": [
   {
    "duration": 951,
    "start_time": "2022-02-06T10:04:24.240Z"
   },
   {
    "duration": 47,
    "start_time": "2022-02-06T10:04:37.643Z"
   },
   {
    "duration": 13,
    "start_time": "2022-02-06T10:04:51.898Z"
   },
   {
    "duration": 12,
    "start_time": "2022-02-06T10:05:21.506Z"
   },
   {
    "duration": 25,
    "start_time": "2022-02-06T10:05:28.378Z"
   },
   {
    "duration": 92,
    "start_time": "2022-02-06T10:05:55.714Z"
   },
   {
    "duration": 4,
    "start_time": "2022-02-06T10:07:27.594Z"
   },
   {
    "duration": 4,
    "start_time": "2022-02-06T10:07:32.033Z"
   },
   {
    "duration": 95,
    "start_time": "2022-02-06T10:07:37.297Z"
   },
   {
    "duration": 9,
    "start_time": "2022-02-06T10:07:47.818Z"
   },
   {
    "duration": 4,
    "start_time": "2022-02-06T10:07:58.066Z"
   },
   {
    "duration": 22,
    "start_time": "2022-02-06T10:08:04.297Z"
   },
   {
    "duration": 5,
    "start_time": "2022-02-06T10:08:13.097Z"
   },
   {
    "duration": 9,
    "start_time": "2022-02-06T10:08:16.946Z"
   },
   {
    "duration": 8,
    "start_time": "2022-02-06T10:08:32.466Z"
   },
   {
    "duration": 10,
    "start_time": "2022-02-06T10:08:57.593Z"
   },
   {
    "duration": 7,
    "start_time": "2022-02-06T10:09:04.601Z"
   },
   {
    "duration": 98,
    "start_time": "2022-02-06T10:09:16.713Z"
   },
   {
    "duration": 5,
    "start_time": "2022-02-06T10:09:27.450Z"
   },
   {
    "duration": 8,
    "start_time": "2022-02-06T10:09:31.433Z"
   },
   {
    "duration": 7,
    "start_time": "2022-02-06T10:09:48.513Z"
   },
   {
    "duration": 13,
    "start_time": "2022-02-06T10:09:52.977Z"
   },
   {
    "duration": 89,
    "start_time": "2022-02-06T10:10:14.786Z"
   },
   {
    "duration": 10,
    "start_time": "2022-02-06T10:10:27.186Z"
   },
   {
    "duration": 10,
    "start_time": "2022-02-06T10:10:42.466Z"
   },
   {
    "duration": 9,
    "start_time": "2022-02-06T10:10:52.673Z"
   },
   {
    "duration": 9,
    "start_time": "2022-02-06T10:11:22.777Z"
   },
   {
    "duration": 5,
    "start_time": "2022-02-06T10:11:37.889Z"
   },
   {
    "duration": 4,
    "start_time": "2022-02-06T10:12:05.466Z"
   },
   {
    "duration": 12,
    "start_time": "2022-02-06T10:12:27.000Z"
   },
   {
    "duration": 11,
    "start_time": "2022-02-06T10:12:33.402Z"
   },
   {
    "duration": 42,
    "start_time": "2022-02-06T10:12:41.984Z"
   },
   {
    "duration": 7430,
    "start_time": "2022-02-06T10:12:58.321Z"
   },
   {
    "duration": 6791,
    "start_time": "2022-02-06T10:13:23.977Z"
   },
   {
    "duration": 3,
    "start_time": "2022-02-06T10:13:50.022Z"
   },
   {
    "duration": 46,
    "start_time": "2022-02-06T10:13:50.027Z"
   },
   {
    "duration": 9,
    "start_time": "2022-02-06T10:13:50.075Z"
   },
   {
    "duration": 11,
    "start_time": "2022-02-06T10:13:50.086Z"
   },
   {
    "duration": 37,
    "start_time": "2022-02-06T10:13:50.099Z"
   },
   {
    "duration": 3,
    "start_time": "2022-02-06T10:13:50.137Z"
   },
   {
    "duration": 7,
    "start_time": "2022-02-06T10:13:50.142Z"
   },
   {
    "duration": 7,
    "start_time": "2022-02-06T10:13:50.152Z"
   },
   {
    "duration": 3,
    "start_time": "2022-02-06T10:13:50.161Z"
   },
   {
    "duration": 25,
    "start_time": "2022-02-06T10:13:50.166Z"
   },
   {
    "duration": 3,
    "start_time": "2022-02-06T10:13:50.193Z"
   },
   {
    "duration": 34,
    "start_time": "2022-02-06T10:13:50.197Z"
   },
   {
    "duration": 8,
    "start_time": "2022-02-06T10:13:50.232Z"
   },
   {
    "duration": 8,
    "start_time": "2022-02-06T10:13:50.241Z"
   },
   {
    "duration": 5,
    "start_time": "2022-02-06T10:13:50.250Z"
   },
   {
    "duration": 10,
    "start_time": "2022-02-06T10:13:50.257Z"
   },
   {
    "duration": 9,
    "start_time": "2022-02-06T10:13:50.268Z"
   },
   {
    "duration": 5,
    "start_time": "2022-02-06T10:13:50.279Z"
   },
   {
    "duration": 318,
    "start_time": "2022-02-06T10:13:50.285Z"
   },
   {
    "duration": -4251,
    "start_time": "2022-02-06T10:13:54.856Z"
   },
   {
    "duration": -4251,
    "start_time": "2022-02-06T10:13:54.857Z"
   },
   {
    "duration": -4251,
    "start_time": "2022-02-06T10:13:54.858Z"
   },
   {
    "duration": -4294,
    "start_time": "2022-02-06T10:13:54.902Z"
   },
   {
    "duration": -4295,
    "start_time": "2022-02-06T10:13:54.904Z"
   },
   {
    "duration": -4295,
    "start_time": "2022-02-06T10:13:54.905Z"
   },
   {
    "duration": 100,
    "start_time": "2022-02-06T10:14:28.080Z"
   },
   {
    "duration": 12,
    "start_time": "2022-02-06T10:14:39.113Z"
   },
   {
    "duration": 10,
    "start_time": "2022-02-06T10:14:45.024Z"
   },
   {
    "duration": 9,
    "start_time": "2022-02-06T10:14:45.408Z"
   },
   {
    "duration": 9,
    "start_time": "2022-02-06T10:14:45.752Z"
   },
   {
    "duration": 5,
    "start_time": "2022-02-06T10:14:47.152Z"
   },
   {
    "duration": 5,
    "start_time": "2022-02-06T10:14:47.959Z"
   },
   {
    "duration": 15,
    "start_time": "2022-02-06T10:14:49.776Z"
   },
   {
    "duration": 14,
    "start_time": "2022-02-06T10:15:03.752Z"
   },
   {
    "duration": 1199,
    "start_time": "2022-02-06T10:15:56.184Z"
   },
   {
    "duration": 219,
    "start_time": "2022-02-06T10:16:40.377Z"
   },
   {
    "duration": 196,
    "start_time": "2022-02-06T10:16:47.752Z"
   },
   {
    "duration": 29,
    "start_time": "2022-02-06T10:16:57.504Z"
   },
   {
    "duration": 2,
    "start_time": "2022-02-06T10:17:27.728Z"
   },
   {
    "duration": 16,
    "start_time": "2022-02-06T10:17:32.192Z"
   },
   {
    "duration": 20,
    "start_time": "2022-02-06T10:17:39.832Z"
   },
   {
    "duration": 1161,
    "start_time": "2022-02-06T10:18:13.784Z"
   },
   {
    "duration": 763,
    "start_time": "2022-02-06T10:18:43.417Z"
   },
   {
    "duration": 20,
    "start_time": "2022-02-06T10:18:54.551Z"
   },
   {
    "duration": 8,
    "start_time": "2022-02-06T10:19:09.551Z"
   },
   {
    "duration": 293,
    "start_time": "2022-02-06T10:19:14.007Z"
   },
   {
    "duration": 23,
    "start_time": "2022-02-06T10:19:30.656Z"
   },
   {
    "duration": 3270,
    "start_time": "2022-02-06T10:20:01.432Z"
   },
   {
    "duration": 326,
    "start_time": "2022-02-06T10:22:09.192Z"
   },
   {
    "duration": 88,
    "start_time": "2022-02-06T10:22:18.015Z"
   },
   {
    "duration": 20,
    "start_time": "2022-02-06T10:22:33.158Z"
   },
   {
    "duration": 20,
    "start_time": "2022-02-06T10:22:42.632Z"
   },
   {
    "duration": 15,
    "start_time": "2022-02-06T10:22:51.943Z"
   },
   {
    "duration": 25,
    "start_time": "2022-02-06T10:23:27.959Z"
   },
   {
    "duration": 29,
    "start_time": "2022-02-06T10:23:42.223Z"
   },
   {
    "duration": 358,
    "start_time": "2022-02-06T10:24:00.646Z"
   },
   {
    "duration": 300,
    "start_time": "2022-02-06T10:24:38.583Z"
   },
   {
    "duration": 303,
    "start_time": "2022-02-06T10:24:54.071Z"
   },
   {
    "duration": 28,
    "start_time": "2022-02-06T10:25:13.311Z"
   },
   {
    "duration": 5,
    "start_time": "2022-02-06T10:25:41.863Z"
   },
   {
    "duration": 7,
    "start_time": "2022-02-06T10:25:54.254Z"
   },
   {
    "duration": 5,
    "start_time": "2022-02-06T10:25:58.766Z"
   },
   {
    "duration": 5,
    "start_time": "2022-02-06T10:26:22.958Z"
   },
   {
    "duration": 613,
    "start_time": "2022-02-06T10:26:27.783Z"
   },
   {
    "duration": 5,
    "start_time": "2022-02-06T10:26:36.463Z"
   },
   {
    "duration": 3,
    "start_time": "2022-02-06T10:26:42.719Z"
   },
   {
    "duration": 97,
    "start_time": "2022-02-06T10:26:48.502Z"
   },
   {
    "duration": 7,
    "start_time": "2022-02-06T10:27:15.807Z"
   },
   {
    "duration": 5,
    "start_time": "2022-02-06T10:27:30.910Z"
   },
   {
    "duration": 6,
    "start_time": "2022-02-06T10:27:45.759Z"
   },
   {
    "duration": 5,
    "start_time": "2022-02-06T10:27:50.247Z"
   },
   {
    "duration": 445,
    "start_time": "2022-02-06T10:28:00.293Z"
   },
   {
    "duration": 10,
    "start_time": "2022-02-06T10:28:39.038Z"
   },
   {
    "duration": 4,
    "start_time": "2022-02-06T10:28:43.702Z"
   },
   {
    "duration": 4,
    "start_time": "2022-02-06T10:28:57.302Z"
   },
   {
    "duration": 8,
    "start_time": "2022-02-06T10:29:31.239Z"
   },
   {
    "duration": 5,
    "start_time": "2022-02-06T10:29:39.662Z"
   },
   {
    "duration": 7,
    "start_time": "2022-02-06T10:29:51.967Z"
   },
   {
    "duration": 3,
    "start_time": "2022-02-06T10:29:58.134Z"
   },
   {
    "duration": 469,
    "start_time": "2022-02-06T10:30:01.718Z"
   },
   {
    "duration": 4,
    "start_time": "2022-02-06T10:30:07.926Z"
   },
   {
    "duration": 5,
    "start_time": "2022-02-06T10:30:12.951Z"
   },
   {
    "duration": 8,
    "start_time": "2022-02-06T10:32:34.502Z"
   },
   {
    "duration": 4,
    "start_time": "2022-02-06T10:32:47.886Z"
   },
   {
    "duration": 7,
    "start_time": "2022-02-06T10:33:02.141Z"
   },
   {
    "duration": 3,
    "start_time": "2022-02-06T10:33:09.382Z"
   },
   {
    "duration": 415,
    "start_time": "2022-02-06T10:33:14.694Z"
   },
   {
    "duration": 4,
    "start_time": "2022-02-06T10:33:22.528Z"
   },
   {
    "duration": 4,
    "start_time": "2022-02-06T10:33:26.735Z"
   },
   {
    "duration": 11,
    "start_time": "2022-02-06T10:40:59.148Z"
   },
   {
    "duration": 5,
    "start_time": "2022-02-06T10:41:17.172Z"
   },
   {
    "duration": 6,
    "start_time": "2022-02-06T10:41:38.460Z"
   },
   {
    "duration": 3,
    "start_time": "2022-02-06T10:43:19.819Z"
   },
   {
    "duration": 442,
    "start_time": "2022-02-06T10:43:25.891Z"
   },
   {
    "duration": 4,
    "start_time": "2022-02-06T10:43:32.187Z"
   },
   {
    "duration": 4,
    "start_time": "2022-02-06T10:43:38.131Z"
   },
   {
    "duration": 88,
    "start_time": "2022-02-06T10:43:44.627Z"
   },
   {
    "duration": 14,
    "start_time": "2022-02-06T10:49:08.035Z"
   },
   {
    "duration": 14,
    "start_time": "2022-02-06T10:49:45.156Z"
   },
   {
    "duration": 30,
    "start_time": "2022-02-06T10:52:10.321Z"
   },
   {
    "duration": 6,
    "start_time": "2022-02-06T10:52:39.378Z"
   },
   {
    "duration": 17,
    "start_time": "2022-02-06T10:52:47.081Z"
   },
   {
    "duration": 19,
    "start_time": "2022-02-06T10:52:59.585Z"
   },
   {
    "duration": 171,
    "start_time": "2022-02-06T10:53:15.002Z"
   },
   {
    "duration": 178,
    "start_time": "2022-02-06T10:53:46.234Z"
   },
   {
    "duration": 180,
    "start_time": "2022-02-06T10:53:54.418Z"
   },
   {
    "duration": 96,
    "start_time": "2022-02-06T10:54:11.481Z"
   },
   {
    "duration": 6,
    "start_time": "2022-02-06T10:54:17.593Z"
   },
   {
    "duration": 17,
    "start_time": "2022-02-06T10:54:27.249Z"
   },
   {
    "duration": 17,
    "start_time": "2022-02-06T10:54:40.545Z"
   },
   {
    "duration": 18,
    "start_time": "2022-02-06T10:55:01.455Z"
   },
   {
    "duration": 270,
    "start_time": "2022-02-06T10:55:04.177Z"
   },
   {
    "duration": 16,
    "start_time": "2022-02-06T10:55:17.930Z"
   },
   {
    "duration": 17,
    "start_time": "2022-02-06T10:55:32.517Z"
   },
   {
    "duration": 16,
    "start_time": "2022-02-06T10:55:40.153Z"
   },
   {
    "duration": 18,
    "start_time": "2022-02-06T10:56:01.426Z"
   },
   {
    "duration": 18,
    "start_time": "2022-02-06T10:56:06.545Z"
   },
   {
    "duration": 21,
    "start_time": "2022-02-06T10:56:13.024Z"
   },
   {
    "duration": 204,
    "start_time": "2022-02-06T10:56:18.776Z"
   },
   {
    "duration": 7,
    "start_time": "2022-02-06T10:58:00.457Z"
   },
   {
    "duration": 17,
    "start_time": "2022-02-06T10:58:05.168Z"
   },
   {
    "duration": 80,
    "start_time": "2022-02-06T10:59:02.496Z"
   },
   {
    "duration": 189,
    "start_time": "2022-02-06T10:59:16.728Z"
   },
   {
    "duration": 27,
    "start_time": "2022-02-06T10:59:59.176Z"
   },
   {
    "duration": 29,
    "start_time": "2022-02-06T11:01:50.862Z"
   },
   {
    "duration": 8,
    "start_time": "2022-02-06T11:02:09.104Z"
   },
   {
    "duration": 18,
    "start_time": "2022-02-06T11:02:34.767Z"
   },
   {
    "duration": 4,
    "start_time": "2022-02-06T11:03:02.424Z"
   },
   {
    "duration": 7,
    "start_time": "2022-02-06T11:03:09.095Z"
   },
   {
    "duration": 8,
    "start_time": "2022-02-06T11:03:30.711Z"
   },
   {
    "duration": 8,
    "start_time": "2022-02-06T11:03:34.463Z"
   },
   {
    "duration": 9,
    "start_time": "2022-02-06T11:04:02.559Z"
   },
   {
    "duration": 20,
    "start_time": "2022-02-06T11:04:07.119Z"
   },
   {
    "duration": 4,
    "start_time": "2022-02-06T11:05:47.839Z"
   },
   {
    "duration": 8,
    "start_time": "2022-02-06T11:05:54.414Z"
   },
   {
    "duration": 9,
    "start_time": "2022-02-06T11:06:24.892Z"
   },
   {
    "duration": 9,
    "start_time": "2022-02-06T11:08:38.632Z"
   },
   {
    "duration": 21,
    "start_time": "2022-02-06T11:08:48.863Z"
   },
   {
    "duration": 23,
    "start_time": "2022-02-06T11:08:54.359Z"
   },
   {
    "duration": 1322,
    "start_time": "2022-02-12T19:08:24.590Z"
   },
   {
    "duration": 64,
    "start_time": "2022-02-12T19:08:25.915Z"
   },
   {
    "duration": 14,
    "start_time": "2022-02-12T19:08:25.982Z"
   },
   {
    "duration": 18,
    "start_time": "2022-02-12T19:08:25.999Z"
   },
   {
    "duration": 75,
    "start_time": "2022-02-12T19:08:26.019Z"
   },
   {
    "duration": 7,
    "start_time": "2022-02-12T19:08:26.097Z"
   },
   {
    "duration": 6,
    "start_time": "2022-02-12T19:08:26.106Z"
   },
   {
    "duration": 48,
    "start_time": "2022-02-12T19:08:26.118Z"
   },
   {
    "duration": 5,
    "start_time": "2022-02-12T19:08:26.169Z"
   },
   {
    "duration": 30,
    "start_time": "2022-02-12T19:08:26.176Z"
   },
   {
    "duration": 6,
    "start_time": "2022-02-12T19:08:26.208Z"
   },
   {
    "duration": 55,
    "start_time": "2022-02-12T19:08:26.217Z"
   },
   {
    "duration": 14,
    "start_time": "2022-02-12T19:08:26.275Z"
   },
   {
    "duration": 16,
    "start_time": "2022-02-12T19:08:26.292Z"
   },
   {
    "duration": 9,
    "start_time": "2022-02-12T19:08:26.310Z"
   },
   {
    "duration": 6,
    "start_time": "2022-02-12T19:08:26.360Z"
   },
   {
    "duration": 25,
    "start_time": "2022-02-12T19:08:26.368Z"
   },
   {
    "duration": 8,
    "start_time": "2022-02-12T19:08:26.396Z"
   },
   {
    "duration": 20,
    "start_time": "2022-02-12T19:08:26.406Z"
   },
   {
    "duration": 46,
    "start_time": "2022-02-12T19:08:26.429Z"
   },
   {
    "duration": 17,
    "start_time": "2022-02-12T19:08:26.477Z"
   },
   {
    "duration": 16,
    "start_time": "2022-02-12T19:08:26.496Z"
   },
   {
    "duration": 7,
    "start_time": "2022-02-12T19:08:26.561Z"
   },
   {
    "duration": 7,
    "start_time": "2022-02-12T19:08:26.574Z"
   },
   {
    "duration": 20,
    "start_time": "2022-02-12T19:08:26.584Z"
   },
   {
    "duration": 65,
    "start_time": "2022-02-12T19:08:26.607Z"
   },
   {
    "duration": 1223,
    "start_time": "2022-02-12T19:08:26.675Z"
   },
   {
    "duration": 429,
    "start_time": "2022-02-12T19:08:27.901Z"
   },
   {
    "duration": 52,
    "start_time": "2022-02-12T19:08:28.333Z"
   },
   {
    "duration": 3,
    "start_time": "2022-02-12T19:08:28.387Z"
   },
   {
    "duration": 27,
    "start_time": "2022-02-12T19:08:28.393Z"
   },
   {
    "duration": 57,
    "start_time": "2022-02-12T19:08:28.422Z"
   },
   {
    "duration": 9,
    "start_time": "2022-02-12T19:08:28.481Z"
   },
   {
    "duration": 542,
    "start_time": "2022-02-12T19:08:28.492Z"
   },
   {
    "duration": 49,
    "start_time": "2022-02-12T19:08:29.037Z"
   },
   {
    "duration": 573,
    "start_time": "2022-02-12T19:08:29.089Z"
   },
   {
    "duration": 48,
    "start_time": "2022-02-12T19:08:29.665Z"
   },
   {
    "duration": 7,
    "start_time": "2022-02-12T19:08:29.715Z"
   },
   {
    "duration": 40,
    "start_time": "2022-02-12T19:08:29.724Z"
   },
   {
    "duration": 8,
    "start_time": "2022-02-12T19:08:29.766Z"
   },
   {
    "duration": 8,
    "start_time": "2022-02-12T19:08:29.776Z"
   },
   {
    "duration": 835,
    "start_time": "2022-02-12T19:08:29.787Z"
   },
   {
    "duration": 6,
    "start_time": "2022-02-12T19:08:30.624Z"
   },
   {
    "duration": 27,
    "start_time": "2022-02-12T19:08:30.632Z"
   },
   {
    "duration": 24,
    "start_time": "2022-02-12T19:08:30.661Z"
   },
   {
    "duration": 12,
    "start_time": "2022-02-12T19:08:30.688Z"
   },
   {
    "duration": 14,
    "start_time": "2022-02-12T19:08:30.702Z"
   },
   {
    "duration": 17,
    "start_time": "2022-02-12T19:08:30.718Z"
   },
   {
    "duration": 728,
    "start_time": "2022-02-12T19:08:30.737Z"
   },
   {
    "duration": 6,
    "start_time": "2022-02-12T19:08:31.467Z"
   },
   {
    "duration": 5,
    "start_time": "2022-02-12T19:08:31.475Z"
   },
   {
    "duration": 11,
    "start_time": "2022-02-12T19:08:31.483Z"
   },
   {
    "duration": 9,
    "start_time": "2022-02-12T19:08:31.496Z"
   },
   {
    "duration": 57,
    "start_time": "2022-02-12T19:08:31.508Z"
   },
   {
    "duration": 6,
    "start_time": "2022-02-12T19:08:31.568Z"
   },
   {
    "duration": 903,
    "start_time": "2022-02-12T19:08:31.576Z"
   },
   {
    "duration": 6,
    "start_time": "2022-02-12T19:08:32.481Z"
   },
   {
    "duration": 8,
    "start_time": "2022-02-12T19:08:32.489Z"
   },
   {
    "duration": 24,
    "start_time": "2022-02-12T19:08:32.500Z"
   },
   {
    "duration": 7,
    "start_time": "2022-02-12T19:08:32.526Z"
   },
   {
    "duration": 10,
    "start_time": "2022-02-12T19:08:32.560Z"
   },
   {
    "duration": 7,
    "start_time": "2022-02-12T19:08:32.573Z"
   },
   {
    "duration": 711,
    "start_time": "2022-02-12T19:08:32.583Z"
   },
   {
    "duration": 7,
    "start_time": "2022-02-12T19:08:33.297Z"
   },
   {
    "duration": 6,
    "start_time": "2022-02-12T19:08:33.307Z"
   },
   {
    "duration": 51,
    "start_time": "2022-02-12T19:08:33.316Z"
   },
   {
    "duration": 7,
    "start_time": "2022-02-12T19:08:33.371Z"
   },
   {
    "duration": 10,
    "start_time": "2022-02-12T19:08:33.388Z"
   },
   {
    "duration": 6,
    "start_time": "2022-02-12T19:08:33.401Z"
   },
   {
    "duration": 764,
    "start_time": "2022-02-12T19:08:33.409Z"
   },
   {
    "duration": 7,
    "start_time": "2022-02-12T19:08:34.177Z"
   },
   {
    "duration": 10,
    "start_time": "2022-02-12T19:08:34.187Z"
   },
   {
    "duration": 26,
    "start_time": "2022-02-12T19:08:34.200Z"
   },
   {
    "duration": 53,
    "start_time": "2022-02-12T19:08:34.259Z"
   },
   {
    "duration": 10,
    "start_time": "2022-02-12T19:08:34.315Z"
   },
   {
    "duration": 57,
    "start_time": "2022-02-12T19:08:34.327Z"
   },
   {
    "duration": 31,
    "start_time": "2022-02-12T19:08:34.386Z"
   },
   {
    "duration": 353,
    "start_time": "2022-02-12T19:08:34.420Z"
   },
   {
    "duration": 9,
    "start_time": "2022-02-12T19:08:34.775Z"
   },
   {
    "duration": 28,
    "start_time": "2022-02-12T19:08:34.787Z"
   },
   {
    "duration": 61,
    "start_time": "2022-02-12T19:08:34.818Z"
   },
   {
    "duration": 386,
    "start_time": "2022-02-12T19:08:34.881Z"
   },
   {
    "duration": 11,
    "start_time": "2022-02-12T19:08:35.270Z"
   },
   {
    "duration": 31,
    "start_time": "2022-02-12T19:08:35.283Z"
   },
   {
    "duration": 65,
    "start_time": "2022-02-12T19:08:35.316Z"
   },
   {
    "duration": 351,
    "start_time": "2022-02-12T19:08:35.383Z"
   },
   {
    "duration": 51,
    "start_time": "2022-02-12T19:08:35.736Z"
   },
   {
    "duration": 10,
    "start_time": "2022-02-12T19:08:35.789Z"
   },
   {
    "duration": 27,
    "start_time": "2022-02-12T19:08:35.801Z"
   },
   {
    "duration": 5,
    "start_time": "2022-02-12T19:08:35.859Z"
   },
   {
    "duration": 10,
    "start_time": "2022-02-12T19:08:35.867Z"
   },
   {
    "duration": 13,
    "start_time": "2022-02-12T19:08:35.880Z"
   },
   {
    "duration": 15,
    "start_time": "2022-02-12T19:08:35.896Z"
   },
   {
    "duration": 71,
    "start_time": "2022-02-12T19:08:35.913Z"
   },
   {
    "duration": 7,
    "start_time": "2022-02-12T19:08:35.986Z"
   },
   {
    "duration": 14,
    "start_time": "2022-02-12T19:08:35.996Z"
   },
   {
    "duration": 52,
    "start_time": "2022-02-12T19:08:36.012Z"
   },
   {
    "duration": 28,
    "start_time": "2022-02-12T19:21:40.091Z"
   },
   {
    "duration": 1191,
    "start_time": "2022-02-13T19:15:42.922Z"
   },
   {
    "duration": 52,
    "start_time": "2022-02-13T19:15:44.115Z"
   },
   {
    "duration": 11,
    "start_time": "2022-02-13T19:15:44.169Z"
   },
   {
    "duration": 18,
    "start_time": "2022-02-13T19:15:44.198Z"
   },
   {
    "duration": 47,
    "start_time": "2022-02-13T19:15:44.219Z"
   },
   {
    "duration": 30,
    "start_time": "2022-02-13T19:15:44.268Z"
   },
   {
    "duration": 5,
    "start_time": "2022-02-13T19:15:44.300Z"
   },
   {
    "duration": 8,
    "start_time": "2022-02-13T19:15:44.308Z"
   },
   {
    "duration": 3,
    "start_time": "2022-02-13T19:15:44.319Z"
   },
   {
    "duration": 23,
    "start_time": "2022-02-13T19:15:44.324Z"
   },
   {
    "duration": 5,
    "start_time": "2022-02-13T19:15:44.349Z"
   },
   {
    "duration": 55,
    "start_time": "2022-02-13T19:15:44.355Z"
   },
   {
    "duration": 18,
    "start_time": "2022-02-13T19:15:44.412Z"
   },
   {
    "duration": 16,
    "start_time": "2022-02-13T19:15:44.433Z"
   },
   {
    "duration": 7,
    "start_time": "2022-02-13T19:15:44.451Z"
   },
   {
    "duration": 43,
    "start_time": "2022-02-13T19:15:44.460Z"
   },
   {
    "duration": 16,
    "start_time": "2022-02-13T19:15:44.505Z"
   },
   {
    "duration": 9,
    "start_time": "2022-02-13T19:15:44.523Z"
   },
   {
    "duration": 14,
    "start_time": "2022-02-13T19:15:44.534Z"
   },
   {
    "duration": 49,
    "start_time": "2022-02-13T19:15:44.550Z"
   },
   {
    "duration": 10,
    "start_time": "2022-02-13T19:15:44.601Z"
   },
   {
    "duration": 15,
    "start_time": "2022-02-13T19:15:44.613Z"
   },
   {
    "duration": 5,
    "start_time": "2022-02-13T19:15:44.632Z"
   },
   {
    "duration": 5,
    "start_time": "2022-02-13T19:15:44.640Z"
   },
   {
    "duration": 55,
    "start_time": "2022-02-13T19:15:44.647Z"
   },
   {
    "duration": 19,
    "start_time": "2022-02-13T19:15:44.704Z"
   },
   {
    "duration": 346,
    "start_time": "2022-02-13T19:15:44.725Z"
   },
   {
    "duration": 315,
    "start_time": "2022-02-13T19:15:45.073Z"
   },
   {
    "duration": 30,
    "start_time": "2022-02-13T19:15:45.389Z"
   },
   {
    "duration": 3,
    "start_time": "2022-02-13T19:15:45.420Z"
   },
   {
    "duration": 21,
    "start_time": "2022-02-13T19:15:45.424Z"
   },
   {
    "duration": 63,
    "start_time": "2022-02-13T19:15:45.447Z"
   },
   {
    "duration": 9,
    "start_time": "2022-02-13T19:15:45.511Z"
   },
   {
    "duration": 406,
    "start_time": "2022-02-13T19:15:45.522Z"
   },
   {
    "duration": 31,
    "start_time": "2022-02-13T19:15:45.930Z"
   },
   {
    "duration": 422,
    "start_time": "2022-02-13T19:15:45.964Z"
   },
   {
    "duration": 45,
    "start_time": "2022-02-13T19:15:46.389Z"
   },
   {
    "duration": 5,
    "start_time": "2022-02-13T19:15:46.436Z"
   },
   {
    "duration": 13,
    "start_time": "2022-02-13T19:15:46.443Z"
   },
   {
    "duration": 13,
    "start_time": "2022-02-13T19:15:46.458Z"
   },
   {
    "duration": 29,
    "start_time": "2022-02-13T19:15:46.473Z"
   },
   {
    "duration": 621,
    "start_time": "2022-02-13T19:15:46.504Z"
   },
   {
    "duration": 4,
    "start_time": "2022-02-13T19:15:47.127Z"
   },
   {
    "duration": 11,
    "start_time": "2022-02-13T19:15:47.133Z"
   },
   {
    "duration": 11,
    "start_time": "2022-02-13T19:15:47.146Z"
   },
   {
    "duration": 5,
    "start_time": "2022-02-13T19:15:47.159Z"
   },
   {
    "duration": 36,
    "start_time": "2022-02-13T19:15:47.166Z"
   },
   {
    "duration": 8,
    "start_time": "2022-02-13T19:15:47.204Z"
   },
   {
    "duration": 546,
    "start_time": "2022-02-13T19:15:47.214Z"
   },
   {
    "duration": 4,
    "start_time": "2022-02-13T19:15:47.762Z"
   },
   {
    "duration": 30,
    "start_time": "2022-02-13T19:15:47.769Z"
   },
   {
    "duration": 15,
    "start_time": "2022-02-13T19:15:47.801Z"
   },
   {
    "duration": 5,
    "start_time": "2022-02-13T19:15:47.819Z"
   },
   {
    "duration": 13,
    "start_time": "2022-02-13T19:15:47.825Z"
   },
   {
    "duration": 7,
    "start_time": "2022-02-13T19:15:47.839Z"
   },
   {
    "duration": 723,
    "start_time": "2022-02-13T19:15:47.848Z"
   },
   {
    "duration": 5,
    "start_time": "2022-02-13T19:15:48.574Z"
   },
   {
    "duration": 23,
    "start_time": "2022-02-13T19:15:48.581Z"
   },
   {
    "duration": 15,
    "start_time": "2022-02-13T19:15:48.607Z"
   },
   {
    "duration": 6,
    "start_time": "2022-02-13T19:15:48.625Z"
   },
   {
    "duration": 12,
    "start_time": "2022-02-13T19:15:48.633Z"
   },
   {
    "duration": 7,
    "start_time": "2022-02-13T19:15:48.647Z"
   },
   {
    "duration": 612,
    "start_time": "2022-02-13T19:15:48.656Z"
   },
   {
    "duration": 5,
    "start_time": "2022-02-13T19:15:49.269Z"
   },
   {
    "duration": 23,
    "start_time": "2022-02-13T19:15:49.275Z"
   },
   {
    "duration": 21,
    "start_time": "2022-02-13T19:15:49.301Z"
   },
   {
    "duration": 7,
    "start_time": "2022-02-13T19:15:49.324Z"
   },
   {
    "duration": 7,
    "start_time": "2022-02-13T19:15:49.339Z"
   },
   {
    "duration": 4,
    "start_time": "2022-02-13T19:15:49.350Z"
   },
   {
    "duration": 583,
    "start_time": "2022-02-13T19:15:49.357Z"
   },
   {
    "duration": 5,
    "start_time": "2022-02-13T19:15:49.942Z"
   },
   {
    "duration": 7,
    "start_time": "2022-02-13T19:15:49.949Z"
   },
   {
    "duration": 41,
    "start_time": "2022-02-13T19:15:49.958Z"
   },
   {
    "duration": 35,
    "start_time": "2022-02-13T19:15:50.001Z"
   },
   {
    "duration": 7,
    "start_time": "2022-02-13T19:15:50.037Z"
   },
   {
    "duration": 28,
    "start_time": "2022-02-13T19:15:50.046Z"
   },
   {
    "duration": 41,
    "start_time": "2022-02-13T19:15:50.075Z"
   },
   {
    "duration": 246,
    "start_time": "2022-02-13T19:15:50.118Z"
   },
   {
    "duration": 7,
    "start_time": "2022-02-13T19:15:50.366Z"
   },
   {
    "duration": 39,
    "start_time": "2022-02-13T19:15:50.374Z"
   },
   {
    "duration": 22,
    "start_time": "2022-02-13T19:15:50.416Z"
   },
   {
    "duration": 278,
    "start_time": "2022-02-13T19:15:50.441Z"
   },
   {
    "duration": 9,
    "start_time": "2022-02-13T19:15:50.721Z"
   },
   {
    "duration": 22,
    "start_time": "2022-02-13T19:15:50.732Z"
   },
   {
    "duration": 55,
    "start_time": "2022-02-13T19:15:50.756Z"
   },
   {
    "duration": 261,
    "start_time": "2022-02-13T19:15:50.813Z"
   },
   {
    "duration": 42,
    "start_time": "2022-02-13T19:15:51.076Z"
   },
   {
    "duration": 9,
    "start_time": "2022-02-13T19:15:51.120Z"
   },
   {
    "duration": 22,
    "start_time": "2022-02-13T19:15:51.131Z"
   },
   {
    "duration": 6,
    "start_time": "2022-02-13T19:15:51.155Z"
   },
   {
    "duration": 9,
    "start_time": "2022-02-13T19:15:51.199Z"
   },
   {
    "duration": 14,
    "start_time": "2022-02-13T19:15:51.210Z"
   },
   {
    "duration": 13,
    "start_time": "2022-02-13T19:15:51.226Z"
   },
   {
    "duration": 24,
    "start_time": "2022-02-13T19:15:51.241Z"
   },
   {
    "duration": 35,
    "start_time": "2022-02-13T19:15:51.266Z"
   },
   {
    "duration": 16,
    "start_time": "2022-02-13T19:15:51.302Z"
   },
   {
    "duration": 12,
    "start_time": "2022-02-13T19:15:51.320Z"
   },
   {
    "duration": 27,
    "start_time": "2022-02-13T19:16:46.525Z"
   },
   {
    "duration": 9,
    "start_time": "2022-02-13T19:20:08.890Z"
   },
   {
    "duration": 19,
    "start_time": "2022-02-13T19:20:12.661Z"
   },
   {
    "duration": 5,
    "start_time": "2022-02-13T19:20:16.265Z"
   },
   {
    "duration": 9,
    "start_time": "2022-02-13T19:20:25.139Z"
   },
   {
    "duration": 20,
    "start_time": "2022-02-13T19:20:27.805Z"
   },
   {
    "duration": 374,
    "start_time": "2022-02-13T19:20:53.691Z"
   },
   {
    "duration": 38,
    "start_time": "2022-02-13T19:21:01.328Z"
   },
   {
    "duration": 172,
    "start_time": "2022-02-15T19:07:46.065Z"
   },
   {
    "duration": 953,
    "start_time": "2022-02-15T19:07:53.021Z"
   },
   {
    "duration": 43,
    "start_time": "2022-02-15T19:07:53.975Z"
   },
   {
    "duration": 10,
    "start_time": "2022-02-15T19:07:54.020Z"
   },
   {
    "duration": 11,
    "start_time": "2022-02-15T19:07:54.031Z"
   },
   {
    "duration": 26,
    "start_time": "2022-02-15T19:07:54.059Z"
   },
   {
    "duration": 3,
    "start_time": "2022-02-15T19:07:54.086Z"
   },
   {
    "duration": 5,
    "start_time": "2022-02-15T19:07:54.091Z"
   },
   {
    "duration": 14,
    "start_time": "2022-02-15T19:07:54.099Z"
   },
   {
    "duration": 3,
    "start_time": "2022-02-15T19:07:54.115Z"
   },
   {
    "duration": 53,
    "start_time": "2022-02-15T19:07:54.120Z"
   },
   {
    "duration": 5,
    "start_time": "2022-02-15T19:07:54.174Z"
   },
   {
    "duration": 13,
    "start_time": "2022-02-15T19:07:54.180Z"
   },
   {
    "duration": 11,
    "start_time": "2022-02-15T19:07:54.194Z"
   },
   {
    "duration": 10,
    "start_time": "2022-02-15T19:07:54.206Z"
   },
   {
    "duration": 7,
    "start_time": "2022-02-15T19:07:54.217Z"
   },
   {
    "duration": 35,
    "start_time": "2022-02-15T19:07:54.225Z"
   },
   {
    "duration": 8,
    "start_time": "2022-02-15T19:07:54.262Z"
   },
   {
    "duration": 7,
    "start_time": "2022-02-15T19:07:54.272Z"
   },
   {
    "duration": 13,
    "start_time": "2022-02-15T19:07:54.280Z"
   },
   {
    "duration": 13,
    "start_time": "2022-02-15T19:07:54.294Z"
   },
   {
    "duration": 52,
    "start_time": "2022-02-15T19:07:54.308Z"
   },
   {
    "duration": 11,
    "start_time": "2022-02-15T19:07:54.362Z"
   },
   {
    "duration": 4,
    "start_time": "2022-02-15T19:07:54.377Z"
   },
   {
    "duration": 6,
    "start_time": "2022-02-15T19:07:54.383Z"
   },
   {
    "duration": 12,
    "start_time": "2022-02-15T19:07:54.391Z"
   },
   {
    "duration": 60,
    "start_time": "2022-02-15T19:07:54.405Z"
   },
   {
    "duration": 263,
    "start_time": "2022-02-15T19:07:54.466Z"
   },
   {
    "duration": 275,
    "start_time": "2022-02-15T19:07:54.731Z"
   },
   {
    "duration": 22,
    "start_time": "2022-02-15T19:07:55.007Z"
   },
   {
    "duration": 4,
    "start_time": "2022-02-15T19:07:55.031Z"
   },
   {
    "duration": 41,
    "start_time": "2022-02-15T19:07:55.036Z"
   },
   {
    "duration": 24,
    "start_time": "2022-02-15T19:07:55.079Z"
   },
   {
    "duration": 10,
    "start_time": "2022-02-15T19:07:55.106Z"
   },
   {
    "duration": 384,
    "start_time": "2022-02-15T19:07:55.117Z"
   },
   {
    "duration": 55,
    "start_time": "2022-02-15T19:07:55.504Z"
   },
   {
    "duration": 24,
    "start_time": "2022-02-15T19:08:45.953Z"
   },
   {
    "duration": 29,
    "start_time": "2022-02-15T19:09:02.716Z"
   },
   {
    "duration": 1059,
    "start_time": "2022-02-15T20:17:51.772Z"
   },
   {
    "duration": 46,
    "start_time": "2022-02-15T20:17:52.833Z"
   },
   {
    "duration": 9,
    "start_time": "2022-02-15T20:17:52.881Z"
   },
   {
    "duration": 14,
    "start_time": "2022-02-15T20:17:52.892Z"
   },
   {
    "duration": 27,
    "start_time": "2022-02-15T20:17:52.908Z"
   },
   {
    "duration": 23,
    "start_time": "2022-02-15T20:17:52.937Z"
   },
   {
    "duration": 5,
    "start_time": "2022-02-15T20:17:52.962Z"
   },
   {
    "duration": 8,
    "start_time": "2022-02-15T20:17:52.970Z"
   },
   {
    "duration": 4,
    "start_time": "2022-02-15T20:17:52.980Z"
   },
   {
    "duration": 25,
    "start_time": "2022-02-15T20:17:52.986Z"
   },
   {
    "duration": 4,
    "start_time": "2022-02-15T20:17:53.013Z"
   },
   {
    "duration": 41,
    "start_time": "2022-02-15T20:17:53.019Z"
   },
   {
    "duration": 9,
    "start_time": "2022-02-15T20:17:53.062Z"
   },
   {
    "duration": 9,
    "start_time": "2022-02-15T20:17:53.073Z"
   },
   {
    "duration": 8,
    "start_time": "2022-02-15T20:17:53.084Z"
   },
   {
    "duration": 13,
    "start_time": "2022-02-15T20:17:53.093Z"
   },
   {
    "duration": 12,
    "start_time": "2022-02-15T20:17:53.108Z"
   },
   {
    "duration": 7,
    "start_time": "2022-02-15T20:17:53.122Z"
   },
   {
    "duration": 40,
    "start_time": "2022-02-15T20:17:53.131Z"
   },
   {
    "duration": 12,
    "start_time": "2022-02-15T20:17:53.173Z"
   },
   {
    "duration": 9,
    "start_time": "2022-02-15T20:17:53.186Z"
   },
   {
    "duration": 11,
    "start_time": "2022-02-15T20:17:53.197Z"
   },
   {
    "duration": 5,
    "start_time": "2022-02-15T20:17:53.211Z"
   },
   {
    "duration": 7,
    "start_time": "2022-02-15T20:17:53.218Z"
   },
   {
    "duration": 42,
    "start_time": "2022-02-15T20:17:53.227Z"
   },
   {
    "duration": 16,
    "start_time": "2022-02-15T20:17:53.270Z"
   },
   {
    "duration": 259,
    "start_time": "2022-02-15T20:17:53.287Z"
   },
   {
    "duration": 257,
    "start_time": "2022-02-15T20:17:53.548Z"
   },
   {
    "duration": 22,
    "start_time": "2022-02-15T20:17:53.806Z"
   },
   {
    "duration": 2,
    "start_time": "2022-02-15T20:17:53.830Z"
   },
   {
    "duration": 36,
    "start_time": "2022-02-15T20:17:53.834Z"
   },
   {
    "duration": 21,
    "start_time": "2022-02-15T20:17:53.871Z"
   },
   {
    "duration": 8,
    "start_time": "2022-02-15T20:17:53.894Z"
   },
   {
    "duration": 357,
    "start_time": "2022-02-15T20:17:53.903Z"
   },
   {
    "duration": 37,
    "start_time": "2022-02-15T20:17:54.262Z"
   },
   {
    "duration": 24,
    "start_time": "2022-02-15T20:17:54.301Z"
   },
   {
    "duration": 352,
    "start_time": "2022-02-15T20:17:54.327Z"
   },
   {
    "duration": 30,
    "start_time": "2022-02-15T20:17:54.681Z"
   },
   {
    "duration": 4,
    "start_time": "2022-02-15T20:17:54.713Z"
   },
   {
    "duration": 18,
    "start_time": "2022-02-15T20:17:54.719Z"
   },
   {
    "duration": 21,
    "start_time": "2022-02-15T20:17:54.739Z"
   },
   {
    "duration": 8,
    "start_time": "2022-02-15T20:17:54.763Z"
   },
   {
    "duration": 569,
    "start_time": "2022-02-15T20:17:54.773Z"
   },
   {
    "duration": 5,
    "start_time": "2022-02-15T20:17:55.345Z"
   },
   {
    "duration": 5,
    "start_time": "2022-02-15T20:17:55.358Z"
   },
   {
    "duration": 12,
    "start_time": "2022-02-15T20:17:55.364Z"
   },
   {
    "duration": 4,
    "start_time": "2022-02-15T20:17:55.378Z"
   },
   {
    "duration": 13,
    "start_time": "2022-02-15T20:17:55.384Z"
   },
   {
    "duration": 9,
    "start_time": "2022-02-15T20:17:55.398Z"
   },
   {
    "duration": 570,
    "start_time": "2022-02-15T20:17:55.409Z"
   },
   {
    "duration": 4,
    "start_time": "2022-02-15T20:17:55.981Z"
   },
   {
    "duration": 9,
    "start_time": "2022-02-15T20:17:55.987Z"
   },
   {
    "duration": 14,
    "start_time": "2022-02-15T20:17:55.998Z"
   },
   {
    "duration": 7,
    "start_time": "2022-02-15T20:17:56.014Z"
   },
   {
    "duration": 13,
    "start_time": "2022-02-15T20:17:56.023Z"
   },
   {
    "duration": 21,
    "start_time": "2022-02-15T20:17:56.038Z"
   },
   {
    "duration": 605,
    "start_time": "2022-02-15T20:17:56.061Z"
   },
   {
    "duration": 4,
    "start_time": "2022-02-15T20:17:56.668Z"
   },
   {
    "duration": 10,
    "start_time": "2022-02-15T20:17:56.673Z"
   },
   {
    "duration": 14,
    "start_time": "2022-02-15T20:17:56.684Z"
   },
   {
    "duration": 5,
    "start_time": "2022-02-15T20:17:56.700Z"
   },
   {
    "duration": 8,
    "start_time": "2022-02-15T20:17:56.707Z"
   },
   {
    "duration": 5,
    "start_time": "2022-02-15T20:17:56.717Z"
   },
   {
    "duration": 499,
    "start_time": "2022-02-15T20:17:56.724Z"
   },
   {
    "duration": 4,
    "start_time": "2022-02-15T20:17:57.224Z"
   },
   {
    "duration": 8,
    "start_time": "2022-02-15T20:17:57.230Z"
   },
   {
    "duration": 25,
    "start_time": "2022-02-15T20:17:57.240Z"
   },
   {
    "duration": 4,
    "start_time": "2022-02-15T20:17:57.270Z"
   },
   {
    "duration": 11,
    "start_time": "2022-02-15T20:17:57.276Z"
   },
   {
    "duration": 9,
    "start_time": "2022-02-15T20:17:57.288Z"
   },
   {
    "duration": 526,
    "start_time": "2022-02-15T20:17:57.299Z"
   },
   {
    "duration": 4,
    "start_time": "2022-02-15T20:17:57.826Z"
   },
   {
    "duration": 6,
    "start_time": "2022-02-15T20:17:57.832Z"
   },
   {
    "duration": 30,
    "start_time": "2022-02-15T20:17:57.840Z"
   },
   {
    "duration": 29,
    "start_time": "2022-02-15T20:17:57.872Z"
   },
   {
    "duration": 6,
    "start_time": "2022-02-15T20:17:57.903Z"
   },
   {
    "duration": 18,
    "start_time": "2022-02-15T20:17:57.910Z"
   },
   {
    "duration": 19,
    "start_time": "2022-02-15T20:17:57.959Z"
   },
   {
    "duration": 209,
    "start_time": "2022-02-15T20:17:57.979Z"
   },
   {
    "duration": 7,
    "start_time": "2022-02-15T20:17:58.190Z"
   },
   {
    "duration": 22,
    "start_time": "2022-02-15T20:17:58.198Z"
   },
   {
    "duration": 40,
    "start_time": "2022-02-15T20:17:58.222Z"
   },
   {
    "duration": 224,
    "start_time": "2022-02-15T20:17:58.263Z"
   },
   {
    "duration": 7,
    "start_time": "2022-02-15T20:17:58.489Z"
   },
   {
    "duration": 18,
    "start_time": "2022-02-15T20:17:58.498Z"
   },
   {
    "duration": 17,
    "start_time": "2022-02-15T20:17:58.517Z"
   },
   {
    "duration": 216,
    "start_time": "2022-02-15T20:17:58.559Z"
   },
   {
    "duration": 26,
    "start_time": "2022-02-15T20:17:58.777Z"
   },
   {
    "duration": 10,
    "start_time": "2022-02-15T20:17:58.805Z"
   },
   {
    "duration": 44,
    "start_time": "2022-02-15T20:17:58.816Z"
   },
   {
    "duration": 6,
    "start_time": "2022-02-15T20:17:58.863Z"
   },
   {
    "duration": 11,
    "start_time": "2022-02-15T20:17:58.870Z"
   },
   {
    "duration": 9,
    "start_time": "2022-02-15T20:17:58.883Z"
   },
   {
    "duration": 11,
    "start_time": "2022-02-15T20:17:58.894Z"
   },
   {
    "duration": 17,
    "start_time": "2022-02-15T20:17:58.907Z"
   },
   {
    "duration": 4,
    "start_time": "2022-02-15T20:17:58.926Z"
   },
   {
    "duration": 8,
    "start_time": "2022-02-15T20:17:58.959Z"
   },
   {
    "duration": 8,
    "start_time": "2022-02-15T20:17:58.969Z"
   },
   {
    "duration": 224,
    "start_time": "2022-02-15T20:20:50.291Z"
   },
   {
    "duration": 27,
    "start_time": "2022-02-15T20:20:58.015Z"
   },
   {
    "duration": 34,
    "start_time": "2022-02-15T20:50:50.812Z"
   },
   {
    "duration": 42,
    "start_time": "2022-02-15T20:51:07.258Z"
   },
   {
    "duration": 166,
    "start_time": "2022-02-15T20:51:18.128Z"
   },
   {
    "duration": 164,
    "start_time": "2022-02-15T20:55:05.931Z"
   },
   {
    "duration": 166,
    "start_time": "2022-02-15T20:55:19.839Z"
   },
   {
    "duration": 182,
    "start_time": "2022-02-15T20:57:14.234Z"
   },
   {
    "duration": 161,
    "start_time": "2022-02-15T20:57:26.036Z"
   },
   {
    "duration": 277,
    "start_time": "2022-02-15T20:58:06.869Z"
   },
   {
    "duration": 36,
    "start_time": "2022-02-15T20:58:27.189Z"
   },
   {
    "duration": 32,
    "start_time": "2022-02-15T20:58:46.100Z"
   },
   {
    "duration": 27,
    "start_time": "2022-02-15T20:59:18.768Z"
   },
   {
    "duration": 35,
    "start_time": "2022-02-15T20:59:27.604Z"
   },
   {
    "duration": 34,
    "start_time": "2022-02-15T20:59:31.930Z"
   },
   {
    "duration": 36,
    "start_time": "2022-02-15T20:59:53.721Z"
   },
   {
    "duration": 163,
    "start_time": "2022-02-15T21:00:03.820Z"
   },
   {
    "duration": 37,
    "start_time": "2022-02-15T21:00:10.772Z"
   },
   {
    "duration": 159,
    "start_time": "2022-02-15T21:00:33.055Z"
   },
   {
    "duration": 30,
    "start_time": "2022-02-15T21:00:41.797Z"
   },
   {
    "duration": 27,
    "start_time": "2022-02-15T21:00:45.872Z"
   },
   {
    "duration": 29,
    "start_time": "2022-02-15T21:00:53.174Z"
   },
   {
    "duration": 31,
    "start_time": "2022-02-15T21:01:00.504Z"
   },
   {
    "duration": 35,
    "start_time": "2022-02-15T21:01:07.059Z"
   },
   {
    "duration": 35,
    "start_time": "2022-02-15T21:03:02.094Z"
   },
   {
    "duration": 37,
    "start_time": "2022-02-15T21:04:28.820Z"
   },
   {
    "duration": 173,
    "start_time": "2022-02-15T21:04:37.800Z"
   },
   {
    "duration": 38,
    "start_time": "2022-02-15T21:04:49.678Z"
   },
   {
    "duration": 162,
    "start_time": "2022-02-15T21:04:59.685Z"
   },
   {
    "duration": 35,
    "start_time": "2022-02-15T21:05:07.872Z"
   },
   {
    "duration": 184,
    "start_time": "2022-02-15T21:05:59.047Z"
   },
   {
    "duration": 33,
    "start_time": "2022-02-15T21:06:47.232Z"
   },
   {
    "duration": 33,
    "start_time": "2022-02-15T21:07:05.832Z"
   },
   {
    "duration": 32,
    "start_time": "2022-02-15T21:07:11.612Z"
   },
   {
    "duration": 46,
    "start_time": "2022-02-15T21:09:16.734Z"
   },
   {
    "duration": 51,
    "start_time": "2022-02-15T21:09:24.719Z"
   },
   {
    "duration": 198,
    "start_time": "2022-02-15T21:09:31.328Z"
   },
   {
    "duration": 33,
    "start_time": "2022-02-15T21:09:46.073Z"
   },
   {
    "duration": 38,
    "start_time": "2022-02-15T21:09:49.982Z"
   },
   {
    "duration": 122,
    "start_time": "2022-02-15T21:10:21.605Z"
   },
   {
    "duration": 176,
    "start_time": "2022-02-15T21:11:55.176Z"
   },
   {
    "duration": 567,
    "start_time": "2022-02-15T21:15:51.431Z"
   },
   {
    "duration": 167,
    "start_time": "2022-02-15T21:16:10.870Z"
   },
   {
    "duration": 550,
    "start_time": "2022-02-15T21:16:20.279Z"
   },
   {
    "duration": 31,
    "start_time": "2022-02-15T21:16:54.952Z"
   },
   {
    "duration": 180,
    "start_time": "2022-02-15T21:16:59.917Z"
   },
   {
    "duration": 37,
    "start_time": "2022-02-15T21:17:16.720Z"
   },
   {
    "duration": 32,
    "start_time": "2022-02-15T21:17:33.567Z"
   },
   {
    "duration": 37,
    "start_time": "2022-02-15T21:17:47.109Z"
   },
   {
    "duration": 103,
    "start_time": "2022-02-15T21:19:10.266Z"
   },
   {
    "duration": 93,
    "start_time": "2022-02-15T21:19:19.315Z"
   },
   {
    "duration": 226,
    "start_time": "2022-02-15T21:21:11.625Z"
   },
   {
    "duration": 176,
    "start_time": "2022-02-15T21:22:13.118Z"
   },
   {
    "duration": 167,
    "start_time": "2022-02-15T21:22:29.817Z"
   },
   {
    "duration": 87,
    "start_time": "2022-02-15T21:22:39.421Z"
   },
   {
    "duration": 90,
    "start_time": "2022-02-15T21:23:01.949Z"
   },
   {
    "duration": 116,
    "start_time": "2022-02-15T21:33:27.086Z"
   },
   {
    "duration": 89,
    "start_time": "2022-02-15T21:34:10.969Z"
   },
   {
    "duration": 45,
    "start_time": "2022-02-15T21:44:37.759Z"
   },
   {
    "duration": 24,
    "start_time": "2022-02-15T21:44:49.658Z"
   }
  ],
  "kernelspec": {
   "display_name": "Python 3 (ipykernel)",
   "language": "python",
   "name": "python3"
  },
  "language_info": {
   "codemirror_mode": {
    "name": "ipython",
    "version": 3
   },
   "file_extension": ".py",
   "mimetype": "text/x-python",
   "name": "python",
   "nbconvert_exporter": "python",
   "pygments_lexer": "ipython3",
   "version": "3.9.7"
  },
  "toc": {
   "base_numbering": 1,
   "nav_menu": {},
   "number_sections": true,
   "sideBar": true,
   "skip_h1_title": true,
   "title_cell": "Table of Contents",
   "title_sidebar": "Contents",
   "toc_cell": false,
   "toc_position": {
    "height": "calc(100% - 180px)",
    "left": "10px",
    "top": "150px",
    "width": "317.81px"
   },
   "toc_section_display": true,
   "toc_window_display": true
  }
 },
 "nbformat": 4,
 "nbformat_minor": 2
}
